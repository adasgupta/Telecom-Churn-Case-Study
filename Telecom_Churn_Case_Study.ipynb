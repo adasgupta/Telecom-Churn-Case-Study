{
 "cells": [
  {
   "cell_type": "markdown",
   "metadata": {},
   "source": [
    "### Telecom Customer Churn Analysis"
   ]
  },
  {
   "cell_type": "markdown",
   "metadata": {},
   "source": [
    "#### Business Problem Overview\n",
    "In the telecom industry, customers are able to choose from multiple service providers and actively switch from one operator to another. In this highly competitive market, the telecommunications industry experiences an average of 15-25% annual churn rate. Given the fact that it costs 5-10 times more to acquire a new customer than to retain an existing one, customer retention has now become even more important than customer acquisition.\n",
    "For many incumbent operators, retaining high profitable customers is the number one business goal.\n",
    "\n",
    "To reduce customer churn, telecom companies need to predict which customers are at high risk of churn.\n",
    "\n",
    "We will analyse customer-level data of a leading telecom firm, build predictive models to identify customers at high risk of churn and identify the main indicators of churn."
   ]
  },
  {
   "cell_type": "code",
   "execution_count": 1,
   "metadata": {},
   "outputs": [],
   "source": [
    "# Importing necessary libraries\n",
    "import warnings\n",
    "warnings.filterwarnings('ignore')\n",
    "\n",
    "import pandas as pd\n",
    "import numpy as np\n",
    "\n",
    "pd.set_option('display.max_row', 1000)\n",
    "pd.set_option('display.max_columns', 50)\n",
    "\n",
    "import matplotlib.pyplot as plt\n",
    "%matplotlib inline\n",
    "import seaborn as sns\n"
   ]
  },
  {
   "cell_type": "code",
   "execution_count": 2,
   "metadata": {
    "scrolled": true
   },
   "outputs": [
    {
     "data": {
      "text/html": [
       "<div>\n",
       "<style scoped>\n",
       "    .dataframe tbody tr th:only-of-type {\n",
       "        vertical-align: middle;\n",
       "    }\n",
       "\n",
       "    .dataframe tbody tr th {\n",
       "        vertical-align: top;\n",
       "    }\n",
       "\n",
       "    .dataframe thead th {\n",
       "        text-align: right;\n",
       "    }\n",
       "</style>\n",
       "<table border=\"1\" class=\"dataframe\">\n",
       "  <thead>\n",
       "    <tr style=\"text-align: right;\">\n",
       "      <th></th>\n",
       "      <th>mobile_number</th>\n",
       "      <th>circle_id</th>\n",
       "      <th>loc_og_t2o_mou</th>\n",
       "      <th>std_og_t2o_mou</th>\n",
       "      <th>loc_ic_t2o_mou</th>\n",
       "      <th>last_date_of_month_6</th>\n",
       "      <th>last_date_of_month_7</th>\n",
       "      <th>last_date_of_month_8</th>\n",
       "      <th>last_date_of_month_9</th>\n",
       "      <th>arpu_6</th>\n",
       "      <th>arpu_7</th>\n",
       "      <th>arpu_8</th>\n",
       "      <th>arpu_9</th>\n",
       "      <th>onnet_mou_6</th>\n",
       "      <th>onnet_mou_7</th>\n",
       "      <th>onnet_mou_8</th>\n",
       "      <th>onnet_mou_9</th>\n",
       "      <th>offnet_mou_6</th>\n",
       "      <th>offnet_mou_7</th>\n",
       "      <th>offnet_mou_8</th>\n",
       "      <th>offnet_mou_9</th>\n",
       "      <th>roam_ic_mou_6</th>\n",
       "      <th>roam_ic_mou_7</th>\n",
       "      <th>roam_ic_mou_8</th>\n",
       "      <th>roam_ic_mou_9</th>\n",
       "      <th>...</th>\n",
       "      <th>monthly_2g_6</th>\n",
       "      <th>monthly_2g_7</th>\n",
       "      <th>monthly_2g_8</th>\n",
       "      <th>monthly_2g_9</th>\n",
       "      <th>sachet_2g_6</th>\n",
       "      <th>sachet_2g_7</th>\n",
       "      <th>sachet_2g_8</th>\n",
       "      <th>sachet_2g_9</th>\n",
       "      <th>monthly_3g_6</th>\n",
       "      <th>monthly_3g_7</th>\n",
       "      <th>monthly_3g_8</th>\n",
       "      <th>monthly_3g_9</th>\n",
       "      <th>sachet_3g_6</th>\n",
       "      <th>sachet_3g_7</th>\n",
       "      <th>sachet_3g_8</th>\n",
       "      <th>sachet_3g_9</th>\n",
       "      <th>fb_user_6</th>\n",
       "      <th>fb_user_7</th>\n",
       "      <th>fb_user_8</th>\n",
       "      <th>fb_user_9</th>\n",
       "      <th>aon</th>\n",
       "      <th>aug_vbc_3g</th>\n",
       "      <th>jul_vbc_3g</th>\n",
       "      <th>jun_vbc_3g</th>\n",
       "      <th>sep_vbc_3g</th>\n",
       "    </tr>\n",
       "  </thead>\n",
       "  <tbody>\n",
       "    <tr>\n",
       "      <th>0</th>\n",
       "      <td>7000842753</td>\n",
       "      <td>109</td>\n",
       "      <td>0.0</td>\n",
       "      <td>0.0</td>\n",
       "      <td>0.0</td>\n",
       "      <td>6/30/2014</td>\n",
       "      <td>7/31/2014</td>\n",
       "      <td>8/31/2014</td>\n",
       "      <td>9/30/2014</td>\n",
       "      <td>197.385</td>\n",
       "      <td>214.816</td>\n",
       "      <td>213.803</td>\n",
       "      <td>21.100</td>\n",
       "      <td>NaN</td>\n",
       "      <td>NaN</td>\n",
       "      <td>0.00</td>\n",
       "      <td>NaN</td>\n",
       "      <td>NaN</td>\n",
       "      <td>NaN</td>\n",
       "      <td>0.00</td>\n",
       "      <td>NaN</td>\n",
       "      <td>NaN</td>\n",
       "      <td>NaN</td>\n",
       "      <td>0.00</td>\n",
       "      <td>NaN</td>\n",
       "      <td>...</td>\n",
       "      <td>0</td>\n",
       "      <td>0</td>\n",
       "      <td>0</td>\n",
       "      <td>0</td>\n",
       "      <td>0</td>\n",
       "      <td>0</td>\n",
       "      <td>0</td>\n",
       "      <td>0</td>\n",
       "      <td>1</td>\n",
       "      <td>1</td>\n",
       "      <td>1</td>\n",
       "      <td>0</td>\n",
       "      <td>0</td>\n",
       "      <td>0</td>\n",
       "      <td>0</td>\n",
       "      <td>0</td>\n",
       "      <td>1.0</td>\n",
       "      <td>1.0</td>\n",
       "      <td>1.0</td>\n",
       "      <td>NaN</td>\n",
       "      <td>968</td>\n",
       "      <td>30.4</td>\n",
       "      <td>0.0</td>\n",
       "      <td>101.20</td>\n",
       "      <td>3.58</td>\n",
       "    </tr>\n",
       "    <tr>\n",
       "      <th>1</th>\n",
       "      <td>7001865778</td>\n",
       "      <td>109</td>\n",
       "      <td>0.0</td>\n",
       "      <td>0.0</td>\n",
       "      <td>0.0</td>\n",
       "      <td>6/30/2014</td>\n",
       "      <td>7/31/2014</td>\n",
       "      <td>8/31/2014</td>\n",
       "      <td>9/30/2014</td>\n",
       "      <td>34.047</td>\n",
       "      <td>355.074</td>\n",
       "      <td>268.321</td>\n",
       "      <td>86.285</td>\n",
       "      <td>24.11</td>\n",
       "      <td>78.68</td>\n",
       "      <td>7.68</td>\n",
       "      <td>18.34</td>\n",
       "      <td>15.74</td>\n",
       "      <td>99.84</td>\n",
       "      <td>304.76</td>\n",
       "      <td>53.76</td>\n",
       "      <td>0.0</td>\n",
       "      <td>0.00</td>\n",
       "      <td>0.00</td>\n",
       "      <td>0.00</td>\n",
       "      <td>...</td>\n",
       "      <td>0</td>\n",
       "      <td>1</td>\n",
       "      <td>0</td>\n",
       "      <td>0</td>\n",
       "      <td>0</td>\n",
       "      <td>0</td>\n",
       "      <td>2</td>\n",
       "      <td>0</td>\n",
       "      <td>0</td>\n",
       "      <td>0</td>\n",
       "      <td>0</td>\n",
       "      <td>0</td>\n",
       "      <td>0</td>\n",
       "      <td>0</td>\n",
       "      <td>0</td>\n",
       "      <td>0</td>\n",
       "      <td>NaN</td>\n",
       "      <td>1.0</td>\n",
       "      <td>1.0</td>\n",
       "      <td>NaN</td>\n",
       "      <td>1006</td>\n",
       "      <td>0.0</td>\n",
       "      <td>0.0</td>\n",
       "      <td>0.00</td>\n",
       "      <td>0.00</td>\n",
       "    </tr>\n",
       "    <tr>\n",
       "      <th>2</th>\n",
       "      <td>7001625959</td>\n",
       "      <td>109</td>\n",
       "      <td>0.0</td>\n",
       "      <td>0.0</td>\n",
       "      <td>0.0</td>\n",
       "      <td>6/30/2014</td>\n",
       "      <td>7/31/2014</td>\n",
       "      <td>8/31/2014</td>\n",
       "      <td>9/30/2014</td>\n",
       "      <td>167.690</td>\n",
       "      <td>189.058</td>\n",
       "      <td>210.226</td>\n",
       "      <td>290.714</td>\n",
       "      <td>11.54</td>\n",
       "      <td>55.24</td>\n",
       "      <td>37.26</td>\n",
       "      <td>74.81</td>\n",
       "      <td>143.33</td>\n",
       "      <td>220.59</td>\n",
       "      <td>208.36</td>\n",
       "      <td>118.91</td>\n",
       "      <td>0.0</td>\n",
       "      <td>0.00</td>\n",
       "      <td>0.00</td>\n",
       "      <td>38.49</td>\n",
       "      <td>...</td>\n",
       "      <td>0</td>\n",
       "      <td>0</td>\n",
       "      <td>0</td>\n",
       "      <td>0</td>\n",
       "      <td>0</td>\n",
       "      <td>0</td>\n",
       "      <td>0</td>\n",
       "      <td>1</td>\n",
       "      <td>0</td>\n",
       "      <td>0</td>\n",
       "      <td>0</td>\n",
       "      <td>0</td>\n",
       "      <td>0</td>\n",
       "      <td>0</td>\n",
       "      <td>0</td>\n",
       "      <td>0</td>\n",
       "      <td>NaN</td>\n",
       "      <td>NaN</td>\n",
       "      <td>NaN</td>\n",
       "      <td>1.0</td>\n",
       "      <td>1103</td>\n",
       "      <td>0.0</td>\n",
       "      <td>0.0</td>\n",
       "      <td>4.17</td>\n",
       "      <td>0.00</td>\n",
       "    </tr>\n",
       "    <tr>\n",
       "      <th>3</th>\n",
       "      <td>7001204172</td>\n",
       "      <td>109</td>\n",
       "      <td>0.0</td>\n",
       "      <td>0.0</td>\n",
       "      <td>0.0</td>\n",
       "      <td>6/30/2014</td>\n",
       "      <td>7/31/2014</td>\n",
       "      <td>8/31/2014</td>\n",
       "      <td>9/30/2014</td>\n",
       "      <td>221.338</td>\n",
       "      <td>251.102</td>\n",
       "      <td>508.054</td>\n",
       "      <td>389.500</td>\n",
       "      <td>99.91</td>\n",
       "      <td>54.39</td>\n",
       "      <td>310.98</td>\n",
       "      <td>241.71</td>\n",
       "      <td>123.31</td>\n",
       "      <td>109.01</td>\n",
       "      <td>71.68</td>\n",
       "      <td>113.54</td>\n",
       "      <td>0.0</td>\n",
       "      <td>54.86</td>\n",
       "      <td>44.38</td>\n",
       "      <td>0.00</td>\n",
       "      <td>...</td>\n",
       "      <td>0</td>\n",
       "      <td>0</td>\n",
       "      <td>0</td>\n",
       "      <td>0</td>\n",
       "      <td>0</td>\n",
       "      <td>0</td>\n",
       "      <td>0</td>\n",
       "      <td>0</td>\n",
       "      <td>0</td>\n",
       "      <td>0</td>\n",
       "      <td>0</td>\n",
       "      <td>0</td>\n",
       "      <td>0</td>\n",
       "      <td>0</td>\n",
       "      <td>0</td>\n",
       "      <td>0</td>\n",
       "      <td>NaN</td>\n",
       "      <td>NaN</td>\n",
       "      <td>NaN</td>\n",
       "      <td>NaN</td>\n",
       "      <td>2491</td>\n",
       "      <td>0.0</td>\n",
       "      <td>0.0</td>\n",
       "      <td>0.00</td>\n",
       "      <td>0.00</td>\n",
       "    </tr>\n",
       "    <tr>\n",
       "      <th>4</th>\n",
       "      <td>7000142493</td>\n",
       "      <td>109</td>\n",
       "      <td>0.0</td>\n",
       "      <td>0.0</td>\n",
       "      <td>0.0</td>\n",
       "      <td>6/30/2014</td>\n",
       "      <td>7/31/2014</td>\n",
       "      <td>8/31/2014</td>\n",
       "      <td>9/30/2014</td>\n",
       "      <td>261.636</td>\n",
       "      <td>309.876</td>\n",
       "      <td>238.174</td>\n",
       "      <td>163.426</td>\n",
       "      <td>50.31</td>\n",
       "      <td>149.44</td>\n",
       "      <td>83.89</td>\n",
       "      <td>58.78</td>\n",
       "      <td>76.96</td>\n",
       "      <td>91.88</td>\n",
       "      <td>124.26</td>\n",
       "      <td>45.81</td>\n",
       "      <td>0.0</td>\n",
       "      <td>0.00</td>\n",
       "      <td>0.00</td>\n",
       "      <td>0.00</td>\n",
       "      <td>...</td>\n",
       "      <td>0</td>\n",
       "      <td>0</td>\n",
       "      <td>0</td>\n",
       "      <td>0</td>\n",
       "      <td>1</td>\n",
       "      <td>0</td>\n",
       "      <td>0</td>\n",
       "      <td>0</td>\n",
       "      <td>0</td>\n",
       "      <td>0</td>\n",
       "      <td>0</td>\n",
       "      <td>0</td>\n",
       "      <td>0</td>\n",
       "      <td>0</td>\n",
       "      <td>0</td>\n",
       "      <td>0</td>\n",
       "      <td>0.0</td>\n",
       "      <td>NaN</td>\n",
       "      <td>NaN</td>\n",
       "      <td>NaN</td>\n",
       "      <td>1526</td>\n",
       "      <td>0.0</td>\n",
       "      <td>0.0</td>\n",
       "      <td>0.00</td>\n",
       "      <td>0.00</td>\n",
       "    </tr>\n",
       "  </tbody>\n",
       "</table>\n",
       "<p>5 rows × 226 columns</p>\n",
       "</div>"
      ],
      "text/plain": [
       "   mobile_number  circle_id  loc_og_t2o_mou  std_og_t2o_mou  loc_ic_t2o_mou  \\\n",
       "0     7000842753        109             0.0             0.0             0.0   \n",
       "1     7001865778        109             0.0             0.0             0.0   \n",
       "2     7001625959        109             0.0             0.0             0.0   \n",
       "3     7001204172        109             0.0             0.0             0.0   \n",
       "4     7000142493        109             0.0             0.0             0.0   \n",
       "\n",
       "  last_date_of_month_6 last_date_of_month_7 last_date_of_month_8  \\\n",
       "0            6/30/2014            7/31/2014            8/31/2014   \n",
       "1            6/30/2014            7/31/2014            8/31/2014   \n",
       "2            6/30/2014            7/31/2014            8/31/2014   \n",
       "3            6/30/2014            7/31/2014            8/31/2014   \n",
       "4            6/30/2014            7/31/2014            8/31/2014   \n",
       "\n",
       "  last_date_of_month_9   arpu_6   arpu_7   arpu_8   arpu_9  onnet_mou_6  \\\n",
       "0            9/30/2014  197.385  214.816  213.803   21.100          NaN   \n",
       "1            9/30/2014   34.047  355.074  268.321   86.285        24.11   \n",
       "2            9/30/2014  167.690  189.058  210.226  290.714        11.54   \n",
       "3            9/30/2014  221.338  251.102  508.054  389.500        99.91   \n",
       "4            9/30/2014  261.636  309.876  238.174  163.426        50.31   \n",
       "\n",
       "   onnet_mou_7  onnet_mou_8  onnet_mou_9  offnet_mou_6  offnet_mou_7  \\\n",
       "0          NaN         0.00          NaN           NaN           NaN   \n",
       "1        78.68         7.68        18.34         15.74         99.84   \n",
       "2        55.24        37.26        74.81        143.33        220.59   \n",
       "3        54.39       310.98       241.71        123.31        109.01   \n",
       "4       149.44        83.89        58.78         76.96         91.88   \n",
       "\n",
       "   offnet_mou_8  offnet_mou_9  roam_ic_mou_6  roam_ic_mou_7  roam_ic_mou_8  \\\n",
       "0          0.00           NaN            NaN            NaN           0.00   \n",
       "1        304.76         53.76            0.0           0.00           0.00   \n",
       "2        208.36        118.91            0.0           0.00           0.00   \n",
       "3         71.68        113.54            0.0          54.86          44.38   \n",
       "4        124.26         45.81            0.0           0.00           0.00   \n",
       "\n",
       "   roam_ic_mou_9     ...      monthly_2g_6  monthly_2g_7  monthly_2g_8  \\\n",
       "0            NaN     ...                 0             0             0   \n",
       "1           0.00     ...                 0             1             0   \n",
       "2          38.49     ...                 0             0             0   \n",
       "3           0.00     ...                 0             0             0   \n",
       "4           0.00     ...                 0             0             0   \n",
       "\n",
       "   monthly_2g_9  sachet_2g_6  sachet_2g_7  sachet_2g_8  sachet_2g_9  \\\n",
       "0             0            0            0            0            0   \n",
       "1             0            0            0            2            0   \n",
       "2             0            0            0            0            1   \n",
       "3             0            0            0            0            0   \n",
       "4             0            1            0            0            0   \n",
       "\n",
       "   monthly_3g_6  monthly_3g_7  monthly_3g_8  monthly_3g_9  sachet_3g_6  \\\n",
       "0             1             1             1             0            0   \n",
       "1             0             0             0             0            0   \n",
       "2             0             0             0             0            0   \n",
       "3             0             0             0             0            0   \n",
       "4             0             0             0             0            0   \n",
       "\n",
       "   sachet_3g_7  sachet_3g_8  sachet_3g_9  fb_user_6  fb_user_7  fb_user_8  \\\n",
       "0            0            0            0        1.0        1.0        1.0   \n",
       "1            0            0            0        NaN        1.0        1.0   \n",
       "2            0            0            0        NaN        NaN        NaN   \n",
       "3            0            0            0        NaN        NaN        NaN   \n",
       "4            0            0            0        0.0        NaN        NaN   \n",
       "\n",
       "   fb_user_9   aon  aug_vbc_3g  jul_vbc_3g  jun_vbc_3g  sep_vbc_3g  \n",
       "0        NaN   968        30.4         0.0      101.20        3.58  \n",
       "1        NaN  1006         0.0         0.0        0.00        0.00  \n",
       "2        1.0  1103         0.0         0.0        4.17        0.00  \n",
       "3        NaN  2491         0.0         0.0        0.00        0.00  \n",
       "4        NaN  1526         0.0         0.0        0.00        0.00  \n",
       "\n",
       "[5 rows x 226 columns]"
      ]
     },
     "execution_count": 2,
     "metadata": {},
     "output_type": "execute_result"
    }
   ],
   "source": [
    "# Importing telecom data\n",
    "telecom = pd.read_csv('telecom_churn_data.csv')\n",
    "\n",
    "telecom.head()"
   ]
  },
  {
   "cell_type": "markdown",
   "metadata": {},
   "source": [
    "### Filter high-value customers\n",
    "\n",
    " High-value customers are those who have recharged with an amount more than or equal to X, where X is the 70th percentile of the average recharge amount in the first two months (the good phase)."
   ]
  },
  {
   "cell_type": "code",
   "execution_count": 3,
   "metadata": {},
   "outputs": [
    {
     "name": "stdout",
     "output_type": "stream",
     "text": [
      "Shape of dataframe before: (99999, 226)\n",
      "Shape of dataframe after: (30001, 226)\n"
     ]
    }
   ],
   "source": [
    "print(\"Shape of dataframe before:\", telecom.shape)\n",
    "\n",
    "telecom['av_rech_amt_data_6']=np.where(telecom['av_rech_amt_data_6'].isnull(),0,telecom['av_rech_amt_data_6'])\n",
    "telecom['total_rech_data_6']=np.where(telecom['total_rech_data_6'].isnull(),0,telecom['total_rech_data_6'])\n",
    "telecom['av_rech_amt_data_7']=np.where(telecom['av_rech_amt_data_7'].isnull(),0,telecom['av_rech_amt_data_7'])\n",
    "telecom['total_rech_data_7']=np.where(telecom['total_rech_data_7'].isnull(),0,telecom['total_rech_data_7'])\n",
    "\n",
    "telecom['avg_rech_amt_6_and_7'] = (telecom.total_rech_amt_6 + telecom.total_rech_amt_7+\n",
    "                                  (telecom.av_rech_amt_data_6*telecom.total_rech_data_6)+\n",
    "                                   (telecom.av_rech_amt_data_7*telecom.total_rech_data_7))/2\n",
    "\n",
    "telecom = telecom[telecom.avg_rech_amt_6_and_7 >= telecom.avg_rech_amt_6_and_7.quantile(0.7)]\n",
    "\n",
    "# Drop avg_rech_amt_6_and_7 as this can be derived from total_rech_amt_6 and total_rech_amt_7\n",
    "telecom.drop('avg_rech_amt_6_and_7', axis=1, inplace=True)\n",
    "print(\"Shape of dataframe after:\", telecom.shape)"
   ]
  },
  {
   "cell_type": "markdown",
   "metadata": {},
   "source": [
    "### Tag churners and remove attributes of the churn phase"
   ]
  },
  {
   "cell_type": "code",
   "execution_count": 4,
   "metadata": {},
   "outputs": [
    {
     "name": "stdout",
     "output_type": "stream",
     "text": [
      "Shape of dataframe before: (30001, 226)\n",
      "Shape of dataframe after: (30001, 227)\n"
     ]
    },
    {
     "data": {
      "text/html": [
       "<div>\n",
       "<style scoped>\n",
       "    .dataframe tbody tr th:only-of-type {\n",
       "        vertical-align: middle;\n",
       "    }\n",
       "\n",
       "    .dataframe tbody tr th {\n",
       "        vertical-align: top;\n",
       "    }\n",
       "\n",
       "    .dataframe thead th {\n",
       "        text-align: right;\n",
       "    }\n",
       "</style>\n",
       "<table border=\"1\" class=\"dataframe\">\n",
       "  <thead>\n",
       "    <tr style=\"text-align: right;\">\n",
       "      <th></th>\n",
       "      <th>mobile_number</th>\n",
       "      <th>circle_id</th>\n",
       "      <th>loc_og_t2o_mou</th>\n",
       "      <th>std_og_t2o_mou</th>\n",
       "      <th>loc_ic_t2o_mou</th>\n",
       "      <th>last_date_of_month_6</th>\n",
       "      <th>last_date_of_month_7</th>\n",
       "      <th>last_date_of_month_8</th>\n",
       "      <th>last_date_of_month_9</th>\n",
       "      <th>arpu_6</th>\n",
       "      <th>arpu_7</th>\n",
       "      <th>arpu_8</th>\n",
       "      <th>arpu_9</th>\n",
       "      <th>onnet_mou_6</th>\n",
       "      <th>onnet_mou_7</th>\n",
       "      <th>onnet_mou_8</th>\n",
       "      <th>onnet_mou_9</th>\n",
       "      <th>offnet_mou_6</th>\n",
       "      <th>offnet_mou_7</th>\n",
       "      <th>offnet_mou_8</th>\n",
       "      <th>offnet_mou_9</th>\n",
       "      <th>roam_ic_mou_6</th>\n",
       "      <th>roam_ic_mou_7</th>\n",
       "      <th>roam_ic_mou_8</th>\n",
       "      <th>roam_ic_mou_9</th>\n",
       "      <th>...</th>\n",
       "      <th>monthly_2g_7</th>\n",
       "      <th>monthly_2g_8</th>\n",
       "      <th>monthly_2g_9</th>\n",
       "      <th>sachet_2g_6</th>\n",
       "      <th>sachet_2g_7</th>\n",
       "      <th>sachet_2g_8</th>\n",
       "      <th>sachet_2g_9</th>\n",
       "      <th>monthly_3g_6</th>\n",
       "      <th>monthly_3g_7</th>\n",
       "      <th>monthly_3g_8</th>\n",
       "      <th>monthly_3g_9</th>\n",
       "      <th>sachet_3g_6</th>\n",
       "      <th>sachet_3g_7</th>\n",
       "      <th>sachet_3g_8</th>\n",
       "      <th>sachet_3g_9</th>\n",
       "      <th>fb_user_6</th>\n",
       "      <th>fb_user_7</th>\n",
       "      <th>fb_user_8</th>\n",
       "      <th>fb_user_9</th>\n",
       "      <th>aon</th>\n",
       "      <th>aug_vbc_3g</th>\n",
       "      <th>jul_vbc_3g</th>\n",
       "      <th>jun_vbc_3g</th>\n",
       "      <th>sep_vbc_3g</th>\n",
       "      <th>churn</th>\n",
       "    </tr>\n",
       "  </thead>\n",
       "  <tbody>\n",
       "    <tr>\n",
       "      <th>0</th>\n",
       "      <td>7000842753</td>\n",
       "      <td>109</td>\n",
       "      <td>0.0</td>\n",
       "      <td>0.0</td>\n",
       "      <td>0.0</td>\n",
       "      <td>6/30/2014</td>\n",
       "      <td>7/31/2014</td>\n",
       "      <td>8/31/2014</td>\n",
       "      <td>9/30/2014</td>\n",
       "      <td>197.385</td>\n",
       "      <td>214.816</td>\n",
       "      <td>213.803</td>\n",
       "      <td>21.100</td>\n",
       "      <td>NaN</td>\n",
       "      <td>NaN</td>\n",
       "      <td>0.00</td>\n",
       "      <td>NaN</td>\n",
       "      <td>NaN</td>\n",
       "      <td>NaN</td>\n",
       "      <td>0.00</td>\n",
       "      <td>NaN</td>\n",
       "      <td>NaN</td>\n",
       "      <td>NaN</td>\n",
       "      <td>0.00</td>\n",
       "      <td>NaN</td>\n",
       "      <td>...</td>\n",
       "      <td>0</td>\n",
       "      <td>0</td>\n",
       "      <td>0</td>\n",
       "      <td>0</td>\n",
       "      <td>0</td>\n",
       "      <td>0</td>\n",
       "      <td>0</td>\n",
       "      <td>1</td>\n",
       "      <td>1</td>\n",
       "      <td>1</td>\n",
       "      <td>0</td>\n",
       "      <td>0</td>\n",
       "      <td>0</td>\n",
       "      <td>0</td>\n",
       "      <td>0</td>\n",
       "      <td>1.0</td>\n",
       "      <td>1.0</td>\n",
       "      <td>1.0</td>\n",
       "      <td>NaN</td>\n",
       "      <td>968</td>\n",
       "      <td>30.40</td>\n",
       "      <td>0.00</td>\n",
       "      <td>101.20</td>\n",
       "      <td>3.58</td>\n",
       "      <td>1</td>\n",
       "    </tr>\n",
       "    <tr>\n",
       "      <th>7</th>\n",
       "      <td>7000701601</td>\n",
       "      <td>109</td>\n",
       "      <td>0.0</td>\n",
       "      <td>0.0</td>\n",
       "      <td>0.0</td>\n",
       "      <td>6/30/2014</td>\n",
       "      <td>7/31/2014</td>\n",
       "      <td>8/31/2014</td>\n",
       "      <td>9/30/2014</td>\n",
       "      <td>1069.180</td>\n",
       "      <td>1349.850</td>\n",
       "      <td>3171.480</td>\n",
       "      <td>500.000</td>\n",
       "      <td>57.84</td>\n",
       "      <td>54.68</td>\n",
       "      <td>52.29</td>\n",
       "      <td>NaN</td>\n",
       "      <td>453.43</td>\n",
       "      <td>567.16</td>\n",
       "      <td>325.91</td>\n",
       "      <td>NaN</td>\n",
       "      <td>16.23</td>\n",
       "      <td>33.49</td>\n",
       "      <td>31.64</td>\n",
       "      <td>NaN</td>\n",
       "      <td>...</td>\n",
       "      <td>0</td>\n",
       "      <td>0</td>\n",
       "      <td>0</td>\n",
       "      <td>0</td>\n",
       "      <td>0</td>\n",
       "      <td>0</td>\n",
       "      <td>0</td>\n",
       "      <td>0</td>\n",
       "      <td>0</td>\n",
       "      <td>0</td>\n",
       "      <td>0</td>\n",
       "      <td>0</td>\n",
       "      <td>0</td>\n",
       "      <td>0</td>\n",
       "      <td>0</td>\n",
       "      <td>NaN</td>\n",
       "      <td>NaN</td>\n",
       "      <td>NaN</td>\n",
       "      <td>NaN</td>\n",
       "      <td>802</td>\n",
       "      <td>57.74</td>\n",
       "      <td>19.38</td>\n",
       "      <td>18.74</td>\n",
       "      <td>0.00</td>\n",
       "      <td>1</td>\n",
       "    </tr>\n",
       "    <tr>\n",
       "      <th>8</th>\n",
       "      <td>7001524846</td>\n",
       "      <td>109</td>\n",
       "      <td>0.0</td>\n",
       "      <td>0.0</td>\n",
       "      <td>0.0</td>\n",
       "      <td>6/30/2014</td>\n",
       "      <td>7/31/2014</td>\n",
       "      <td>8/31/2014</td>\n",
       "      <td>9/30/2014</td>\n",
       "      <td>378.721</td>\n",
       "      <td>492.223</td>\n",
       "      <td>137.362</td>\n",
       "      <td>166.787</td>\n",
       "      <td>413.69</td>\n",
       "      <td>351.03</td>\n",
       "      <td>35.08</td>\n",
       "      <td>33.46</td>\n",
       "      <td>94.66</td>\n",
       "      <td>80.63</td>\n",
       "      <td>136.48</td>\n",
       "      <td>108.71</td>\n",
       "      <td>0.00</td>\n",
       "      <td>0.00</td>\n",
       "      <td>0.00</td>\n",
       "      <td>0.0</td>\n",
       "      <td>...</td>\n",
       "      <td>1</td>\n",
       "      <td>0</td>\n",
       "      <td>0</td>\n",
       "      <td>0</td>\n",
       "      <td>1</td>\n",
       "      <td>3</td>\n",
       "      <td>0</td>\n",
       "      <td>0</td>\n",
       "      <td>0</td>\n",
       "      <td>0</td>\n",
       "      <td>0</td>\n",
       "      <td>0</td>\n",
       "      <td>0</td>\n",
       "      <td>0</td>\n",
       "      <td>0</td>\n",
       "      <td>NaN</td>\n",
       "      <td>1.0</td>\n",
       "      <td>1.0</td>\n",
       "      <td>NaN</td>\n",
       "      <td>315</td>\n",
       "      <td>21.03</td>\n",
       "      <td>910.65</td>\n",
       "      <td>122.16</td>\n",
       "      <td>0.00</td>\n",
       "      <td>0</td>\n",
       "    </tr>\n",
       "    <tr>\n",
       "      <th>21</th>\n",
       "      <td>7002124215</td>\n",
       "      <td>109</td>\n",
       "      <td>0.0</td>\n",
       "      <td>0.0</td>\n",
       "      <td>0.0</td>\n",
       "      <td>6/30/2014</td>\n",
       "      <td>7/31/2014</td>\n",
       "      <td>8/31/2014</td>\n",
       "      <td>9/30/2014</td>\n",
       "      <td>514.453</td>\n",
       "      <td>597.753</td>\n",
       "      <td>637.760</td>\n",
       "      <td>578.596</td>\n",
       "      <td>102.41</td>\n",
       "      <td>132.11</td>\n",
       "      <td>85.14</td>\n",
       "      <td>161.63</td>\n",
       "      <td>757.93</td>\n",
       "      <td>896.68</td>\n",
       "      <td>983.39</td>\n",
       "      <td>869.89</td>\n",
       "      <td>0.00</td>\n",
       "      <td>0.00</td>\n",
       "      <td>0.00</td>\n",
       "      <td>0.0</td>\n",
       "      <td>...</td>\n",
       "      <td>0</td>\n",
       "      <td>0</td>\n",
       "      <td>0</td>\n",
       "      <td>0</td>\n",
       "      <td>0</td>\n",
       "      <td>0</td>\n",
       "      <td>0</td>\n",
       "      <td>0</td>\n",
       "      <td>0</td>\n",
       "      <td>0</td>\n",
       "      <td>0</td>\n",
       "      <td>0</td>\n",
       "      <td>0</td>\n",
       "      <td>0</td>\n",
       "      <td>0</td>\n",
       "      <td>NaN</td>\n",
       "      <td>NaN</td>\n",
       "      <td>NaN</td>\n",
       "      <td>NaN</td>\n",
       "      <td>720</td>\n",
       "      <td>0.00</td>\n",
       "      <td>0.00</td>\n",
       "      <td>0.00</td>\n",
       "      <td>0.00</td>\n",
       "      <td>0</td>\n",
       "    </tr>\n",
       "    <tr>\n",
       "      <th>23</th>\n",
       "      <td>7000887461</td>\n",
       "      <td>109</td>\n",
       "      <td>0.0</td>\n",
       "      <td>0.0</td>\n",
       "      <td>0.0</td>\n",
       "      <td>6/30/2014</td>\n",
       "      <td>7/31/2014</td>\n",
       "      <td>8/31/2014</td>\n",
       "      <td>9/30/2014</td>\n",
       "      <td>74.350</td>\n",
       "      <td>193.897</td>\n",
       "      <td>366.966</td>\n",
       "      <td>811.480</td>\n",
       "      <td>48.96</td>\n",
       "      <td>50.66</td>\n",
       "      <td>33.58</td>\n",
       "      <td>15.74</td>\n",
       "      <td>85.41</td>\n",
       "      <td>89.36</td>\n",
       "      <td>205.89</td>\n",
       "      <td>111.88</td>\n",
       "      <td>0.00</td>\n",
       "      <td>0.00</td>\n",
       "      <td>0.00</td>\n",
       "      <td>0.0</td>\n",
       "      <td>...</td>\n",
       "      <td>0</td>\n",
       "      <td>0</td>\n",
       "      <td>0</td>\n",
       "      <td>0</td>\n",
       "      <td>0</td>\n",
       "      <td>0</td>\n",
       "      <td>0</td>\n",
       "      <td>0</td>\n",
       "      <td>2</td>\n",
       "      <td>1</td>\n",
       "      <td>1</td>\n",
       "      <td>0</td>\n",
       "      <td>0</td>\n",
       "      <td>1</td>\n",
       "      <td>0</td>\n",
       "      <td>NaN</td>\n",
       "      <td>1.0</td>\n",
       "      <td>1.0</td>\n",
       "      <td>1.0</td>\n",
       "      <td>604</td>\n",
       "      <td>40.45</td>\n",
       "      <td>51.86</td>\n",
       "      <td>0.00</td>\n",
       "      <td>0.00</td>\n",
       "      <td>0</td>\n",
       "    </tr>\n",
       "  </tbody>\n",
       "</table>\n",
       "<p>5 rows × 227 columns</p>\n",
       "</div>"
      ],
      "text/plain": [
       "    mobile_number  circle_id  loc_og_t2o_mou  std_og_t2o_mou  loc_ic_t2o_mou  \\\n",
       "0      7000842753        109             0.0             0.0             0.0   \n",
       "7      7000701601        109             0.0             0.0             0.0   \n",
       "8      7001524846        109             0.0             0.0             0.0   \n",
       "21     7002124215        109             0.0             0.0             0.0   \n",
       "23     7000887461        109             0.0             0.0             0.0   \n",
       "\n",
       "   last_date_of_month_6 last_date_of_month_7 last_date_of_month_8  \\\n",
       "0             6/30/2014            7/31/2014            8/31/2014   \n",
       "7             6/30/2014            7/31/2014            8/31/2014   \n",
       "8             6/30/2014            7/31/2014            8/31/2014   \n",
       "21            6/30/2014            7/31/2014            8/31/2014   \n",
       "23            6/30/2014            7/31/2014            8/31/2014   \n",
       "\n",
       "   last_date_of_month_9    arpu_6    arpu_7    arpu_8   arpu_9  onnet_mou_6  \\\n",
       "0             9/30/2014   197.385   214.816   213.803   21.100          NaN   \n",
       "7             9/30/2014  1069.180  1349.850  3171.480  500.000        57.84   \n",
       "8             9/30/2014   378.721   492.223   137.362  166.787       413.69   \n",
       "21            9/30/2014   514.453   597.753   637.760  578.596       102.41   \n",
       "23            9/30/2014    74.350   193.897   366.966  811.480        48.96   \n",
       "\n",
       "    onnet_mou_7  onnet_mou_8  onnet_mou_9  offnet_mou_6  offnet_mou_7  \\\n",
       "0           NaN         0.00          NaN           NaN           NaN   \n",
       "7         54.68        52.29          NaN        453.43        567.16   \n",
       "8        351.03        35.08        33.46         94.66         80.63   \n",
       "21       132.11        85.14       161.63        757.93        896.68   \n",
       "23        50.66        33.58        15.74         85.41         89.36   \n",
       "\n",
       "    offnet_mou_8  offnet_mou_9  roam_ic_mou_6  roam_ic_mou_7  roam_ic_mou_8  \\\n",
       "0           0.00           NaN            NaN            NaN           0.00   \n",
       "7         325.91           NaN          16.23          33.49          31.64   \n",
       "8         136.48        108.71           0.00           0.00           0.00   \n",
       "21        983.39        869.89           0.00           0.00           0.00   \n",
       "23        205.89        111.88           0.00           0.00           0.00   \n",
       "\n",
       "    roam_ic_mou_9  ...    monthly_2g_7  monthly_2g_8  monthly_2g_9  \\\n",
       "0             NaN  ...               0             0             0   \n",
       "7             NaN  ...               0             0             0   \n",
       "8             0.0  ...               1             0             0   \n",
       "21            0.0  ...               0             0             0   \n",
       "23            0.0  ...               0             0             0   \n",
       "\n",
       "    sachet_2g_6  sachet_2g_7  sachet_2g_8  sachet_2g_9  monthly_3g_6  \\\n",
       "0             0            0            0            0             1   \n",
       "7             0            0            0            0             0   \n",
       "8             0            1            3            0             0   \n",
       "21            0            0            0            0             0   \n",
       "23            0            0            0            0             0   \n",
       "\n",
       "    monthly_3g_7  monthly_3g_8  monthly_3g_9  sachet_3g_6  sachet_3g_7  \\\n",
       "0              1             1             0            0            0   \n",
       "7              0             0             0            0            0   \n",
       "8              0             0             0            0            0   \n",
       "21             0             0             0            0            0   \n",
       "23             2             1             1            0            0   \n",
       "\n",
       "    sachet_3g_8  sachet_3g_9  fb_user_6  fb_user_7  fb_user_8  fb_user_9  aon  \\\n",
       "0             0            0        1.0        1.0        1.0        NaN  968   \n",
       "7             0            0        NaN        NaN        NaN        NaN  802   \n",
       "8             0            0        NaN        1.0        1.0        NaN  315   \n",
       "21            0            0        NaN        NaN        NaN        NaN  720   \n",
       "23            1            0        NaN        1.0        1.0        1.0  604   \n",
       "\n",
       "    aug_vbc_3g  jul_vbc_3g  jun_vbc_3g  sep_vbc_3g  churn  \n",
       "0        30.40        0.00      101.20        3.58      1  \n",
       "7        57.74       19.38       18.74        0.00      1  \n",
       "8        21.03      910.65      122.16        0.00      0  \n",
       "21        0.00        0.00        0.00        0.00      0  \n",
       "23       40.45       51.86        0.00        0.00      0  \n",
       "\n",
       "[5 rows x 227 columns]"
      ]
     },
     "execution_count": 4,
     "metadata": {},
     "output_type": "execute_result"
    }
   ],
   "source": [
    "# Tag churners\n",
    "\n",
    "print(\"Shape of dataframe before:\", telecom.shape)\n",
    "telecom['churn'] = 1\n",
    "\n",
    "telecom.loc[(telecom.total_ic_mou_9 != 0) & (telecom.total_og_mou_9 != 0) &\n",
    "            (telecom.total_og_mou_9 != 0) & (telecom.total_og_mou_9 != 0), 'churn'] = 0 \n",
    "print(\"Shape of dataframe after:\", telecom.shape)\n",
    "telecom.head()"
   ]
  },
  {
   "cell_type": "code",
   "execution_count": 5,
   "metadata": {},
   "outputs": [
    {
     "name": "stdout",
     "output_type": "stream",
     "text": [
      "Shape of dataframe before: (30001, 227)\n",
      "Shape of dataframe after: (30001, 172)\n"
     ]
    }
   ],
   "source": [
    "# Removing attributes corresponding to the churn phase\n",
    "\n",
    "print(\"Shape of dataframe before:\", telecom.shape)\n",
    "col_to_be_droped = []\n",
    "for col in list(telecom.columns.values):\n",
    "    if (col.endswith(\"_9\") | col.startswith(\"sep_\")):\n",
    "        col_to_be_droped.append(col)\n",
    "\n",
    "telecom.drop(col_to_be_droped, axis=1, inplace=True)\n",
    "print(\"Shape of dataframe after:\", telecom.shape)"
   ]
  },
  {
   "cell_type": "markdown",
   "metadata": {},
   "source": [
    "## Data cleaning"
   ]
  },
  {
   "cell_type": "code",
   "execution_count": 6,
   "metadata": {
    "scrolled": false
   },
   "outputs": [
    {
     "data": {
      "text/plain": [
       "std_ic_t2o_mou_6                1\n",
       "circle_id                       1\n",
       "loc_og_t2o_mou                  1\n",
       "std_og_t2o_mou                  1\n",
       "loc_ic_t2o_mou                  1\n",
       "last_date_of_month_6            1\n",
       "last_date_of_month_7            1\n",
       "last_date_of_month_8            1\n",
       "std_ic_t2o_mou_8                1\n",
       "std_og_t2c_mou_8                1\n",
       "std_og_t2c_mou_7                1\n",
       "std_og_t2c_mou_6                1\n",
       "std_ic_t2o_mou_7                1\n",
       "night_pck_user_6                2\n",
       "night_pck_user_7                2\n",
       "night_pck_user_8                2\n",
       "churn                           2\n",
       "fb_user_6                       2\n",
       "fb_user_8                       2\n",
       "fb_user_7                       2\n",
       "monthly_2g_6                    5\n",
       "monthly_2g_8                    6\n",
       "monthly_2g_7                    6\n",
       "monthly_3g_6                   12\n",
       "monthly_3g_8                   12\n",
       "monthly_3g_7                   15\n",
       "sachet_3g_6                    25\n",
       "count_rech_3g_6                25\n",
       "sachet_3g_7                    27\n",
       "count_rech_3g_7                28\n",
       "count_rech_3g_8                29\n",
       "sachet_3g_8                    29\n",
       "date_of_last_rech_data_6       30\n",
       "date_of_last_rech_6            30\n",
       "date_of_last_rech_7            31\n",
       "date_of_last_rech_data_7       31\n",
       "date_of_last_rech_data_8       31\n",
       "sachet_2g_6                    31\n",
       "count_rech_2g_6                31\n",
       "date_of_last_rech_8            31\n",
       "sachet_2g_8                    34\n",
       "count_rech_2g_8                34\n",
       "sachet_2g_7                    35\n",
       "count_rech_2g_7                36\n",
       "total_rech_data_6              38\n",
       "total_rech_data_7              43\n",
       "total_rech_data_8              46\n",
       "max_rech_data_6                47\n",
       "max_rech_data_7                48\n",
       "max_rech_data_8                48\n",
       "spl_ic_mou_6                   78\n",
       "spl_ic_mou_8                   80\n",
       "spl_ic_mou_7                   92\n",
       "total_rech_num_8               96\n",
       "total_rech_num_7              101\n",
       "total_rech_num_6              102\n",
       "og_others_7                   116\n",
       "og_others_8                   131\n",
       "last_day_rch_amt_7            152\n",
       "last_day_rch_amt_6            157\n",
       "max_rech_amt_7                161\n",
       "max_rech_amt_6                172\n",
       "last_day_rch_amt_8            181\n",
       "max_rech_amt_8                182\n",
       "og_others_6                   841\n",
       "av_rech_amt_data_6            871\n",
       "isd_og_mou_8                  886\n",
       "av_rech_amt_data_8            907\n",
       "av_rech_amt_data_7            937\n",
       "isd_og_mou_6                 1031\n",
       "isd_og_mou_7                 1035\n",
       "ic_others_6                  1206\n",
       "ic_others_8                  1249\n",
       "ic_others_7                  1361\n",
       "std_og_t2f_mou_8             1518\n",
       "std_og_t2f_mou_7             1599\n",
       "std_og_t2f_mou_6             1656\n",
       "loc_og_t2c_mou_6             1682\n",
       "loc_og_t2c_mou_8             1723\n",
       "loc_og_t2c_mou_7             1764\n",
       "std_ic_t2f_mou_8             1891\n",
       "std_ic_t2f_mou_6             1959\n",
       "std_ic_t2f_mou_7             2019\n",
       "total_rech_amt_6             2298\n",
       "total_rech_amt_8             2305\n",
       "total_rech_amt_7             2316\n",
       "loc_og_t2f_mou_8             2989\n",
       "spl_og_mou_6                 3050\n",
       "loc_og_t2f_mou_6             3090\n",
       "loc_og_t2f_mou_7             3100\n",
       "spl_og_mou_8                 3193\n",
       "isd_ic_mou_6                 3284\n",
       "aon                          3294\n",
       "spl_og_mou_7                 3317\n",
       "isd_ic_mou_8                 3357\n",
       "roam_ic_mou_7                3385\n",
       "roam_ic_mou_8                3433\n",
       "isd_ic_mou_7                 3489\n",
       "roam_og_mou_7                3994\n",
       "roam_og_mou_8                4001\n",
       "roam_ic_mou_6                4048\n",
       "std_ic_t2t_mou_8             4264\n",
       "std_ic_t2t_mou_6             4400\n",
       "std_ic_t2t_mou_7             4471\n",
       "loc_ic_t2f_mou_8             4655\n",
       "roam_og_mou_6                4744\n",
       "loc_ic_t2f_mou_6             4752\n",
       "arpu_2g_8                    4778\n",
       "loc_ic_t2f_mou_7             4818\n",
       "arpu_2g_7                    5420\n",
       "arpu_2g_6                    5776\n",
       "arpu_3g_8                    6010\n",
       "std_ic_t2m_mou_8             6117\n",
       "arpu_3g_7                    6213\n",
       "arpu_3g_6                    6330\n",
       "std_ic_t2m_mou_6             6356\n",
       "std_ic_t2m_mou_7             6455\n",
       "std_ic_mou_8                 7690\n",
       "std_ic_mou_6                 8022\n",
       "std_ic_mou_7                 8139\n",
       "jun_vbc_3g                   9285\n",
       "loc_ic_t2t_mou_8             9363\n",
       "loc_ic_t2t_mou_6             9506\n",
       "loc_ic_t2t_mou_7             9658\n",
       "aug_vbc_3g                   9840\n",
       "jul_vbc_3g                  10007\n",
       "loc_og_t2t_mou_8            10063\n",
       "vol_3g_mb_8                 10115\n",
       "vol_2g_mb_8                 10205\n",
       "std_og_t2t_mou_8            10251\n",
       "vol_3g_mb_6                 10262\n",
       "loc_og_t2t_mou_7            10394\n",
       "loc_og_t2t_mou_6            10420\n",
       "vol_3g_mb_7                 10839\n",
       "std_og_t2t_mou_6            11102\n",
       "vol_2g_mb_7                 11228\n",
       "std_og_t2t_mou_7            11254\n",
       "vol_2g_mb_6                 11311\n",
       "std_og_t2m_mou_8            11803\n",
       "std_og_t2m_mou_6            12875\n",
       "std_og_t2m_mou_7            12888\n",
       "std_og_mou_8                14719\n",
       "loc_ic_t2m_mou_8            15122\n",
       "loc_og_t2m_mou_8            15130\n",
       "loc_ic_t2m_mou_6            15461\n",
       "loc_ic_t2m_mou_7            15547\n",
       "loc_og_t2m_mou_6            15625\n",
       "loc_og_t2m_mou_7            15674\n",
       "onnet_mou_8                 15872\n",
       "std_og_mou_6                15922\n",
       "std_og_mou_7                15958\n",
       "onnet_mou_6                 16890\n",
       "onnet_mou_7                 16987\n",
       "loc_og_mou_8                17582\n",
       "loc_ic_mou_8                18069\n",
       "loc_og_mou_6                18348\n",
       "loc_ic_mou_7                18496\n",
       "loc_og_mou_7                18502\n",
       "loc_ic_mou_6                18524\n",
       "total_ic_mou_8              19581\n",
       "total_ic_mou_6              20121\n",
       "total_ic_mou_7              20161\n",
       "offnet_mou_8                20163\n",
       "offnet_mou_6                21220\n",
       "offnet_mou_7                21263\n",
       "total_og_mou_8              22316\n",
       "total_og_mou_6              23519\n",
       "total_og_mou_7              23684\n",
       "arpu_8                      28073\n",
       "arpu_6                      29072\n",
       "arpu_7                      29084\n",
       "mobile_number               30001\n",
       "dtype: int64"
      ]
     },
     "execution_count": 6,
     "metadata": {},
     "output_type": "execute_result"
    }
   ],
   "source": [
    "# Checking the number of unique values in each column\n",
    "telecom.nunique().sort_values()"
   ]
  },
  {
   "cell_type": "markdown",
   "metadata": {},
   "source": [
    "### Dropping variables \n",
    "<br> Dropping the following variables :\n",
    "1. mobile_number : unique identification of a customer\n",
    "2. circle_id : same value for all customers\n",
    "3. Unique element count of following variables is 1 <br>\n",
    "           \n",
    "    - circle_id \n",
    "    \n",
    "    - loc_og_t2o_mou \n",
    "    - loc_ic_t2o_mou\n",
    "    - std_og_t2o_mou                 \n",
    "\n",
    "    - last_date_of_month_6            \n",
    "    - last_date_of_month_7            \n",
    "    - last_date_of_month_8           \n",
    "\n",
    "    - std_og_t2c_mou_6 \n",
    "    - std_og_t2c_mou_7\n",
    "    - std_og_t2c_mou_8                \n",
    "\n",
    "    - std_ic_t2o_mou_6\n",
    "    - std_ic_t2o_mou_7\n",
    "    - std_ic_t2o_mou_8 \n",
    "4. Date of last recharges as they don't add value\n",
    " "
   ]
  },
  {
   "cell_type": "code",
   "execution_count": 7,
   "metadata": {},
   "outputs": [
    {
     "name": "stdout",
     "output_type": "stream",
     "text": [
      "Shape of dataframe before: (30001, 172)\n",
      "Shape of dataframe after: (30001, 155)\n"
     ]
    }
   ],
   "source": [
    "print(\"Shape of dataframe before:\", telecom.shape)\n",
    "\n",
    "# Droping columns whose unique element count is 1\n",
    "col_to_be_dropped = ['loc_og_t2o_mou','loc_ic_t2o_mou','std_og_t2o_mou',\\\n",
    "                     'std_og_t2c_mou_6','std_og_t2c_mou_7','std_og_t2c_mou_8',\\\n",
    "                     'std_ic_t2o_mou_6','std_ic_t2o_mou_7','std_ic_t2o_mou_8',\\\n",
    "                     'last_date_of_month_6','last_date_of_month_7','last_date_of_month_8',\\\n",
    "                     'date_of_last_rech_6','date_of_last_rech_7','date_of_last_rech_8']\n",
    "\n",
    "# Dropping mobile_number which is unique for every record\n",
    "col_to_be_dropped.append('mobile_number')\n",
    "\n",
    "# Dropping circle id which is same for all records\n",
    "col_to_be_dropped.append('circle_id')\n",
    "\n",
    "telecom.drop(col_to_be_dropped, axis=1, inplace=True)\n",
    "print(\"Shape of dataframe after:\", telecom.shape)"
   ]
  },
  {
   "cell_type": "code",
   "execution_count": 8,
   "metadata": {
    "scrolled": false
   },
   "outputs": [],
   "source": [
    "# List out all the columns\n",
    "#list(telecom)"
   ]
  },
  {
   "cell_type": "markdown",
   "metadata": {},
   "source": [
    "## Derived variables"
   ]
  },
  {
   "cell_type": "markdown",
   "metadata": {},
   "source": [
    "> On analyzing the data, the following observations were made (Same apply for 7th and 8th month columns)\n",
    "<pre>\n",
    "loc_og_mou_6   = (loc_og_t2t_mou_6 + loc_og_t2m_mou_6 + loc_og_t2f_mou_6)\n",
    "std_og_mou_6   = (std_og_t2t_mou_6 + std_og_t2m_mou_6 + std_og_t2f_mou_6)\n",
    "total_og_mou_6 = (loc_og_mou_6 + std_og_mou_6 + isd_og_mou_6 + spl_og_mou_6 + og_others_6)\n",
    "loc_ic_mou_6   = (loc_ic_t2t_mou_6 + loc_ic_t2m_mou_6 + loc_ic_t2f_mou_6)\n",
    "std_ic_mou_6   = (std_ic_t2t_mou_6 + std_ic_t2m_mou_6 + std_ic_t2f_mou_6)\n",
    "total_ic_mou_6 = (loc_ic_mou_6 + std_ic_mou_6 + spl_ic_mou_6 + isd_ic_mou_6 + ic_others_6)\n",
    "total_rech_data_6= count_rech_2g_6+count_rech_3g_6\n",
    "</pre>\n",
    ">Let's drop the features on the right side of the equation above as they can be expressed as their totals given on the left-hand side:\n",
    "<pre>\n",
    "   loc_og_t2t_mou_6,loc_og_t2m_mou_6,loc_og_t2f_mou_6,std_og_t2t_mou_6,std_og_t2m_mou_6,std_og_t2f_mou_6,\n",
    "   loc_og_mou_6,std_og_mou_6,isd_og_mou_6,spl_og_mou_6,og_others_6,loc_ic_t2t_mou_6,loc_ic_t2m_mou_6,\n",
    "   loc_ic_t2f_mou_6,std_ic_t2t_mou_6,std_ic_t2m_mou_6,std_ic_t2f_mou_6,loc_ic_mou_6,std_ic_mou_6,spl_ic_mou_6,\n",
    "   isd_ic_mou_6,ic_others_6,count_rech_2g_6,count_rech_3g_6\n",
    "   ( + Variables for 7th and 8th months )\n",
    "\n",
    "</pre>"
   ]
  },
  {
   "cell_type": "code",
   "execution_count": 9,
   "metadata": {
    "scrolled": false
   },
   "outputs": [
    {
     "data": {
      "text/html": [
       "<div>\n",
       "<style scoped>\n",
       "    .dataframe tbody tr th:only-of-type {\n",
       "        vertical-align: middle;\n",
       "    }\n",
       "\n",
       "    .dataframe tbody tr th {\n",
       "        vertical-align: top;\n",
       "    }\n",
       "\n",
       "    .dataframe thead th {\n",
       "        text-align: right;\n",
       "    }\n",
       "</style>\n",
       "<table border=\"1\" class=\"dataframe\">\n",
       "  <thead>\n",
       "    <tr style=\"text-align: right;\">\n",
       "      <th></th>\n",
       "      <th>loc_og_mou_6_calculated</th>\n",
       "      <th>loc_og_mou_6</th>\n",
       "      <th>std_og_mou_6_calculated</th>\n",
       "      <th>std_og_mou_6</th>\n",
       "      <th>std_ic_mou_6_calculated</th>\n",
       "      <th>std_ic_mou_6</th>\n",
       "      <th>loc_ic_mou_6_calculated</th>\n",
       "      <th>loc_ic_mou_6</th>\n",
       "    </tr>\n",
       "  </thead>\n",
       "  <tbody>\n",
       "    <tr>\n",
       "      <th>0</th>\n",
       "      <td>NaN</td>\n",
       "      <td>NaN</td>\n",
       "      <td>NaN</td>\n",
       "      <td>NaN</td>\n",
       "      <td>NaN</td>\n",
       "      <td>NaN</td>\n",
       "      <td>NaN</td>\n",
       "      <td>NaN</td>\n",
       "    </tr>\n",
       "    <tr>\n",
       "      <th>7</th>\n",
       "      <td>422.15</td>\n",
       "      <td>422.16</td>\n",
       "      <td>60.85</td>\n",
       "      <td>60.86</td>\n",
       "      <td>180.52</td>\n",
       "      <td>180.54</td>\n",
       "      <td>427.86</td>\n",
       "      <td>427.88</td>\n",
       "    </tr>\n",
       "    <tr>\n",
       "      <th>8</th>\n",
       "      <td>378.09</td>\n",
       "      <td>378.09</td>\n",
       "      <td>130.25</td>\n",
       "      <td>130.26</td>\n",
       "      <td>22.43</td>\n",
       "      <td>22.43</td>\n",
       "      <td>81.42</td>\n",
       "      <td>81.43</td>\n",
       "    </tr>\n",
       "    <tr>\n",
       "      <th>21</th>\n",
       "      <td>97.04</td>\n",
       "      <td>97.04</td>\n",
       "      <td>763.29</td>\n",
       "      <td>763.29</td>\n",
       "      <td>81.75</td>\n",
       "      <td>81.76</td>\n",
       "      <td>125.32</td>\n",
       "      <td>125.33</td>\n",
       "    </tr>\n",
       "    <tr>\n",
       "      <th>23</th>\n",
       "      <td>131.90</td>\n",
       "      <td>131.91</td>\n",
       "      <td>2.36</td>\n",
       "      <td>2.36</td>\n",
       "      <td>2.94</td>\n",
       "      <td>2.94</td>\n",
       "      <td>116.62</td>\n",
       "      <td>116.63</td>\n",
       "    </tr>\n",
       "    <tr>\n",
       "      <th>33</th>\n",
       "      <td>0.00</td>\n",
       "      <td>0.00</td>\n",
       "      <td>0.00</td>\n",
       "      <td>0.00</td>\n",
       "      <td>3.18</td>\n",
       "      <td>3.18</td>\n",
       "      <td>3.48</td>\n",
       "      <td>3.48</td>\n",
       "    </tr>\n",
       "    <tr>\n",
       "      <th>38</th>\n",
       "      <td>63.64</td>\n",
       "      <td>63.64</td>\n",
       "      <td>274.20</td>\n",
       "      <td>274.21</td>\n",
       "      <td>24.10</td>\n",
       "      <td>24.11</td>\n",
       "      <td>46.67</td>\n",
       "      <td>46.68</td>\n",
       "    </tr>\n",
       "    <tr>\n",
       "      <th>41</th>\n",
       "      <td>283.22</td>\n",
       "      <td>283.24</td>\n",
       "      <td>34.68</td>\n",
       "      <td>34.68</td>\n",
       "      <td>0.00</td>\n",
       "      <td>0.00</td>\n",
       "      <td>83.42</td>\n",
       "      <td>83.43</td>\n",
       "    </tr>\n",
       "    <tr>\n",
       "      <th>48</th>\n",
       "      <td>1642.62</td>\n",
       "      <td>1642.58</td>\n",
       "      <td>1506.80</td>\n",
       "      <td>1506.81</td>\n",
       "      <td>38.15</td>\n",
       "      <td>38.16</td>\n",
       "      <td>1212.37</td>\n",
       "      <td>1212.39</td>\n",
       "    </tr>\n",
       "    <tr>\n",
       "      <th>53</th>\n",
       "      <td>359.66</td>\n",
       "      <td>357.03</td>\n",
       "      <td>30.66</td>\n",
       "      <td>30.66</td>\n",
       "      <td>255.14</td>\n",
       "      <td>255.14</td>\n",
       "      <td>592.08</td>\n",
       "      <td>592.09</td>\n",
       "    </tr>\n",
       "  </tbody>\n",
       "</table>\n",
       "</div>"
      ],
      "text/plain": [
       "    loc_og_mou_6_calculated  loc_og_mou_6  std_og_mou_6_calculated  \\\n",
       "0                       NaN           NaN                      NaN   \n",
       "7                    422.15        422.16                    60.85   \n",
       "8                    378.09        378.09                   130.25   \n",
       "21                    97.04         97.04                   763.29   \n",
       "23                   131.90        131.91                     2.36   \n",
       "33                     0.00          0.00                     0.00   \n",
       "38                    63.64         63.64                   274.20   \n",
       "41                   283.22        283.24                    34.68   \n",
       "48                  1642.62       1642.58                  1506.80   \n",
       "53                   359.66        357.03                    30.66   \n",
       "\n",
       "    std_og_mou_6  std_ic_mou_6_calculated  std_ic_mou_6  \\\n",
       "0            NaN                      NaN           NaN   \n",
       "7          60.86                   180.52        180.54   \n",
       "8         130.26                    22.43         22.43   \n",
       "21        763.29                    81.75         81.76   \n",
       "23          2.36                     2.94          2.94   \n",
       "33          0.00                     3.18          3.18   \n",
       "38        274.21                    24.10         24.11   \n",
       "41         34.68                     0.00          0.00   \n",
       "48       1506.81                    38.15         38.16   \n",
       "53         30.66                   255.14        255.14   \n",
       "\n",
       "    loc_ic_mou_6_calculated  loc_ic_mou_6  \n",
       "0                       NaN           NaN  \n",
       "7                    427.86        427.88  \n",
       "8                     81.42         81.43  \n",
       "21                   125.32        125.33  \n",
       "23                   116.62        116.63  \n",
       "33                     3.48          3.48  \n",
       "38                    46.67         46.68  \n",
       "41                    83.42         83.43  \n",
       "48                  1212.37       1212.39  \n",
       "53                   592.08        592.09  "
      ]
     },
     "execution_count": 9,
     "metadata": {},
     "output_type": "execute_result"
    }
   ],
   "source": [
    "#verifying the below equations:\n",
    "#loc_og_mou_6   = (loc_og_t2t_mou_6 + loc_og_t2m_mou_6 + loc_og_t2f_mou_6)\n",
    "#std_og_mou_6   = (std_og_t2t_mou_6 + std_og_t2m_mou_6 + std_og_t2f_mou_6)\n",
    "#loc_ic_mou_6   = (loc_ic_t2t_mou_6 + loc_ic_t2m_mou_6 + loc_ic_t2f_mou_6)\n",
    "#std_ic_mou_6   = (std_ic_t2t_mou_6 + std_ic_t2m_mou_6 + std_ic_t2f_mou_6)\n",
    "\n",
    "\n",
    "telecom['loc_og_mou_6_calculated'] = telecom['loc_og_t2t_mou_6']+telecom['loc_og_t2m_mou_6']+telecom['loc_og_t2f_mou_6']+telecom['loc_og_t2c_mou_6']\n",
    "telecom['std_og_mou_6_calculated'] = telecom['std_og_t2t_mou_6']+telecom['std_og_t2m_mou_6']+telecom['std_og_t2f_mou_6']\n",
    "telecom['std_ic_mou_6_calculated'] = telecom['std_ic_t2t_mou_6']+telecom['std_ic_t2m_mou_6']+telecom['std_ic_t2f_mou_6']\n",
    "telecom['loc_ic_mou_6_calculated'] = telecom['loc_ic_t2t_mou_6']+telecom['loc_ic_t2m_mou_6']+telecom['loc_ic_t2f_mou_6']\n",
    "\n",
    "telecom[['loc_og_mou_6_calculated','loc_og_mou_6','std_og_mou_6_calculated','std_og_mou_6','std_ic_mou_6_calculated','std_ic_mou_6','loc_ic_mou_6_calculated','loc_ic_mou_6']].head(10)\n"
   ]
  },
  {
   "cell_type": "code",
   "execution_count": 10,
   "metadata": {
    "scrolled": false
   },
   "outputs": [
    {
     "data": {
      "text/html": [
       "<div>\n",
       "<style scoped>\n",
       "    .dataframe tbody tr th:only-of-type {\n",
       "        vertical-align: middle;\n",
       "    }\n",
       "\n",
       "    .dataframe tbody tr th {\n",
       "        vertical-align: top;\n",
       "    }\n",
       "\n",
       "    .dataframe thead th {\n",
       "        text-align: right;\n",
       "    }\n",
       "</style>\n",
       "<table border=\"1\" class=\"dataframe\">\n",
       "  <thead>\n",
       "    <tr style=\"text-align: right;\">\n",
       "      <th></th>\n",
       "      <th>total_og_mou_6_calculated</th>\n",
       "      <th>total_og_mou_6</th>\n",
       "      <th>total_ic_mou_6_calculated</th>\n",
       "      <th>total_ic_mou_6</th>\n",
       "      <th>total_rech_data_6_calculated</th>\n",
       "      <th>total_rech_data_6</th>\n",
       "    </tr>\n",
       "  </thead>\n",
       "  <tbody>\n",
       "    <tr>\n",
       "      <th>0</th>\n",
       "      <td>NaN</td>\n",
       "      <td>0.00</td>\n",
       "      <td>NaN</td>\n",
       "      <td>0.00</td>\n",
       "      <td>1.0</td>\n",
       "      <td>1.0</td>\n",
       "    </tr>\n",
       "    <tr>\n",
       "      <th>7</th>\n",
       "      <td>487.52</td>\n",
       "      <td>487.53</td>\n",
       "      <td>626.43</td>\n",
       "      <td>626.46</td>\n",
       "      <td>NaN</td>\n",
       "      <td>0.0</td>\n",
       "    </tr>\n",
       "    <tr>\n",
       "      <th>8</th>\n",
       "      <td>508.35</td>\n",
       "      <td>508.36</td>\n",
       "      <td>103.86</td>\n",
       "      <td>103.86</td>\n",
       "      <td>NaN</td>\n",
       "      <td>0.0</td>\n",
       "    </tr>\n",
       "    <tr>\n",
       "      <th>21</th>\n",
       "      <td>860.33</td>\n",
       "      <td>860.34</td>\n",
       "      <td>207.09</td>\n",
       "      <td>207.09</td>\n",
       "      <td>NaN</td>\n",
       "      <td>0.0</td>\n",
       "    </tr>\n",
       "    <tr>\n",
       "      <th>23</th>\n",
       "      <td>134.37</td>\n",
       "      <td>134.38</td>\n",
       "      <td>119.57</td>\n",
       "      <td>119.58</td>\n",
       "      <td>NaN</td>\n",
       "      <td>0.0</td>\n",
       "    </tr>\n",
       "    <tr>\n",
       "      <th>33</th>\n",
       "      <td>0.00</td>\n",
       "      <td>0.00</td>\n",
       "      <td>7.89</td>\n",
       "      <td>7.89</td>\n",
       "      <td>5.0</td>\n",
       "      <td>5.0</td>\n",
       "    </tr>\n",
       "    <tr>\n",
       "      <th>38</th>\n",
       "      <td>337.85</td>\n",
       "      <td>337.86</td>\n",
       "      <td>70.79</td>\n",
       "      <td>70.79</td>\n",
       "      <td>NaN</td>\n",
       "      <td>0.0</td>\n",
       "    </tr>\n",
       "    <tr>\n",
       "      <th>41</th>\n",
       "      <td>318.74</td>\n",
       "      <td>318.76</td>\n",
       "      <td>278.30</td>\n",
       "      <td>278.31</td>\n",
       "      <td>NaN</td>\n",
       "      <td>0.0</td>\n",
       "    </tr>\n",
       "    <tr>\n",
       "      <th>48</th>\n",
       "      <td>3152.42</td>\n",
       "      <td>3152.43</td>\n",
       "      <td>1250.55</td>\n",
       "      <td>1250.56</td>\n",
       "      <td>NaN</td>\n",
       "      <td>0.0</td>\n",
       "    </tr>\n",
       "    <tr>\n",
       "      <th>53</th>\n",
       "      <td>614.44</td>\n",
       "      <td>614.46</td>\n",
       "      <td>847.76</td>\n",
       "      <td>847.78</td>\n",
       "      <td>4.0</td>\n",
       "      <td>4.0</td>\n",
       "    </tr>\n",
       "  </tbody>\n",
       "</table>\n",
       "</div>"
      ],
      "text/plain": [
       "    total_og_mou_6_calculated  total_og_mou_6  total_ic_mou_6_calculated  \\\n",
       "0                         NaN            0.00                        NaN   \n",
       "7                      487.52          487.53                     626.43   \n",
       "8                      508.35          508.36                     103.86   \n",
       "21                     860.33          860.34                     207.09   \n",
       "23                     134.37          134.38                     119.57   \n",
       "33                       0.00            0.00                       7.89   \n",
       "38                     337.85          337.86                      70.79   \n",
       "41                     318.74          318.76                     278.30   \n",
       "48                    3152.42         3152.43                    1250.55   \n",
       "53                     614.44          614.46                     847.76   \n",
       "\n",
       "    total_ic_mou_6  total_rech_data_6_calculated  total_rech_data_6  \n",
       "0             0.00                           1.0                1.0  \n",
       "7           626.46                           NaN                0.0  \n",
       "8           103.86                           NaN                0.0  \n",
       "21          207.09                           NaN                0.0  \n",
       "23          119.58                           NaN                0.0  \n",
       "33            7.89                           5.0                5.0  \n",
       "38           70.79                           NaN                0.0  \n",
       "41          278.31                           NaN                0.0  \n",
       "48         1250.56                           NaN                0.0  \n",
       "53          847.78                           4.0                4.0  "
      ]
     },
     "execution_count": 10,
     "metadata": {},
     "output_type": "execute_result"
    }
   ],
   "source": [
    "#Verifying the below equations:\n",
    "#total_og_mou_6 = (loc_og_mou_6 + std_og_mou_6 + isd_og_mou_6 + spl_og_mou_6 + og_others_6)\n",
    "#total_ic_mou_6 = (loc_ic_mou_6 + std_ic_mou_6 + isd_ic_mou_6 + spl_ic_mou_6 + ic_others_6)\n",
    "#total_rech_data_6= count_rech_2g_6+count_rech_3g_6\n",
    "\n",
    "telecom['total_og_mou_6_calculated'] = telecom['loc_og_mou_6']+telecom['std_og_mou_6']+telecom['isd_og_mou_6']+telecom['spl_og_mou_6']+telecom['og_others_6']\n",
    "telecom['total_ic_mou_6_calculated'] = telecom['loc_ic_mou_6'] + telecom['std_ic_mou_6']+ telecom['spl_ic_mou_6']+ telecom['isd_ic_mou_6']+telecom['ic_others_6']\n",
    "telecom['total_rech_data_6_calculated'] = telecom['count_rech_2g_6'] + telecom['count_rech_3g_6']\n",
    "\n",
    "telecom[['total_og_mou_6_calculated','total_og_mou_6','total_ic_mou_6_calculated','total_ic_mou_6','total_rech_data_6_calculated','total_rech_data_6' ]].head(10)"
   ]
  },
  {
   "cell_type": "code",
   "execution_count": 11,
   "metadata": {
    "scrolled": false
   },
   "outputs": [
    {
     "name": "stdout",
     "output_type": "stream",
     "text": [
      "Shape of dataframe before: (30001, 162)\n",
      "79\n",
      "Shape of dataframe after: (30001, 83)\n"
     ]
    }
   ],
   "source": [
    "print(\"Shape of dataframe before:\", telecom.shape)\n",
    "cols_to_be_droped_6 = ['loc_og_t2t_mou_6','loc_og_t2m_mou_6','loc_og_t2f_mou_6','std_og_t2t_mou_6',\n",
    "                    'std_og_t2m_mou_6','std_og_t2f_mou_6','loc_og_mou_6','std_og_mou_6',\n",
    "                    'isd_og_mou_6','spl_og_mou_6','og_others_6','loc_ic_t2t_mou_6','loc_ic_t2m_mou_6',\n",
    "                    'loc_ic_t2f_mou_6','std_ic_t2t_mou_6','std_ic_t2m_mou_6','std_ic_t2f_mou_6','loc_ic_mou_6',\n",
    "                    'std_ic_mou_6','spl_ic_mou_6','isd_ic_mou_6','ic_others_6','count_rech_2g_6','count_rech_3g_6']\n",
    "\n",
    "cols_to_be_droped_7 = ['loc_og_t2t_mou_7','loc_og_t2m_mou_7','loc_og_t2f_mou_7','std_og_t2t_mou_7',\n",
    "                    'std_og_t2m_mou_7','std_og_t2f_mou_7','loc_og_mou_7','std_og_mou_7',\n",
    "                    'isd_og_mou_7','spl_og_mou_7','og_others_7','loc_ic_t2t_mou_7','loc_ic_t2m_mou_7',\n",
    "                    'loc_ic_t2f_mou_7','std_ic_t2t_mou_7','std_ic_t2m_mou_7','std_ic_t2f_mou_7','loc_ic_mou_7',\n",
    "                    'std_ic_mou_7','spl_ic_mou_7','isd_ic_mou_7','ic_others_7','count_rech_2g_7','count_rech_3g_7']\n",
    "\n",
    "cols_to_be_droped_8 = ['loc_og_t2t_mou_8','loc_og_t2m_mou_8','loc_og_t2f_mou_8','std_og_t2t_mou_8',\n",
    "                    'std_og_t2m_mou_8','std_og_t2f_mou_8','loc_og_mou_8','std_og_mou_8',\n",
    "                    'isd_og_mou_8','spl_og_mou_8','og_others_8','loc_ic_t2t_mou_8','loc_ic_t2m_mou_8',\n",
    "                    'loc_ic_t2f_mou_8','std_ic_t2t_mou_8','std_ic_t2m_mou_8','std_ic_t2f_mou_8','loc_ic_mou_8',\n",
    "                    'std_ic_mou_8','spl_ic_mou_8','isd_ic_mou_8','ic_others_8','count_rech_2g_8','count_rech_3g_8']\n",
    "\n",
    "calculated_cols = ['loc_og_mou_6_calculated','std_og_mou_6_calculated','std_ic_mou_6_calculated','loc_ic_mou_6_calculated',\\\n",
    "                    'total_og_mou_6_calculated','total_ic_mou_6_calculated','total_rech_data_6_calculated']\n",
    "\n",
    "cols_to_be_droped = cols_to_be_droped_6 + cols_to_be_droped_7 + cols_to_be_droped_8 + calculated_cols\n",
    "print(len(cols_to_be_droped) )                                 \n",
    "telecom.drop(cols_to_be_droped, axis=1, inplace=True)\n",
    "print(\"Shape of dataframe after:\", telecom.shape)\n"
   ]
  },
  {
   "cell_type": "code",
   "execution_count": 12,
   "metadata": {},
   "outputs": [],
   "source": [
    "#list(telecom)"
   ]
  },
  {
   "cell_type": "markdown",
   "metadata": {},
   "source": [
    "### avg_arpu_6_7 : _Average revenue per user for months 6 and 7_ \n",
    "### Total_arpu_8 : _Total revenue per user for month 8_\n"
   ]
  },
  {
   "cell_type": "code",
   "execution_count": 13,
   "metadata": {},
   "outputs": [
    {
     "data": {
      "text/plain": [
       "(30001, 76)"
      ]
     },
     "execution_count": 13,
     "metadata": {},
     "output_type": "execute_result"
    }
   ],
   "source": [
    "# Deriving average arpu for both call and data for the months 6,7 and total for month 8  \n",
    "telecom['avg_arpu_6_7'] = (telecom['arpu_6'] + telecom['arpu_7'] + telecom['arpu_2g_6'] + telecom['arpu_2g_7'] + telecom['arpu_3g_6'] + telecom['arpu_3g_7'])/2 \n",
    "telecom['total_arpu_8'] = telecom['arpu_8'] + telecom['arpu_2g_8'] + telecom['arpu_3g_8']\n",
    "\n",
    "# Dropping the individual arpu columns as they are now redundant\n",
    "cols_to_be_droped = ['arpu_6','arpu_7','arpu_2g_6','arpu_2g_7','arpu_3g_6','arpu_3g_7','arpu_8','arpu_2g_8',\\\n",
    "                     'arpu_3g_8']\n",
    "telecom.drop(cols_to_be_droped, axis=1, inplace=True)\n",
    "telecom.shape"
   ]
  },
  {
   "cell_type": "markdown",
   "metadata": {},
   "source": [
    "### avg_loc_og_t2c_mou_6_7 : _Average local calls to customer care for months 6 and 7_ "
   ]
  },
  {
   "cell_type": "code",
   "execution_count": 14,
   "metadata": {},
   "outputs": [
    {
     "data": {
      "text/plain": [
       "(30001, 75)"
      ]
     },
     "execution_count": 14,
     "metadata": {},
     "output_type": "execute_result"
    }
   ],
   "source": [
    "# Deriving average local calls to customer care for months 6 and 7\n",
    "telecom['avg_loc_og_t2c_mou_6_7'] = (telecom['loc_og_t2c_mou_6'] + telecom['loc_og_t2c_mou_7'])/2 \n",
    "\n",
    "# Dropping the individual columns as they are now redundant\n",
    "cols_to_be_droped = ['loc_og_t2c_mou_6','loc_og_t2c_mou_7']\n",
    "telecom.drop(cols_to_be_droped, axis=1, inplace=True)\n",
    "telecom.shape\n"
   ]
  },
  {
   "cell_type": "markdown",
   "metadata": {},
   "source": [
    "### avg_og_mou_6_7 : _Average of total local outgoing minutes of usage across operators for months 6 , 7_"
   ]
  },
  {
   "cell_type": "code",
   "execution_count": 15,
   "metadata": {},
   "outputs": [
    {
     "data": {
      "text/plain": [
       "(30001, 74)"
      ]
     },
     "execution_count": 15,
     "metadata": {},
     "output_type": "execute_result"
    }
   ],
   "source": [
    "# Deriving average of total local outgoing minutues of usage for both call and data for the months 6,7 and total for month 8 \n",
    "telecom['avg_og_mou_6_7'] = (telecom['total_og_mou_6'] + telecom['total_og_mou_7'])/2\n",
    "\n",
    "\n",
    "# Dropping the individual columns as they are now redundant\n",
    "cols_to_be_droped = ['total_og_mou_6','total_og_mou_7']\n",
    "telecom.drop(cols_to_be_droped, axis=1, inplace=True)\n",
    "telecom.shape"
   ]
  },
  {
   "cell_type": "markdown",
   "metadata": {},
   "source": [
    "### avg_og_mou_6_7 : _Average of total local incoming minutes of usage across operators for months 6 , 7_\n"
   ]
  },
  {
   "cell_type": "code",
   "execution_count": 16,
   "metadata": {},
   "outputs": [
    {
     "data": {
      "text/plain": [
       "(30001, 73)"
      ]
     },
     "execution_count": 16,
     "metadata": {},
     "output_type": "execute_result"
    }
   ],
   "source": [
    "# Deriving average of total local incoming minutues of usage for both call and data for the months 6,7 and total for month 8 \n",
    "telecom['avg_ic_mou_6_7'] = (telecom['total_ic_mou_6'] + telecom['total_ic_mou_7'])/2\n",
    "\n",
    "\n",
    "# Dropping the individual columns as they are now redundant\n",
    "cols_to_be_droped = ['total_ic_mou_6','total_ic_mou_7']\n",
    "telecom.drop(cols_to_be_droped, axis=1, inplace=True)\n",
    "telecom.shape"
   ]
  },
  {
   "cell_type": "markdown",
   "metadata": {},
   "source": [
    "### avg_onnet_mou_6_7 : _Average calls on the same operator network for months 6 and 7\n",
    "### avg_offnet_mou_6_7  : _Average calls outside the operator network for months 6 and 7_"
   ]
  },
  {
   "cell_type": "code",
   "execution_count": 17,
   "metadata": {},
   "outputs": [
    {
     "data": {
      "text/plain": [
       "(30001, 71)"
      ]
     },
     "execution_count": 17,
     "metadata": {},
     "output_type": "execute_result"
    }
   ],
   "source": [
    "# Deriving average calls on same and outside operator networks  for months 6 and 7 \n",
    "telecom['avg_onnet_mou_6_7'] = (telecom['onnet_mou_6'] + telecom['onnet_mou_7'])/2 \n",
    "telecom['avg_offnet_mou_6_7'] = (telecom['offnet_mou_6'] + telecom['offnet_mou_7'])/2\n",
    "\n",
    "# Dropping the individual columns as they are now redundant\n",
    "cols_to_be_droped = ['onnet_mou_6','onnet_mou_7','offnet_mou_6','offnet_mou_7']\n",
    "telecom.drop(cols_to_be_droped, axis=1, inplace=True)\n",
    "telecom.shape"
   ]
  },
  {
   "cell_type": "markdown",
   "metadata": {},
   "source": [
    "### avg_rech_num_6_7 : _Average of the total number of recharges for months 6 and 7"
   ]
  },
  {
   "cell_type": "code",
   "execution_count": 18,
   "metadata": {},
   "outputs": [
    {
     "data": {
      "text/plain": [
       "(30001, 70)"
      ]
     },
     "execution_count": 18,
     "metadata": {},
     "output_type": "execute_result"
    }
   ],
   "source": [
    "# Deriving average of the total number of recharges for months 6 and 7\n",
    "telecom['avg_rech_num_6_7'] = (telecom['total_rech_num_6'] + telecom['total_rech_num_7'])/2 \n",
    "\n",
    "# Dropping the individual columns as they are now redundant\n",
    "cols_to_be_droped = ['total_rech_num_6','total_rech_num_7']\n",
    "telecom.drop(cols_to_be_droped, axis=1, inplace=True)\n",
    "telecom.shape\n",
    "\n"
   ]
  },
  {
   "cell_type": "markdown",
   "metadata": {},
   "source": [
    "### avg_rech_amt_6_7 : _Average of the recharge amounts for months 6 and 7"
   ]
  },
  {
   "cell_type": "code",
   "execution_count": 19,
   "metadata": {},
   "outputs": [
    {
     "data": {
      "text/plain": [
       "(30001, 69)"
      ]
     },
     "execution_count": 19,
     "metadata": {},
     "output_type": "execute_result"
    }
   ],
   "source": [
    "# Deriving average of the recharge amounts for months 6 and 7\n",
    "telecom['avg_rech_amt_6_7'] = (telecom['total_rech_amt_6'] + telecom['total_rech_amt_7'])/2 \n",
    "\n",
    "# Dropping the individual columns as they are now redundant\n",
    "cols_to_be_droped = ['total_rech_amt_6','total_rech_amt_7']\n",
    "telecom.drop(cols_to_be_droped, axis=1, inplace=True)\n",
    "telecom.shape"
   ]
  },
  {
   "cell_type": "markdown",
   "metadata": {},
   "source": [
    "### avg_max_rech_amt_6_7 : _Average of the max recharge amounts for months 6 and 7"
   ]
  },
  {
   "cell_type": "code",
   "execution_count": 20,
   "metadata": {},
   "outputs": [
    {
     "data": {
      "text/plain": [
       "(30001, 68)"
      ]
     },
     "execution_count": 20,
     "metadata": {},
     "output_type": "execute_result"
    }
   ],
   "source": [
    "# Deriving average of the max recharge amounts for months 6 and 7\n",
    "telecom['avg_max_rech_amt_6_7'] = (telecom['max_rech_amt_6'] + telecom['max_rech_amt_7'])/2 \n",
    "\n",
    "# Dropping the individual columns as they are now redundant\n",
    "cols_to_be_droped = ['max_rech_amt_6','max_rech_amt_7']\n",
    "telecom.drop(cols_to_be_droped, axis=1, inplace=True)\n",
    "telecom.shape\n"
   ]
  },
  {
   "cell_type": "markdown",
   "metadata": {},
   "source": [
    "### avg_rech_amt_data_6_7 : _Average of the data recharge amounts for months 6 and 7"
   ]
  },
  {
   "cell_type": "code",
   "execution_count": 21,
   "metadata": {},
   "outputs": [
    {
     "data": {
      "text/plain": [
       "(30001, 67)"
      ]
     },
     "execution_count": 21,
     "metadata": {},
     "output_type": "execute_result"
    }
   ],
   "source": [
    "# Deriving average of the data recharge amounts for months 6 and 7\n",
    "telecom['avg_rech_amt_data_6_7'] = (telecom['av_rech_amt_data_6'] + telecom['av_rech_amt_data_7'])/2 \n",
    "\n",
    "# Dropping the individual columns as they are now redundant\n",
    "cols_to_be_droped = ['av_rech_amt_data_6','av_rech_amt_data_7']\n",
    "telecom.drop(cols_to_be_droped, axis=1, inplace=True)\n",
    "telecom.shape\n"
   ]
  },
  {
   "cell_type": "markdown",
   "metadata": {},
   "source": [
    "### avg_roam_ic_mou_6_7 : _Average incoming roaming minutues of usage for months 6 and 7_\n",
    "### avg_roam_og_mou_6_7 : _Average outgoing roaming minutues of usage for months 6 and 7_"
   ]
  },
  {
   "cell_type": "code",
   "execution_count": 22,
   "metadata": {},
   "outputs": [
    {
     "data": {
      "text/plain": [
       "(30001, 65)"
      ]
     },
     "execution_count": 22,
     "metadata": {},
     "output_type": "execute_result"
    }
   ],
   "source": [
    "# Deriving average incoming and outgoing roaming minutues of usage for months 6 and 7\n",
    "telecom['avg_roam_ic_mou_6_7'] = (telecom['roam_ic_mou_6'] + telecom['roam_ic_mou_7'])/2 \n",
    "telecom['avg_roam_og_mou_6_7'] = (telecom['roam_og_mou_6'] + telecom['roam_og_mou_7'])/2\n",
    "\n",
    "# Dropping the individual arpu columns as they are now redundant\n",
    "cols_to_be_droped = ['roam_ic_mou_6','roam_ic_mou_7','roam_og_mou_6','roam_og_mou_7']\n",
    "telecom.drop(cols_to_be_droped, axis=1, inplace=True)\n",
    "telecom.shape"
   ]
  },
  {
   "cell_type": "markdown",
   "metadata": {},
   "source": [
    "### avg_vol_mb_6_7 : _Average mobile internet usage in mb for months 6 and 7_\n",
    "### total_vol_mb_8 : _Average mobile internet usage in mb for month 8_"
   ]
  },
  {
   "cell_type": "code",
   "execution_count": 23,
   "metadata": {},
   "outputs": [
    {
     "data": {
      "text/plain": [
       "(30001, 61)"
      ]
     },
     "execution_count": 23,
     "metadata": {},
     "output_type": "execute_result"
    }
   ],
   "source": [
    "# Deriving average mobile internet usage in mb for months 6,7 and total mobile internet usage in mb for month 8\n",
    "telecom['avg_vol_mb_6_7'] = (telecom['vol_2g_mb_6'] + telecom['vol_2g_mb_7']+ telecom['vol_3g_mb_6'] + telecom['vol_3g_mb_7'])/2 \n",
    "telecom['total_vol_mb_8'] = (telecom['vol_2g_mb_8'] + telecom['vol_3g_mb_8'])\n",
    "\n",
    "# Dropping the individual columns as they are now redundant\n",
    "cols_to_be_droped = ['vol_2g_mb_6','vol_2g_mb_7','vol_3g_mb_6','vol_3g_mb_7','vol_2g_mb_8','vol_3g_mb_8']\n",
    "telecom.drop(cols_to_be_droped, axis=1, inplace=True)\n",
    "telecom.shape\n"
   ]
  },
  {
   "cell_type": "markdown",
   "metadata": {},
   "source": [
    "### avg_monthly_data_6_7 : _Average monthly data schemes for months 6 , 7_\n",
    "### total_monthly_data_8 : _Total monthly data schemes for month 8_"
   ]
  },
  {
   "cell_type": "code",
   "execution_count": 24,
   "metadata": {},
   "outputs": [
    {
     "data": {
      "text/plain": [
       "(30001, 57)"
      ]
     },
     "execution_count": 24,
     "metadata": {},
     "output_type": "execute_result"
    }
   ],
   "source": [
    "# Deriving average monthly data schemes for months 6,7 and total schemes for month 8 for both 2g and 3g\n",
    "telecom['avg_monthly_data_6_7'] = (telecom['monthly_2g_6'] + telecom['monthly_2g_7'] + \\\n",
    "                                telecom['monthly_3g_6'] + telecom['monthly_3g_7'])/2  \n",
    "\n",
    "telecom['total_monthly_data_8'] = telecom['monthly_2g_8'] + telecom['monthly_3g_8'] \n",
    "                                \n",
    "\n",
    "# Dropping the individual arpu columns as they are now redundant\n",
    "cols_to_be_droped = ['monthly_2g_6','monthly_2g_7','monthly_3g_6','monthly_3g_7',\\\n",
    "                     'monthly_2g_8','monthly_3g_8']\n",
    "telecom.drop(cols_to_be_droped, axis=1, inplace=True)\n",
    "telecom.shape"
   ]
  },
  {
   "cell_type": "markdown",
   "metadata": {},
   "source": [
    "### avg_sachet_data_6_7 : _Average sachet data schemes for months 6 , 7_\n",
    "### Total_sachet_data_8 :  _Total  sachet data schemes for month 8_"
   ]
  },
  {
   "cell_type": "code",
   "execution_count": 25,
   "metadata": {},
   "outputs": [
    {
     "data": {
      "text/plain": [
       "(30001, 53)"
      ]
     },
     "execution_count": 25,
     "metadata": {},
     "output_type": "execute_result"
    }
   ],
   "source": [
    "# Deriving average monthly data schemes for months 6,7 and total schemes for month 8 for both 2g and 3g\n",
    "telecom['avg_sachet_data_6_7'] = (telecom['sachet_2g_6'] + telecom['sachet_2g_7'] + \\\n",
    "                                telecom['sachet_3g_6'] + telecom['sachet_3g_7'])/2  \n",
    "\n",
    "telecom['total_sachet_data_8'] = telecom['sachet_2g_8'] + telecom['sachet_3g_8'] \n",
    "                                \n",
    "\n",
    "# Dropping the individual arpu columns as they are now redundant\n",
    "cols_to_be_droped = ['sachet_2g_6','sachet_2g_7','sachet_3g_6','sachet_3g_7',\\\n",
    "                     'sachet_2g_8','sachet_3g_8']\n",
    "telecom.drop(cols_to_be_droped, axis=1, inplace=True)\n",
    "telecom.shape"
   ]
  },
  {
   "cell_type": "markdown",
   "metadata": {},
   "source": [
    "### avg_rech_data_6_7 : _Average of total data recharges for 2g & 3g for months 6 , 7_\n"
   ]
  },
  {
   "cell_type": "code",
   "execution_count": 26,
   "metadata": {},
   "outputs": [
    {
     "data": {
      "text/plain": [
       "(30001, 52)"
      ]
     },
     "execution_count": 26,
     "metadata": {},
     "output_type": "execute_result"
    }
   ],
   "source": [
    "# Deriving average of total data recharges for 2g & 3g for months 6 and 7\n",
    "telecom['avg_rech_data_6_7'] = (telecom['total_rech_data_6'] + telecom['total_rech_data_7'])/2  \n",
    "\n",
    "\n",
    "# Dropping the individual columns as they are now redundant\n",
    "cols_to_be_droped = ['total_rech_data_6','total_rech_data_7']\n",
    "telecom.drop(cols_to_be_droped, axis=1, inplace=True)\n",
    "telecom.shape"
   ]
  },
  {
   "cell_type": "markdown",
   "metadata": {},
   "source": [
    "### av_max_rech_data_6_7 : _Average of max data recharge for months 6 & 7_"
   ]
  },
  {
   "cell_type": "code",
   "execution_count": 27,
   "metadata": {},
   "outputs": [
    {
     "data": {
      "text/plain": [
       "(30001, 51)"
      ]
     },
     "execution_count": 27,
     "metadata": {},
     "output_type": "execute_result"
    }
   ],
   "source": [
    "# Deriving average of max data recharge for months 6 and 7\n",
    "telecom['av_max_rech_data_6_7'] = (telecom['max_rech_data_6'] + telecom['max_rech_data_7'])/2  \n",
    "\n",
    "# Dropping the individual columns as they are now redundant\n",
    "cols_to_be_droped = ['max_rech_data_6','max_rech_data_7']\n",
    "telecom.drop(cols_to_be_droped, axis=1, inplace=True)\n",
    "telecom.shape"
   ]
  },
  {
   "cell_type": "code",
   "execution_count": 28,
   "metadata": {},
   "outputs": [
    {
     "data": {
      "text/plain": [
       "['onnet_mou_8',\n",
       " 'offnet_mou_8',\n",
       " 'roam_ic_mou_8',\n",
       " 'roam_og_mou_8',\n",
       " 'loc_og_t2c_mou_8',\n",
       " 'total_og_mou_8',\n",
       " 'total_ic_mou_8',\n",
       " 'total_rech_num_8',\n",
       " 'total_rech_amt_8',\n",
       " 'max_rech_amt_8',\n",
       " 'last_day_rch_amt_6',\n",
       " 'last_day_rch_amt_7',\n",
       " 'last_day_rch_amt_8',\n",
       " 'date_of_last_rech_data_6',\n",
       " 'date_of_last_rech_data_7',\n",
       " 'date_of_last_rech_data_8',\n",
       " 'total_rech_data_8',\n",
       " 'max_rech_data_8',\n",
       " 'av_rech_amt_data_8',\n",
       " 'night_pck_user_6',\n",
       " 'night_pck_user_7',\n",
       " 'night_pck_user_8',\n",
       " 'fb_user_6',\n",
       " 'fb_user_7',\n",
       " 'fb_user_8',\n",
       " 'aon',\n",
       " 'aug_vbc_3g',\n",
       " 'jul_vbc_3g',\n",
       " 'jun_vbc_3g',\n",
       " 'churn',\n",
       " 'avg_arpu_6_7',\n",
       " 'total_arpu_8',\n",
       " 'avg_loc_og_t2c_mou_6_7',\n",
       " 'avg_og_mou_6_7',\n",
       " 'avg_ic_mou_6_7',\n",
       " 'avg_onnet_mou_6_7',\n",
       " 'avg_offnet_mou_6_7',\n",
       " 'avg_rech_num_6_7',\n",
       " 'avg_rech_amt_6_7',\n",
       " 'avg_max_rech_amt_6_7',\n",
       " 'avg_rech_amt_data_6_7',\n",
       " 'avg_roam_ic_mou_6_7',\n",
       " 'avg_roam_og_mou_6_7',\n",
       " 'avg_vol_mb_6_7',\n",
       " 'total_vol_mb_8',\n",
       " 'avg_monthly_data_6_7',\n",
       " 'total_monthly_data_8',\n",
       " 'avg_sachet_data_6_7',\n",
       " 'total_sachet_data_8',\n",
       " 'avg_rech_data_6_7',\n",
       " 'av_max_rech_data_6_7']"
      ]
     },
     "execution_count": 28,
     "metadata": {},
     "output_type": "execute_result"
    }
   ],
   "source": [
    "list(telecom)"
   ]
  },
  {
   "cell_type": "markdown",
   "metadata": {},
   "source": [
    "## Missing value treatment"
   ]
  },
  {
   "cell_type": "code",
   "execution_count": 29,
   "metadata": {
    "scrolled": false
   },
   "outputs": [
    {
     "data": {
      "text/plain": [
       "av_max_rech_data_6_7        52.29\n",
       "avg_arpu_6_7                52.29\n",
       "max_rech_data_8             46.83\n",
       "date_of_last_rech_data_8    46.83\n",
       "fb_user_8                   46.83\n",
       "night_pck_user_8            46.83\n",
       "av_rech_amt_data_8          46.83\n",
       "total_arpu_8                46.83\n",
       "total_rech_data_8           46.83\n",
       "date_of_last_rech_data_6    44.15\n",
       "night_pck_user_6            44.15\n",
       "fb_user_6                   44.15\n",
       "date_of_last_rech_data_7    43.15\n",
       "night_pck_user_7            43.15\n",
       "fb_user_7                   43.15\n",
       "roam_ic_mou_8                3.91\n",
       "loc_og_t2c_mou_8             3.91\n",
       "roam_og_mou_8                3.91\n",
       "offnet_mou_8                 3.91\n",
       "onnet_mou_8                  3.91\n",
       "avg_loc_og_t2c_mou_6_7       2.61\n",
       "avg_onnet_mou_6_7            2.61\n",
       "avg_roam_ic_mou_6_7          2.61\n",
       "avg_offnet_mou_6_7           2.61\n",
       "avg_roam_og_mou_6_7          2.61\n",
       "avg_rech_data_6_7            0.00\n",
       "avg_og_mou_6_7               0.00\n",
       "total_sachet_data_8          0.00\n",
       "avg_sachet_data_6_7          0.00\n",
       "total_monthly_data_8         0.00\n",
       "avg_monthly_data_6_7         0.00\n",
       "total_og_mou_8               0.00\n",
       "total_ic_mou_8               0.00\n",
       "total_rech_num_8             0.00\n",
       "total_rech_amt_8             0.00\n",
       "max_rech_amt_8               0.00\n",
       "last_day_rch_amt_6           0.00\n",
       "last_day_rch_amt_7           0.00\n",
       "last_day_rch_amt_8           0.00\n",
       "total_vol_mb_8               0.00\n",
       "avg_vol_mb_6_7               0.00\n",
       "churn                        0.00\n",
       "jun_vbc_3g                   0.00\n",
       "avg_rech_amt_data_6_7        0.00\n",
       "avg_max_rech_amt_6_7         0.00\n",
       "avg_rech_amt_6_7             0.00\n",
       "avg_rech_num_6_7             0.00\n",
       "jul_vbc_3g                   0.00\n",
       "aug_vbc_3g                   0.00\n",
       "avg_ic_mou_6_7               0.00\n",
       "aon                          0.00\n",
       "dtype: float64"
      ]
     },
     "execution_count": 29,
     "metadata": {},
     "output_type": "execute_result"
    }
   ],
   "source": [
    "# Checking the % of missing values in each column\n",
    "missing_col_values = (((telecom.isnull() | telecom.isna()).sum() * 100 / telecom.index.size).round(2))\n",
    "missing_col_values.sort_values(ascending=False)"
   ]
  },
  {
   "cell_type": "markdown",
   "metadata": {},
   "source": [
    "### Data distribution of columns with more than 40% values missing"
   ]
  },
  {
   "cell_type": "markdown",
   "metadata": {},
   "source": [
    "#### av_max_rech_data_6_7 & max_rech_data_8"
   ]
  },
  {
   "cell_type": "code",
   "execution_count": 30,
   "metadata": {},
   "outputs": [
    {
     "data": {
      "image/png": "[encoded data removed]",
      "text/plain": [
       "<Figure size 1500x300 with 2 Axes>"
      ]
     },
     "metadata": {
      "needs_background": "light"
     },
     "output_type": "display_data"
    }
   ],
   "source": [
    "#Plot distribution for total_count_data_rech_6_7\n",
    "f, (x1,x2) = plt.subplots(1, 2, figsize=(15, 3),  dpi=100)\n",
    "sns.boxplot(x=\"av_max_rech_data_6_7\", data=telecom, ax=x1, palette=\"pastel\");\n",
    "sns.boxplot(x=\"max_rech_data_8\", data=telecom, ax=x2, palette=\"pastel\");"
   ]
  },
  {
   "cell_type": "code",
   "execution_count": 31,
   "metadata": {},
   "outputs": [
    {
     "data": {
      "text/html": [
       "<div>\n",
       "<style scoped>\n",
       "    .dataframe tbody tr th:only-of-type {\n",
       "        vertical-align: middle;\n",
       "    }\n",
       "\n",
       "    .dataframe tbody tr th {\n",
       "        vertical-align: top;\n",
       "    }\n",
       "\n",
       "    .dataframe thead th {\n",
       "        text-align: right;\n",
       "    }\n",
       "</style>\n",
       "<table border=\"1\" class=\"dataframe\">\n",
       "  <thead>\n",
       "    <tr style=\"text-align: right;\">\n",
       "      <th></th>\n",
       "      <th>av_max_rech_data_6_7</th>\n",
       "      <th>max_rech_data_8</th>\n",
       "    </tr>\n",
       "  </thead>\n",
       "  <tbody>\n",
       "    <tr>\n",
       "      <th>0.0</th>\n",
       "      <td>1.0</td>\n",
       "      <td>1.0</td>\n",
       "    </tr>\n",
       "    <tr>\n",
       "      <th>0.1</th>\n",
       "      <td>25.0</td>\n",
       "      <td>23.0</td>\n",
       "    </tr>\n",
       "    <tr>\n",
       "      <th>0.2</th>\n",
       "      <td>25.0</td>\n",
       "      <td>25.0</td>\n",
       "    </tr>\n",
       "    <tr>\n",
       "      <th>0.3</th>\n",
       "      <td>63.0</td>\n",
       "      <td>25.0</td>\n",
       "    </tr>\n",
       "    <tr>\n",
       "      <th>0.4</th>\n",
       "      <td>105.0</td>\n",
       "      <td>98.0</td>\n",
       "    </tr>\n",
       "    <tr>\n",
       "      <th>0.5</th>\n",
       "      <td>152.0</td>\n",
       "      <td>152.0</td>\n",
       "    </tr>\n",
       "    <tr>\n",
       "      <th>0.6</th>\n",
       "      <td>154.0</td>\n",
       "      <td>154.0</td>\n",
       "    </tr>\n",
       "    <tr>\n",
       "      <th>0.7</th>\n",
       "      <td>176.0</td>\n",
       "      <td>179.0</td>\n",
       "    </tr>\n",
       "    <tr>\n",
       "      <th>0.8</th>\n",
       "      <td>203.0</td>\n",
       "      <td>252.0</td>\n",
       "    </tr>\n",
       "    <tr>\n",
       "      <th>0.9</th>\n",
       "      <td>252.0</td>\n",
       "      <td>252.0</td>\n",
       "    </tr>\n",
       "    <tr>\n",
       "      <th>1.0</th>\n",
       "      <td>1555.0</td>\n",
       "      <td>1555.0</td>\n",
       "    </tr>\n",
       "  </tbody>\n",
       "</table>\n",
       "</div>"
      ],
      "text/plain": [
       "     av_max_rech_data_6_7  max_rech_data_8\n",
       "0.0                   1.0              1.0\n",
       "0.1                  25.0             23.0\n",
       "0.2                  25.0             25.0\n",
       "0.3                  63.0             25.0\n",
       "0.4                 105.0             98.0\n",
       "0.5                 152.0            152.0\n",
       "0.6                 154.0            154.0\n",
       "0.7                 176.0            179.0\n",
       "0.8                 203.0            252.0\n",
       "0.9                 252.0            252.0\n",
       "1.0                1555.0           1555.0"
      ]
     },
     "execution_count": 31,
     "metadata": {},
     "output_type": "execute_result"
    }
   ],
   "source": [
    "#Get relevant percentiles for av_max_rech_data_6_7 and max_rech_data_8 to see their distribution\n",
    "telecom[['av_max_rech_data_6_7','max_rech_data_8']].quantile([0, 0.1, 0.2, 0.3, 0.4, 0.5, 0.6, 0.7, 0.8, 0.9, 1])"
   ]
  },
  {
   "cell_type": "markdown",
   "metadata": {},
   "source": [
    "#### Dropping av_max_rech_data_6_7 & max_rech_data_8"
   ]
  },
  {
   "cell_type": "markdown",
   "metadata": {},
   "source": [
    ">av_max_rech_data_6_7 & max_rech_data_8 have a lot of variation and imputing close to 50% of them with some value might introduce a lot of bias "
   ]
  },
  {
   "cell_type": "code",
   "execution_count": 32,
   "metadata": {},
   "outputs": [
    {
     "name": "stdout",
     "output_type": "stream",
     "text": [
      "Shape of dataframe before: (30001, 51)\n",
      "Shape of dataframe after: (30001, 49)\n"
     ]
    }
   ],
   "source": [
    "print(\"Shape of dataframe before:\", telecom.shape)\n",
    "\n",
    "cols_to_be_dropped = ['av_max_rech_data_6_7','max_rech_data_8']\n",
    "\n",
    "telecom.drop(cols_to_be_dropped, axis=1, inplace=True)\n",
    "print(\"Shape of dataframe after:\", telecom.shape)"
   ]
  },
  {
   "cell_type": "markdown",
   "metadata": {},
   "source": [
    "#### Dropping date_of_last_rech_data_6, date_of_last_rech_data_7 & date_of_last_rech_data_8\n",
    "\n",
    "> date_of_last_rech_data_6, date_of_last_rech_data_7 & date_of_last_rech_data_8 are unique values of dates based on users and doesn't add much value"
   ]
  },
  {
   "cell_type": "code",
   "execution_count": 33,
   "metadata": {
    "scrolled": true
   },
   "outputs": [
    {
     "name": "stdout",
     "output_type": "stream",
     "text": [
      "Shape of dataframe before: (30001, 49)\n",
      "Shape of dataframe after: (30001, 46)\n"
     ]
    }
   ],
   "source": [
    "print(\"Shape of dataframe before:\", telecom.shape)\n",
    "\n",
    "cols_to_be_dropped = ['date_of_last_rech_data_6','date_of_last_rech_data_7','date_of_last_rech_data_8']\n",
    "\n",
    "telecom.drop(cols_to_be_dropped, axis=1, inplace=True)\n",
    "print(\"Shape of dataframe after:\", telecom.shape)"
   ]
  },
  {
   "cell_type": "markdown",
   "metadata": {},
   "source": [
    "#### avg_arpu_6_7 & total_arpu_8"
   ]
  },
  {
   "cell_type": "code",
   "execution_count": 34,
   "metadata": {},
   "outputs": [
    {
     "data": {
      "image/png": "[encoded data removed]",
      "text/plain": [
       "<Figure size 1500x300 with 2 Axes>"
      ]
     },
     "metadata": {
      "needs_background": "light"
     },
     "output_type": "display_data"
    }
   ],
   "source": [
    "#Plot distribution for avg_arpu_6_7 & total_arpu_8\n",
    "f, (x1,x2) = plt.subplots(1, 2, figsize=(15, 3),  dpi=100)\n",
    "sns.boxplot(x=\"avg_arpu_6_7\", data=telecom, ax=x1, palette=\"pastel\");\n",
    "sns.boxplot(x=\"total_arpu_8\", data=telecom, ax=x2, palette=\"pastel\");"
   ]
  },
  {
   "cell_type": "code",
   "execution_count": 35,
   "metadata": {},
   "outputs": [
    {
     "data": {
      "text/html": [
       "<div>\n",
       "<style scoped>\n",
       "    .dataframe tbody tr th:only-of-type {\n",
       "        vertical-align: middle;\n",
       "    }\n",
       "\n",
       "    .dataframe tbody tr th {\n",
       "        vertical-align: top;\n",
       "    }\n",
       "\n",
       "    .dataframe thead th {\n",
       "        text-align: right;\n",
       "    }\n",
       "</style>\n",
       "<table border=\"1\" class=\"dataframe\">\n",
       "  <thead>\n",
       "    <tr style=\"text-align: right;\">\n",
       "      <th></th>\n",
       "      <th>avg_arpu_6_7</th>\n",
       "      <th>total_arpu_8</th>\n",
       "    </tr>\n",
       "  </thead>\n",
       "  <tbody>\n",
       "    <tr>\n",
       "      <th>0.0</th>\n",
       "      <td>-23.7085</td>\n",
       "      <td>0.0000</td>\n",
       "    </tr>\n",
       "    <tr>\n",
       "      <th>0.1</th>\n",
       "      <td>209.9002</td>\n",
       "      <td>169.7250</td>\n",
       "    </tr>\n",
       "    <tr>\n",
       "      <th>0.2</th>\n",
       "      <td>295.1686</td>\n",
       "      <td>265.0058</td>\n",
       "    </tr>\n",
       "    <tr>\n",
       "      <th>0.3</th>\n",
       "      <td>369.7668</td>\n",
       "      <td>356.8236</td>\n",
       "    </tr>\n",
       "    <tr>\n",
       "      <th>0.4</th>\n",
       "      <td>447.4878</td>\n",
       "      <td>449.2394</td>\n",
       "    </tr>\n",
       "    <tr>\n",
       "      <th>0.5</th>\n",
       "      <td>541.2220</td>\n",
       "      <td>555.1190</td>\n",
       "    </tr>\n",
       "    <tr>\n",
       "      <th>0.6</th>\n",
       "      <td>652.4593</td>\n",
       "      <td>671.8284</td>\n",
       "    </tr>\n",
       "    <tr>\n",
       "      <th>0.7</th>\n",
       "      <td>797.0770</td>\n",
       "      <td>828.2632</td>\n",
       "    </tr>\n",
       "    <tr>\n",
       "      <th>0.8</th>\n",
       "      <td>1003.8655</td>\n",
       "      <td>1066.3008</td>\n",
       "    </tr>\n",
       "    <tr>\n",
       "      <th>0.9</th>\n",
       "      <td>1407.6296</td>\n",
       "      <td>1532.5902</td>\n",
       "    </tr>\n",
       "    <tr>\n",
       "      <th>1.0</th>\n",
       "      <td>13153.9505</td>\n",
       "      <td>16464.8430</td>\n",
       "    </tr>\n",
       "  </tbody>\n",
       "</table>\n",
       "</div>"
      ],
      "text/plain": [
       "     avg_arpu_6_7  total_arpu_8\n",
       "0.0      -23.7085        0.0000\n",
       "0.1      209.9002      169.7250\n",
       "0.2      295.1686      265.0058\n",
       "0.3      369.7668      356.8236\n",
       "0.4      447.4878      449.2394\n",
       "0.5      541.2220      555.1190\n",
       "0.6      652.4593      671.8284\n",
       "0.7      797.0770      828.2632\n",
       "0.8     1003.8655     1066.3008\n",
       "0.9     1407.6296     1532.5902\n",
       "1.0    13153.9505    16464.8430"
      ]
     },
     "execution_count": 35,
     "metadata": {},
     "output_type": "execute_result"
    }
   ],
   "source": [
    "#Get relevant percentiles for avg_arpu_6_7 and total_arpu_8 to see their distribution\n",
    "telecom[['avg_arpu_6_7','total_arpu_8']].quantile([0, 0.1, 0.2, 0.3, 0.4, 0.5, 0.6, 0.7, 0.8, 0.9, 1])"
   ]
  },
  {
   "cell_type": "markdown",
   "metadata": {},
   "source": [
    "#### Dropping avg_arpu_6_7 & total_arpu_8"
   ]
  },
  {
   "cell_type": "markdown",
   "metadata": {},
   "source": [
    "> - avg_arpu_6_7 & total_arpu_8 have uniform variation and imputing ~50% of them with some value might introduce a lot of bias\n",
    "> - Since we are using usage-based definition to define churn so revenue-based variables can be removed for this particular use-case"
   ]
  },
  {
   "cell_type": "code",
   "execution_count": 36,
   "metadata": {},
   "outputs": [
    {
     "name": "stdout",
     "output_type": "stream",
     "text": [
      "Shape of dataframe before: (30001, 46)\n",
      "Shape of dataframe after: (30001, 44)\n"
     ]
    }
   ],
   "source": [
    "print(\"Shape of dataframe before:\", telecom.shape)\n",
    "\n",
    "cols_to_be_dropped = ['avg_arpu_6_7','total_arpu_8']\n",
    "\n",
    "telecom.drop(cols_to_be_dropped, axis=1, inplace=True)\n",
    "print(\"Shape of dataframe after:\", telecom.shape)"
   ]
  },
  {
   "cell_type": "markdown",
   "metadata": {},
   "source": [
    "#### night_pck_user_6, night_pck_user_7 and night_pck_user_8"
   ]
  },
  {
   "cell_type": "code",
   "execution_count": 37,
   "metadata": {},
   "outputs": [
    {
     "data": {
      "image/png": "[encoded data removed]",
      "text/plain": [
       "<Figure size 1500x300 with 3 Axes>"
      ]
     },
     "metadata": {
      "needs_background": "light"
     },
     "output_type": "display_data"
    }
   ],
   "source": [
    "#Plot distribution for total_count_data_rech_8\n",
    "f, (x1,x2,x3) = plt.subplots(1, 3, figsize=(15, 3),  dpi=100)\n",
    "sns.boxplot(x=\"night_pck_user_6\", data=telecom, ax=x1, palette=\"pastel\");\n",
    "\n",
    "sns.boxplot(x=\"night_pck_user_7\", data=telecom, ax=x2, palette=\"pastel\");\n",
    "\n",
    "sns.boxplot(x=\"night_pck_user_8\", data=telecom, ax=x3, palette=\"pastel\");\n",
    "\n"
   ]
  },
  {
   "cell_type": "code",
   "execution_count": 38,
   "metadata": {},
   "outputs": [
    {
     "data": {
      "text/html": [
       "<div>\n",
       "<style scoped>\n",
       "    .dataframe tbody tr th:only-of-type {\n",
       "        vertical-align: middle;\n",
       "    }\n",
       "\n",
       "    .dataframe tbody tr th {\n",
       "        vertical-align: top;\n",
       "    }\n",
       "\n",
       "    .dataframe thead th {\n",
       "        text-align: right;\n",
       "    }\n",
       "</style>\n",
       "<table border=\"1\" class=\"dataframe\">\n",
       "  <thead>\n",
       "    <tr style=\"text-align: right;\">\n",
       "      <th></th>\n",
       "      <th>night_pck_user_6</th>\n",
       "      <th>night_pck_user_7</th>\n",
       "      <th>night_pck_user_8</th>\n",
       "    </tr>\n",
       "  </thead>\n",
       "  <tbody>\n",
       "    <tr>\n",
       "      <th>0.0</th>\n",
       "      <td>0.0</td>\n",
       "      <td>0.0</td>\n",
       "      <td>0.0</td>\n",
       "    </tr>\n",
       "    <tr>\n",
       "      <th>0.1</th>\n",
       "      <td>0.0</td>\n",
       "      <td>0.0</td>\n",
       "      <td>0.0</td>\n",
       "    </tr>\n",
       "    <tr>\n",
       "      <th>0.2</th>\n",
       "      <td>0.0</td>\n",
       "      <td>0.0</td>\n",
       "      <td>0.0</td>\n",
       "    </tr>\n",
       "    <tr>\n",
       "      <th>0.3</th>\n",
       "      <td>0.0</td>\n",
       "      <td>0.0</td>\n",
       "      <td>0.0</td>\n",
       "    </tr>\n",
       "    <tr>\n",
       "      <th>0.4</th>\n",
       "      <td>0.0</td>\n",
       "      <td>0.0</td>\n",
       "      <td>0.0</td>\n",
       "    </tr>\n",
       "    <tr>\n",
       "      <th>0.5</th>\n",
       "      <td>0.0</td>\n",
       "      <td>0.0</td>\n",
       "      <td>0.0</td>\n",
       "    </tr>\n",
       "    <tr>\n",
       "      <th>0.6</th>\n",
       "      <td>0.0</td>\n",
       "      <td>0.0</td>\n",
       "      <td>0.0</td>\n",
       "    </tr>\n",
       "    <tr>\n",
       "      <th>0.7</th>\n",
       "      <td>0.0</td>\n",
       "      <td>0.0</td>\n",
       "      <td>0.0</td>\n",
       "    </tr>\n",
       "    <tr>\n",
       "      <th>0.8</th>\n",
       "      <td>0.0</td>\n",
       "      <td>0.0</td>\n",
       "      <td>0.0</td>\n",
       "    </tr>\n",
       "    <tr>\n",
       "      <th>0.9</th>\n",
       "      <td>0.0</td>\n",
       "      <td>0.0</td>\n",
       "      <td>0.0</td>\n",
       "    </tr>\n",
       "    <tr>\n",
       "      <th>1.0</th>\n",
       "      <td>1.0</td>\n",
       "      <td>1.0</td>\n",
       "      <td>1.0</td>\n",
       "    </tr>\n",
       "  </tbody>\n",
       "</table>\n",
       "</div>"
      ],
      "text/plain": [
       "     night_pck_user_6  night_pck_user_7  night_pck_user_8\n",
       "0.0               0.0               0.0               0.0\n",
       "0.1               0.0               0.0               0.0\n",
       "0.2               0.0               0.0               0.0\n",
       "0.3               0.0               0.0               0.0\n",
       "0.4               0.0               0.0               0.0\n",
       "0.5               0.0               0.0               0.0\n",
       "0.6               0.0               0.0               0.0\n",
       "0.7               0.0               0.0               0.0\n",
       "0.8               0.0               0.0               0.0\n",
       "0.9               0.0               0.0               0.0\n",
       "1.0               1.0               1.0               1.0"
      ]
     },
     "execution_count": 38,
     "metadata": {},
     "output_type": "execute_result"
    }
   ],
   "source": [
    "#Get relevant percentiles for night_pck_user_6,night_pck_user_7 and night_pck_user_8 to see their distribution\n",
    "telecom[['night_pck_user_6','night_pck_user_7','night_pck_user_8']].quantile([0, 0.1, 0.2, 0.3, 0.4, 0.5, 0.6, 0.7, 0.8, 0.9, 1])\n"
   ]
  },
  {
   "cell_type": "markdown",
   "metadata": {},
   "source": [
    "#### Dropping night_pck_user_6, night_pck_user_7 and night_pck_user_8 "
   ]
  },
  {
   "cell_type": "markdown",
   "metadata": {},
   "source": [
    ">night_pck_user_6, night_pck_user_7 and night_pck_user_8 have mostly 0 values and doesn't add much value"
   ]
  },
  {
   "cell_type": "code",
   "execution_count": 39,
   "metadata": {},
   "outputs": [
    {
     "name": "stdout",
     "output_type": "stream",
     "text": [
      "Shape of dataframe before: (30001, 44)\n",
      "Shape of dataframe after: (30001, 41)\n"
     ]
    }
   ],
   "source": [
    "print(\"Shape of dataframe before:\", telecom.shape)\n",
    "\n",
    "cols_to_be_dropped = ['night_pck_user_6','night_pck_user_7','night_pck_user_8']\n",
    "\n",
    "telecom.drop(cols_to_be_dropped, axis=1, inplace=True)\n",
    "print(\"Shape of dataframe after:\", telecom.shape)"
   ]
  },
  {
   "cell_type": "markdown",
   "metadata": {},
   "source": [
    "#### fb_user_6, fb_user_7 and fb_user_8"
   ]
  },
  {
   "cell_type": "code",
   "execution_count": 40,
   "metadata": {},
   "outputs": [
    {
     "data": {
      "image/png": "[encoded data removed]",
      "text/plain": [
       "<Figure size 1500x300 with 3 Axes>"
      ]
     },
     "metadata": {
      "needs_background": "light"
     },
     "output_type": "display_data"
    }
   ],
   "source": [
    "#Plot distribution for total_count_data_rech_8\n",
    "f, (x1,x2,x3) = plt.subplots(1, 3, figsize=(15, 3),  dpi=100)\n",
    "sns.boxplot(x=\"fb_user_6\", data=telecom, ax=x1, palette=\"pastel\");\n",
    "\n",
    "sns.boxplot(x=\"fb_user_7\", data=telecom, ax=x2, palette=\"pastel\");\n",
    "\n",
    "sns.boxplot(x=\"fb_user_8\", data=telecom, ax=x3, palette=\"pastel\");\n",
    "\n"
   ]
  },
  {
   "cell_type": "code",
   "execution_count": 41,
   "metadata": {},
   "outputs": [
    {
     "data": {
      "text/html": [
       "<div>\n",
       "<style scoped>\n",
       "    .dataframe tbody tr th:only-of-type {\n",
       "        vertical-align: middle;\n",
       "    }\n",
       "\n",
       "    .dataframe tbody tr th {\n",
       "        vertical-align: top;\n",
       "    }\n",
       "\n",
       "    .dataframe thead th {\n",
       "        text-align: right;\n",
       "    }\n",
       "</style>\n",
       "<table border=\"1\" class=\"dataframe\">\n",
       "  <thead>\n",
       "    <tr style=\"text-align: right;\">\n",
       "      <th></th>\n",
       "      <th>fb_user_6</th>\n",
       "      <th>fb_user_7</th>\n",
       "      <th>fb_user_8</th>\n",
       "    </tr>\n",
       "  </thead>\n",
       "  <tbody>\n",
       "    <tr>\n",
       "      <th>0.0</th>\n",
       "      <td>0.0</td>\n",
       "      <td>0.0</td>\n",
       "      <td>0.0</td>\n",
       "    </tr>\n",
       "    <tr>\n",
       "      <th>0.1</th>\n",
       "      <td>1.0</td>\n",
       "      <td>1.0</td>\n",
       "      <td>0.0</td>\n",
       "    </tr>\n",
       "    <tr>\n",
       "      <th>0.2</th>\n",
       "      <td>1.0</td>\n",
       "      <td>1.0</td>\n",
       "      <td>1.0</td>\n",
       "    </tr>\n",
       "    <tr>\n",
       "      <th>0.3</th>\n",
       "      <td>1.0</td>\n",
       "      <td>1.0</td>\n",
       "      <td>1.0</td>\n",
       "    </tr>\n",
       "    <tr>\n",
       "      <th>0.4</th>\n",
       "      <td>1.0</td>\n",
       "      <td>1.0</td>\n",
       "      <td>1.0</td>\n",
       "    </tr>\n",
       "    <tr>\n",
       "      <th>0.5</th>\n",
       "      <td>1.0</td>\n",
       "      <td>1.0</td>\n",
       "      <td>1.0</td>\n",
       "    </tr>\n",
       "    <tr>\n",
       "      <th>0.6</th>\n",
       "      <td>1.0</td>\n",
       "      <td>1.0</td>\n",
       "      <td>1.0</td>\n",
       "    </tr>\n",
       "    <tr>\n",
       "      <th>0.7</th>\n",
       "      <td>1.0</td>\n",
       "      <td>1.0</td>\n",
       "      <td>1.0</td>\n",
       "    </tr>\n",
       "    <tr>\n",
       "      <th>0.8</th>\n",
       "      <td>1.0</td>\n",
       "      <td>1.0</td>\n",
       "      <td>1.0</td>\n",
       "    </tr>\n",
       "    <tr>\n",
       "      <th>0.9</th>\n",
       "      <td>1.0</td>\n",
       "      <td>1.0</td>\n",
       "      <td>1.0</td>\n",
       "    </tr>\n",
       "    <tr>\n",
       "      <th>1.0</th>\n",
       "      <td>1.0</td>\n",
       "      <td>1.0</td>\n",
       "      <td>1.0</td>\n",
       "    </tr>\n",
       "  </tbody>\n",
       "</table>\n",
       "</div>"
      ],
      "text/plain": [
       "     fb_user_6  fb_user_7  fb_user_8\n",
       "0.0        0.0        0.0        0.0\n",
       "0.1        1.0        1.0        0.0\n",
       "0.2        1.0        1.0        1.0\n",
       "0.3        1.0        1.0        1.0\n",
       "0.4        1.0        1.0        1.0\n",
       "0.5        1.0        1.0        1.0\n",
       "0.6        1.0        1.0        1.0\n",
       "0.7        1.0        1.0        1.0\n",
       "0.8        1.0        1.0        1.0\n",
       "0.9        1.0        1.0        1.0\n",
       "1.0        1.0        1.0        1.0"
      ]
     },
     "execution_count": 41,
     "metadata": {},
     "output_type": "execute_result"
    }
   ],
   "source": [
    "#Get relevant percentiles for fb_user_6, fb_user_7 and fb_user_8 to see their distribution\n",
    "telecom[['fb_user_6','fb_user_7','fb_user_8']].quantile([0, 0.1, 0.2, 0.3, 0.4, 0.5, 0.6, 0.7, 0.8, 0.9, 1])"
   ]
  },
  {
   "cell_type": "markdown",
   "metadata": {},
   "source": [
    "#### Dropping fb_user_6, fb_user_7 and fb_user_8"
   ]
  },
  {
   "cell_type": "markdown",
   "metadata": {},
   "source": [
    ">fb_user_6, fb_user_7 and fb_user_8 have mostly 1 as a value and hence doesn't add much value "
   ]
  },
  {
   "cell_type": "code",
   "execution_count": 42,
   "metadata": {},
   "outputs": [
    {
     "name": "stdout",
     "output_type": "stream",
     "text": [
      "Shape of dataframe before: (30001, 41)\n",
      "Shape of dataframe after: (30001, 38)\n"
     ]
    }
   ],
   "source": [
    "print(\"Shape of dataframe before:\", telecom.shape)\n",
    "\n",
    "cols_to_be_dropped = ['fb_user_6','fb_user_7','fb_user_8']\n",
    "\n",
    "telecom.drop(cols_to_be_dropped, axis=1, inplace=True)\n",
    "print(\"Shape of dataframe after:\", telecom.shape)"
   ]
  },
  {
   "cell_type": "markdown",
   "metadata": {},
   "source": [
    "### Recalculating % of missing values in the remaining columns"
   ]
  },
  {
   "cell_type": "code",
   "execution_count": 43,
   "metadata": {
    "scrolled": false
   },
   "outputs": [
    {
     "data": {
      "text/plain": [
       "av_rech_amt_data_8        46.83\n",
       "total_rech_data_8         46.83\n",
       "roam_og_mou_8              3.91\n",
       "loc_og_t2c_mou_8           3.91\n",
       "onnet_mou_8                3.91\n",
       "roam_ic_mou_8              3.91\n",
       "offnet_mou_8               3.91\n",
       "avg_roam_og_mou_6_7        2.61\n",
       "avg_roam_ic_mou_6_7        2.61\n",
       "avg_offnet_mou_6_7         2.61\n",
       "avg_onnet_mou_6_7          2.61\n",
       "avg_loc_og_t2c_mou_6_7     2.61\n",
       "total_og_mou_8             0.00\n",
       "total_ic_mou_8             0.00\n",
       "aon                        0.00\n",
       "total_rech_amt_8           0.00\n",
       "max_rech_amt_8             0.00\n",
       "last_day_rch_amt_6         0.00\n",
       "last_day_rch_amt_7         0.00\n",
       "last_day_rch_amt_8         0.00\n",
       "total_rech_num_8           0.00\n",
       "avg_rech_data_6_7          0.00\n",
       "aug_vbc_3g                 0.00\n",
       "jul_vbc_3g                 0.00\n",
       "total_sachet_data_8        0.00\n",
       "churn                      0.00\n",
       "avg_og_mou_6_7             0.00\n",
       "avg_ic_mou_6_7             0.00\n",
       "avg_rech_num_6_7           0.00\n",
       "avg_rech_amt_6_7           0.00\n",
       "avg_max_rech_amt_6_7       0.00\n",
       "avg_rech_amt_data_6_7      0.00\n",
       "avg_vol_mb_6_7             0.00\n",
       "total_vol_mb_8             0.00\n",
       "avg_monthly_data_6_7       0.00\n",
       "total_monthly_data_8       0.00\n",
       "avg_sachet_data_6_7        0.00\n",
       "jun_vbc_3g                 0.00\n",
       "dtype: float64"
      ]
     },
     "execution_count": 43,
     "metadata": {},
     "output_type": "execute_result"
    }
   ],
   "source": [
    "# Checking % of missing values in each column\n",
    "missing_col_values = (((telecom.isnull() | telecom.isna()).sum() * 100 / telecom.index.size).round(2))\n",
    "missing_col_values.sort_values(ascending=False)"
   ]
  },
  {
   "cell_type": "code",
   "execution_count": 44,
   "metadata": {},
   "outputs": [
    {
     "data": {
      "text/html": [
       "<div>\n",
       "<style scoped>\n",
       "    .dataframe tbody tr th:only-of-type {\n",
       "        vertical-align: middle;\n",
       "    }\n",
       "\n",
       "    .dataframe tbody tr th {\n",
       "        vertical-align: top;\n",
       "    }\n",
       "\n",
       "    .dataframe thead th {\n",
       "        text-align: right;\n",
       "    }\n",
       "</style>\n",
       "<table border=\"1\" class=\"dataframe\">\n",
       "  <thead>\n",
       "    <tr style=\"text-align: right;\">\n",
       "      <th></th>\n",
       "      <th>onnet_mou_8</th>\n",
       "      <th>offnet_mou_8</th>\n",
       "      <th>roam_ic_mou_8</th>\n",
       "      <th>roam_og_mou_8</th>\n",
       "      <th>loc_og_t2c_mou_8</th>\n",
       "      <th>total_og_mou_8</th>\n",
       "      <th>total_ic_mou_8</th>\n",
       "      <th>total_rech_num_8</th>\n",
       "      <th>total_rech_amt_8</th>\n",
       "      <th>max_rech_amt_8</th>\n",
       "      <th>last_day_rch_amt_6</th>\n",
       "      <th>last_day_rch_amt_7</th>\n",
       "      <th>last_day_rch_amt_8</th>\n",
       "      <th>total_rech_data_8</th>\n",
       "      <th>av_rech_amt_data_8</th>\n",
       "      <th>aon</th>\n",
       "      <th>aug_vbc_3g</th>\n",
       "      <th>jul_vbc_3g</th>\n",
       "      <th>jun_vbc_3g</th>\n",
       "      <th>churn</th>\n",
       "      <th>avg_loc_og_t2c_mou_6_7</th>\n",
       "      <th>avg_og_mou_6_7</th>\n",
       "      <th>avg_ic_mou_6_7</th>\n",
       "      <th>avg_onnet_mou_6_7</th>\n",
       "      <th>avg_offnet_mou_6_7</th>\n",
       "      <th>avg_rech_num_6_7</th>\n",
       "      <th>avg_rech_amt_6_7</th>\n",
       "      <th>avg_max_rech_amt_6_7</th>\n",
       "      <th>avg_rech_amt_data_6_7</th>\n",
       "      <th>avg_roam_ic_mou_6_7</th>\n",
       "      <th>avg_roam_og_mou_6_7</th>\n",
       "      <th>avg_vol_mb_6_7</th>\n",
       "      <th>total_vol_mb_8</th>\n",
       "      <th>avg_monthly_data_6_7</th>\n",
       "      <th>total_monthly_data_8</th>\n",
       "      <th>avg_sachet_data_6_7</th>\n",
       "      <th>total_sachet_data_8</th>\n",
       "      <th>avg_rech_data_6_7</th>\n",
       "    </tr>\n",
       "  </thead>\n",
       "  <tbody>\n",
       "    <tr>\n",
       "      <th>0</th>\n",
       "      <td>0.00</td>\n",
       "      <td>0.00</td>\n",
       "      <td>0.00</td>\n",
       "      <td>0.00</td>\n",
       "      <td>0.00</td>\n",
       "      <td>0.00</td>\n",
       "      <td>5.44</td>\n",
       "      <td>2</td>\n",
       "      <td>252</td>\n",
       "      <td>252</td>\n",
       "      <td>252</td>\n",
       "      <td>252</td>\n",
       "      <td>252</td>\n",
       "      <td>1.0</td>\n",
       "      <td>252.0</td>\n",
       "      <td>968</td>\n",
       "      <td>30.40</td>\n",
       "      <td>0.00</td>\n",
       "      <td>101.20</td>\n",
       "      <td>1</td>\n",
       "      <td>NaN</td>\n",
       "      <td>0.000</td>\n",
       "      <td>0.000</td>\n",
       "      <td>NaN</td>\n",
       "      <td>NaN</td>\n",
       "      <td>3.5</td>\n",
       "      <td>307.0</td>\n",
       "      <td>252.0</td>\n",
       "      <td>252.0</td>\n",
       "      <td>NaN</td>\n",
       "      <td>NaN</td>\n",
       "      <td>132.890</td>\n",
       "      <td>115.36</td>\n",
       "      <td>1.0</td>\n",
       "      <td>1</td>\n",
       "      <td>0.0</td>\n",
       "      <td>0</td>\n",
       "      <td>1.0</td>\n",
       "    </tr>\n",
       "    <tr>\n",
       "      <th>7</th>\n",
       "      <td>52.29</td>\n",
       "      <td>325.91</td>\n",
       "      <td>31.64</td>\n",
       "      <td>38.06</td>\n",
       "      <td>0.00</td>\n",
       "      <td>350.16</td>\n",
       "      <td>428.74</td>\n",
       "      <td>7</td>\n",
       "      <td>3638</td>\n",
       "      <td>1580</td>\n",
       "      <td>0</td>\n",
       "      <td>0</td>\n",
       "      <td>779</td>\n",
       "      <td>NaN</td>\n",
       "      <td>NaN</td>\n",
       "      <td>802</td>\n",
       "      <td>57.74</td>\n",
       "      <td>19.38</td>\n",
       "      <td>18.74</td>\n",
       "      <td>1</td>\n",
       "      <td>0.0</td>\n",
       "      <td>548.385</td>\n",
       "      <td>592.250</td>\n",
       "      <td>56.26</td>\n",
       "      <td>510.295</td>\n",
       "      <td>5.0</td>\n",
       "      <td>1185.0</td>\n",
       "      <td>1185.0</td>\n",
       "      <td>0.0</td>\n",
       "      <td>24.86</td>\n",
       "      <td>18.165</td>\n",
       "      <td>0.000</td>\n",
       "      <td>0.00</td>\n",
       "      <td>0.0</td>\n",
       "      <td>0</td>\n",
       "      <td>0.0</td>\n",
       "      <td>0</td>\n",
       "      <td>0.0</td>\n",
       "    </tr>\n",
       "    <tr>\n",
       "      <th>8</th>\n",
       "      <td>35.08</td>\n",
       "      <td>136.48</td>\n",
       "      <td>0.00</td>\n",
       "      <td>0.00</td>\n",
       "      <td>7.15</td>\n",
       "      <td>171.56</td>\n",
       "      <td>16.54</td>\n",
       "      <td>14</td>\n",
       "      <td>120</td>\n",
       "      <td>30</td>\n",
       "      <td>50</td>\n",
       "      <td>0</td>\n",
       "      <td>10</td>\n",
       "      <td>3.0</td>\n",
       "      <td>69.0</td>\n",
       "      <td>315</td>\n",
       "      <td>21.03</td>\n",
       "      <td>910.65</td>\n",
       "      <td>122.16</td>\n",
       "      <td>0</td>\n",
       "      <td>0.0</td>\n",
       "      <td>470.010</td>\n",
       "      <td>66.175</td>\n",
       "      <td>382.36</td>\n",
       "      <td>87.645</td>\n",
       "      <td>20.0</td>\n",
       "      <td>519.0</td>\n",
       "      <td>122.0</td>\n",
       "      <td>88.5</td>\n",
       "      <td>0.00</td>\n",
       "      <td>0.000</td>\n",
       "      <td>553.475</td>\n",
       "      <td>11.97</td>\n",
       "      <td>0.5</td>\n",
       "      <td>0</td>\n",
       "      <td>0.5</td>\n",
       "      <td>3</td>\n",
       "      <td>1.0</td>\n",
       "    </tr>\n",
       "    <tr>\n",
       "      <th>21</th>\n",
       "      <td>85.14</td>\n",
       "      <td>983.39</td>\n",
       "      <td>0.00</td>\n",
       "      <td>0.00</td>\n",
       "      <td>0.00</td>\n",
       "      <td>1068.54</td>\n",
       "      <td>261.04</td>\n",
       "      <td>27</td>\n",
       "      <td>718</td>\n",
       "      <td>50</td>\n",
       "      <td>30</td>\n",
       "      <td>20</td>\n",
       "      <td>50</td>\n",
       "      <td>NaN</td>\n",
       "      <td>NaN</td>\n",
       "      <td>720</td>\n",
       "      <td>0.00</td>\n",
       "      <td>0.00</td>\n",
       "      <td>0.00</td>\n",
       "      <td>0</td>\n",
       "      <td>0.0</td>\n",
       "      <td>944.565</td>\n",
       "      <td>169.490</td>\n",
       "      <td>117.26</td>\n",
       "      <td>827.305</td>\n",
       "      <td>24.0</td>\n",
       "      <td>640.0</td>\n",
       "      <td>50.0</td>\n",
       "      <td>0.0</td>\n",
       "      <td>0.00</td>\n",
       "      <td>0.000</td>\n",
       "      <td>0.000</td>\n",
       "      <td>0.00</td>\n",
       "      <td>0.0</td>\n",
       "      <td>0</td>\n",
       "      <td>0.0</td>\n",
       "      <td>0</td>\n",
       "      <td>0.0</td>\n",
       "    </tr>\n",
       "    <tr>\n",
       "      <th>23</th>\n",
       "      <td>33.58</td>\n",
       "      <td>205.89</td>\n",
       "      <td>0.00</td>\n",
       "      <td>0.00</td>\n",
       "      <td>17.71</td>\n",
       "      <td>239.48</td>\n",
       "      <td>298.33</td>\n",
       "      <td>4</td>\n",
       "      <td>439</td>\n",
       "      <td>179</td>\n",
       "      <td>0</td>\n",
       "      <td>179</td>\n",
       "      <td>0</td>\n",
       "      <td>2.0</td>\n",
       "      <td>270.0</td>\n",
       "      <td>604</td>\n",
       "      <td>40.45</td>\n",
       "      <td>51.86</td>\n",
       "      <td>0.00</td>\n",
       "      <td>0</td>\n",
       "      <td>0.0</td>\n",
       "      <td>137.210</td>\n",
       "      <td>171.235</td>\n",
       "      <td>49.81</td>\n",
       "      <td>87.385</td>\n",
       "      <td>4.0</td>\n",
       "      <td>227.0</td>\n",
       "      <td>89.5</td>\n",
       "      <td>178.0</td>\n",
       "      <td>0.00</td>\n",
       "      <td>0.000</td>\n",
       "      <td>299.785</td>\n",
       "      <td>1009.93</td>\n",
       "      <td>1.0</td>\n",
       "      <td>1</td>\n",
       "      <td>0.0</td>\n",
       "      <td>1</td>\n",
       "      <td>1.0</td>\n",
       "    </tr>\n",
       "  </tbody>\n",
       "</table>\n",
       "</div>"
      ],
      "text/plain": [
       "    onnet_mou_8  offnet_mou_8  roam_ic_mou_8  roam_og_mou_8  loc_og_t2c_mou_8  \\\n",
       "0          0.00          0.00           0.00           0.00              0.00   \n",
       "7         52.29        325.91          31.64          38.06              0.00   \n",
       "8         35.08        136.48           0.00           0.00              7.15   \n",
       "21        85.14        983.39           0.00           0.00              0.00   \n",
       "23        33.58        205.89           0.00           0.00             17.71   \n",
       "\n",
       "    total_og_mou_8  total_ic_mou_8  total_rech_num_8  total_rech_amt_8  \\\n",
       "0             0.00            5.44                 2               252   \n",
       "7           350.16          428.74                 7              3638   \n",
       "8           171.56           16.54                14               120   \n",
       "21         1068.54          261.04                27               718   \n",
       "23          239.48          298.33                 4               439   \n",
       "\n",
       "    max_rech_amt_8  last_day_rch_amt_6  last_day_rch_amt_7  \\\n",
       "0              252                 252                 252   \n",
       "7             1580                   0                   0   \n",
       "8               30                  50                   0   \n",
       "21              50                  30                  20   \n",
       "23             179                   0                 179   \n",
       "\n",
       "    last_day_rch_amt_8  total_rech_data_8  av_rech_amt_data_8  aon  \\\n",
       "0                  252                1.0               252.0  968   \n",
       "7                  779                NaN                 NaN  802   \n",
       "8                   10                3.0                69.0  315   \n",
       "21                  50                NaN                 NaN  720   \n",
       "23                   0                2.0               270.0  604   \n",
       "\n",
       "    aug_vbc_3g  jul_vbc_3g  jun_vbc_3g  churn  avg_loc_og_t2c_mou_6_7  \\\n",
       "0        30.40        0.00      101.20      1                     NaN   \n",
       "7        57.74       19.38       18.74      1                     0.0   \n",
       "8        21.03      910.65      122.16      0                     0.0   \n",
       "21        0.00        0.00        0.00      0                     0.0   \n",
       "23       40.45       51.86        0.00      0                     0.0   \n",
       "\n",
       "    avg_og_mou_6_7  avg_ic_mou_6_7  avg_onnet_mou_6_7  avg_offnet_mou_6_7  \\\n",
       "0            0.000           0.000                NaN                 NaN   \n",
       "7          548.385         592.250              56.26             510.295   \n",
       "8          470.010          66.175             382.36              87.645   \n",
       "21         944.565         169.490             117.26             827.305   \n",
       "23         137.210         171.235              49.81              87.385   \n",
       "\n",
       "    avg_rech_num_6_7  avg_rech_amt_6_7  avg_max_rech_amt_6_7  \\\n",
       "0                3.5             307.0                 252.0   \n",
       "7                5.0            1185.0                1185.0   \n",
       "8               20.0             519.0                 122.0   \n",
       "21              24.0             640.0                  50.0   \n",
       "23               4.0             227.0                  89.5   \n",
       "\n",
       "    avg_rech_amt_data_6_7  avg_roam_ic_mou_6_7  avg_roam_og_mou_6_7  \\\n",
       "0                   252.0                  NaN                  NaN   \n",
       "7                     0.0                24.86               18.165   \n",
       "8                    88.5                 0.00                0.000   \n",
       "21                    0.0                 0.00                0.000   \n",
       "23                  178.0                 0.00                0.000   \n",
       "\n",
       "    avg_vol_mb_6_7  total_vol_mb_8  avg_monthly_data_6_7  \\\n",
       "0          132.890          115.36                   1.0   \n",
       "7            0.000            0.00                   0.0   \n",
       "8          553.475           11.97                   0.5   \n",
       "21           0.000            0.00                   0.0   \n",
       "23         299.785         1009.93                   1.0   \n",
       "\n",
       "    total_monthly_data_8  avg_sachet_data_6_7  total_sachet_data_8  \\\n",
       "0                      1                  0.0                    0   \n",
       "7                      0                  0.0                    0   \n",
       "8                      0                  0.5                    3   \n",
       "21                     0                  0.0                    0   \n",
       "23                     1                  0.0                    1   \n",
       "\n",
       "    avg_rech_data_6_7  \n",
       "0                 1.0  \n",
       "7                 0.0  \n",
       "8                 1.0  \n",
       "21                0.0  \n",
       "23                1.0  "
      ]
     },
     "execution_count": 44,
     "metadata": {},
     "output_type": "execute_result"
    }
   ],
   "source": [
    "telecom.head()"
   ]
  },
  {
   "cell_type": "markdown",
   "metadata": {},
   "source": [
    "### Imputing remaining missing values in all columns with zeroes"
   ]
  },
  {
   "cell_type": "code",
   "execution_count": 45,
   "metadata": {},
   "outputs": [],
   "source": [
    "# Fill remaining blank spaces with zeroes\n",
    "telecom.fillna(0,inplace=True)"
   ]
  },
  {
   "cell_type": "code",
   "execution_count": 46,
   "metadata": {},
   "outputs": [
    {
     "data": {
      "text/plain": [
       "avg_rech_data_6_7         0.0\n",
       "max_rech_amt_8            0.0\n",
       "aug_vbc_3g                0.0\n",
       "aon                       0.0\n",
       "av_rech_amt_data_8        0.0\n",
       "total_rech_data_8         0.0\n",
       "last_day_rch_amt_8        0.0\n",
       "last_day_rch_amt_7        0.0\n",
       "last_day_rch_amt_6        0.0\n",
       "total_rech_amt_8          0.0\n",
       "total_sachet_data_8       0.0\n",
       "total_rech_num_8          0.0\n",
       "total_ic_mou_8            0.0\n",
       "total_og_mou_8            0.0\n",
       "loc_og_t2c_mou_8          0.0\n",
       "roam_og_mou_8             0.0\n",
       "roam_ic_mou_8             0.0\n",
       "offnet_mou_8              0.0\n",
       "jul_vbc_3g                0.0\n",
       "jun_vbc_3g                0.0\n",
       "churn                     0.0\n",
       "avg_loc_og_t2c_mou_6_7    0.0\n",
       "avg_sachet_data_6_7       0.0\n",
       "total_monthly_data_8      0.0\n",
       "avg_monthly_data_6_7      0.0\n",
       "total_vol_mb_8            0.0\n",
       "avg_vol_mb_6_7            0.0\n",
       "avg_roam_og_mou_6_7       0.0\n",
       "avg_roam_ic_mou_6_7       0.0\n",
       "avg_rech_amt_data_6_7     0.0\n",
       "avg_max_rech_amt_6_7      0.0\n",
       "avg_rech_amt_6_7          0.0\n",
       "avg_rech_num_6_7          0.0\n",
       "avg_offnet_mou_6_7        0.0\n",
       "avg_onnet_mou_6_7         0.0\n",
       "avg_ic_mou_6_7            0.0\n",
       "avg_og_mou_6_7            0.0\n",
       "onnet_mou_8               0.0\n",
       "dtype: float64"
      ]
     },
     "execution_count": 46,
     "metadata": {},
     "output_type": "execute_result"
    }
   ],
   "source": [
    "# Rechecking % of missing values in each column after imputation\n",
    "missing_col_values = (((telecom.isnull() | telecom.isna()).sum() * 100 / telecom.index.size).round(2))\n",
    "missing_col_values.sort_values(ascending=False)"
   ]
  },
  {
   "cell_type": "markdown",
   "metadata": {},
   "source": [
    "## EDA "
   ]
  },
  {
   "cell_type": "markdown",
   "metadata": {},
   "source": [
    "### Insights:\n",
    "\n",
    "> It is observed that the tenure of a customer in the network is a good indicator of churn, with tenured customers being less likely to churn as compared to new customers.\n",
    "\n",
    "> From the plots below we can clearly see that the customers who churned have a marked decrease in the total number of minutes of usage for both incoming and outgoing calls.\n",
    "\n",
    "> The maximum recharge amounts for churned customers have declined drastically in the action phase.\n",
    "\n",
    "> The churned customers also have decreased their monthly and sachet data recharges and the number and amount of recharges in general.\n",
    "\n",
    "> The customers who have churned tend to reduce their interactions with the customer care in the action phase, possibly indicating a loss of faith in their services.\n",
    "\n",
    "> The mobile internet usage of churned customers show that they were initially consuming a lot of mobile internet in the good phase but have drastically reduced usage in the action phase\n",
    "\n",
    "> The volume based cost for churned customers also shows a sharp decline.\n",
    "\n"
   ]
  },
  {
   "cell_type": "markdown",
   "metadata": {},
   "source": [
    "### Comparing Age on Network for Churned vs Non-Churned customers"
   ]
  },
  {
   "cell_type": "code",
   "execution_count": 47,
   "metadata": {
    "scrolled": true
   },
   "outputs": [
    {
     "data": {
      "image/png": "[encoded data removed]",
      "text/plain": [
       "<Figure size 432x288 with 1 Axes>"
      ]
     },
     "metadata": {
      "needs_background": "light"
     },
     "output_type": "display_data"
    }
   ],
   "source": [
    "sns.barplot(x=\"churn\", y=\"aon\", data=telecom, palette=\"pastel\");"
   ]
  },
  {
   "cell_type": "markdown",
   "metadata": {},
   "source": [
    "### Comparing Max Recharge Amounts across months 6, 7 and 8 for Churned vs Non-Churned customers"
   ]
  },
  {
   "cell_type": "code",
   "execution_count": 48,
   "metadata": {},
   "outputs": [
    {
     "data": {
      "image/png": "[encoded data removed]",
      "text/plain": [
       "<Figure size 1080x360 with 2 Axes>"
      ]
     },
     "metadata": {
      "needs_background": "light"
     },
     "output_type": "display_data"
    }
   ],
   "source": [
    "f, (ax1, ax2) = plt.subplots(1, 2, figsize=(15, 5), sharey=True)\n",
    "sns.barplot(x=\"churn\", y=\"avg_max_rech_amt_6_7\", data=telecom, palette=\"pastel\", ax=ax1);\n",
    "sns.barplot(x=\"churn\", y=\"max_rech_amt_8\", data=telecom, palette=\"pastel\", ax=ax2);\n"
   ]
  },
  {
   "cell_type": "markdown",
   "metadata": {},
   "source": [
    "### Comparing calls to Same or Different Operator Networks across months 6, 7 and 8 for Churned vs Non-Churned customers"
   ]
  },
  {
   "cell_type": "code",
   "execution_count": 49,
   "metadata": {},
   "outputs": [
    {
     "data": {
      "image/png": "[encoded data removed]",
      "text/plain": [
       "<Figure size 1080x216 with 4 Axes>"
      ]
     },
     "metadata": {
      "needs_background": "light"
     },
     "output_type": "display_data"
    }
   ],
   "source": [
    "f, (ax1, ax2, ax3, ax4) = plt.subplots(1, 4, figsize=(15, 3), sharey=True)\n",
    "sns.barplot(x=\"churn\", y=\"avg_onnet_mou_6_7\", data=telecom, palette=\"pastel\", ax=ax1);\n",
    "sns.barplot(x=\"churn\", y=\"onnet_mou_8\", data=telecom, palette=\"pastel\", ax=ax2);\n",
    "sns.barplot(x=\"churn\", y=\"avg_offnet_mou_6_7\", data=telecom, palette=\"pastel\", ax=ax3);\n",
    "sns.barplot(x=\"churn\", y=\"offnet_mou_8\", data=telecom, palette=\"pastel\", ax=ax4);\n",
    "\n"
   ]
  },
  {
   "cell_type": "markdown",
   "metadata": {},
   "source": [
    "### Comparing Sachet and Monthly Data Recharges across months 6, 7 and 8 for Churned vs Non-Churned customers"
   ]
  },
  {
   "cell_type": "code",
   "execution_count": 50,
   "metadata": {},
   "outputs": [
    {
     "data": {
      "image/png": "[encoded data removed]",
      "text/plain": [
       "<Figure size 1080x216 with 4 Axes>"
      ]
     },
     "metadata": {
      "needs_background": "light"
     },
     "output_type": "display_data"
    }
   ],
   "source": [
    "f, (ax1, ax2, ax3, ax4) = plt.subplots(1, 4, figsize=(15, 3), sharey=True)\n",
    "sns.barplot(x=\"churn\", y=\"avg_sachet_data_6_7\", data=telecom, palette=\"pastel\", ax=ax1);\n",
    "sns.barplot(x=\"churn\", y=\"total_sachet_data_8\", data=telecom, palette=\"pastel\", ax=ax2);\n",
    "sns.barplot(x=\"churn\", y=\"avg_monthly_data_6_7\", data=telecom, palette=\"pastel\", ax=ax3);\n",
    "sns.barplot(x=\"churn\", y=\"total_monthly_data_8\", data=telecom, palette=\"pastel\", ax=ax4);"
   ]
  },
  {
   "cell_type": "markdown",
   "metadata": {},
   "source": [
    "### Comparing Incoming and Outgoing Minutes of Usage across months 6, 7 and 8 for Churned vs Non-Churned customers"
   ]
  },
  {
   "cell_type": "code",
   "execution_count": 51,
   "metadata": {},
   "outputs": [
    {
     "data": {
      "image/png": "[encoded data removed]",
      "text/plain": [
       "<Figure size 1080x216 with 4 Axes>"
      ]
     },
     "metadata": {
      "needs_background": "light"
     },
     "output_type": "display_data"
    }
   ],
   "source": [
    "f, (ax1, ax2, ax3, ax4) = plt.subplots(1, 4, figsize=(15, 3), sharey=True)\n",
    "sns.barplot(x=\"churn\", y=\"avg_ic_mou_6_7\", data=telecom, palette=\"pastel\", ax=ax1);\n",
    "sns.barplot(x=\"churn\", y=\"total_ic_mou_8\", data=telecom, palette=\"pastel\", ax=ax2);\n",
    "sns.barplot(x=\"churn\", y=\"avg_og_mou_6_7\", data=telecom, palette=\"pastel\", ax=ax3);\n",
    "sns.barplot(x=\"churn\", y=\"total_og_mou_8\", data=telecom, palette=\"pastel\", ax=ax4);\n"
   ]
  },
  {
   "cell_type": "markdown",
   "metadata": {},
   "source": [
    "### Comparing Volume Based Cost across months 6,7 and 8 for Churned vs Non-Churned customers"
   ]
  },
  {
   "cell_type": "code",
   "execution_count": 52,
   "metadata": {},
   "outputs": [
    {
     "data": {
      "image/png": "[encoded data removed]",
      "text/plain": [
       "<Figure size 1080x360 with 3 Axes>"
      ]
     },
     "metadata": {
      "needs_background": "light"
     },
     "output_type": "display_data"
    }
   ],
   "source": [
    "f, (ax1, ax2, ax3) = plt.subplots(1, 3, figsize=(15, 5), sharey=True)\n",
    "sns.barplot(x=\"churn\", y=\"jun_vbc_3g\", data=telecom, palette=\"pastel\", ax=ax1);\n",
    "sns.barplot(x=\"churn\", y=\"jul_vbc_3g\", data=telecom, palette=\"pastel\", ax=ax2);\n",
    "sns.barplot(x=\"churn\", y=\"aug_vbc_3g\", data=telecom, palette=\"pastel\", ax=ax3);"
   ]
  },
  {
   "cell_type": "markdown",
   "metadata": {},
   "source": [
    "### Comparing Roaming Incoming and Outgoing Minutes of Usage across months 6, 7 and 8 for Churned vs Non-Churned customers"
   ]
  },
  {
   "cell_type": "code",
   "execution_count": 53,
   "metadata": {},
   "outputs": [
    {
     "data": {
      "image/png": "[encoded data removed]",
      "text/plain": [
       "<Figure size 1080x216 with 4 Axes>"
      ]
     },
     "metadata": {
      "needs_background": "light"
     },
     "output_type": "display_data"
    }
   ],
   "source": [
    "f, (ax1, ax2, ax3, ax4) = plt.subplots(1, 4, figsize=(15, 3), sharey=True)\n",
    "sns.barplot(x=\"churn\", y=\"avg_roam_ic_mou_6_7\", data=telecom, palette=\"pastel\", ax=ax1);\n",
    "sns.barplot(x=\"churn\", y=\"roam_ic_mou_8\", data=telecom, palette=\"pastel\", ax=ax2);\n",
    "sns.barplot(x=\"churn\", y=\"avg_roam_og_mou_6_7\", data=telecom, palette=\"pastel\", ax=ax3);\n",
    "sns.barplot(x=\"churn\", y=\"roam_og_mou_8\", data=telecom, palette=\"pastel\", ax=ax4);"
   ]
  },
  {
   "cell_type": "markdown",
   "metadata": {},
   "source": [
    "### Comparing Total Recharge Amount across months 6, 7 and 8 for Churned vs Non-Churned customers"
   ]
  },
  {
   "cell_type": "code",
   "execution_count": 54,
   "metadata": {},
   "outputs": [
    {
     "data": {
      "image/png": "[encoded data removed]",
      "text/plain": [
       "<Figure size 1080x360 with 2 Axes>"
      ]
     },
     "metadata": {
      "needs_background": "light"
     },
     "output_type": "display_data"
    }
   ],
   "source": [
    "f, (ax1, ax2) = plt.subplots(1, 2, figsize=(15, 5), sharey=True)\n",
    "sns.barplot(x=\"churn\", y=\"avg_rech_amt_6_7\", data=telecom, palette=\"pastel\", ax=ax1);\n",
    "sns.barplot(x=\"churn\", y=\"total_rech_amt_8\", data=telecom, palette=\"pastel\", ax=ax2);\n"
   ]
  },
  {
   "cell_type": "markdown",
   "metadata": {},
   "source": [
    "### Comparing Total Number of Recharges across months 6, 7 and 8 for Churned vs Non-Churned customers"
   ]
  },
  {
   "cell_type": "code",
   "execution_count": 55,
   "metadata": {},
   "outputs": [
    {
     "data": {
      "image/png": "[encoded data removed]",
      "text/plain": [
       "<Figure size 1080x360 with 2 Axes>"
      ]
     },
     "metadata": {
      "needs_background": "light"
     },
     "output_type": "display_data"
    }
   ],
   "source": [
    "f, (ax1, ax2) = plt.subplots(1, 2, figsize=(15, 5), sharey=True)\n",
    "sns.barplot(x=\"churn\", y=\"avg_rech_num_6_7\", data=telecom, palette=\"pastel\", ax=ax1);\n",
    "sns.barplot(x=\"churn\", y=\"total_rech_num_8\", data=telecom, palette=\"pastel\", ax=ax2);\n"
   ]
  },
  {
   "cell_type": "markdown",
   "metadata": {},
   "source": [
    "### Comparing Total Minutes of Usage for Calls to Customer Care  across months 6, 7 and 8 for Churned vs Non-Churned customers\n"
   ]
  },
  {
   "cell_type": "code",
   "execution_count": 56,
   "metadata": {},
   "outputs": [
    {
     "data": {
      "image/png": "[encoded data removed]",
      "text/plain": [
       "<Figure size 1080x360 with 2 Axes>"
      ]
     },
     "metadata": {
      "needs_background": "light"
     },
     "output_type": "display_data"
    }
   ],
   "source": [
    "f, (ax1, ax2) = plt.subplots(1, 2, figsize=(15, 5), sharey=True)\n",
    "sns.barplot(x=\"churn\", y=\"avg_loc_og_t2c_mou_6_7\", data=telecom, palette=\"pastel\", ax=ax1);\n",
    "sns.barplot(x=\"churn\", y=\"loc_og_t2c_mou_8\", data=telecom, palette=\"pastel\", ax=ax2);"
   ]
  },
  {
   "cell_type": "markdown",
   "metadata": {},
   "source": [
    "### Comparing Mobile Internet Usage Volume in MB across months 6, 7 and 8 for Churned vs Non-Churned customers"
   ]
  },
  {
   "cell_type": "code",
   "execution_count": 57,
   "metadata": {
    "scrolled": false
   },
   "outputs": [
    {
     "data": {
      "image/png": "[encoded data removed]",
      "text/plain": [
       "<Figure size 1080x360 with 2 Axes>"
      ]
     },
     "metadata": {
      "needs_background": "light"
     },
     "output_type": "display_data"
    }
   ],
   "source": [
    "f, (ax1, ax2) = plt.subplots(1, 2, figsize=(15, 5), sharey=True)\n",
    "sns.barplot(x=\"churn\", y=\"avg_vol_mb_6_7\", data=telecom, palette=\"pastel\", ax=ax1);\n",
    "sns.barplot(x=\"churn\", y=\"total_vol_mb_8\", data=telecom, palette=\"pastel\", ax=ax2);"
   ]
  },
  {
   "cell_type": "code",
   "execution_count": 58,
   "metadata": {},
   "outputs": [
    {
     "data": {
      "text/plain": [
       "['onnet_mou_8',\n",
       " 'offnet_mou_8',\n",
       " 'roam_ic_mou_8',\n",
       " 'roam_og_mou_8',\n",
       " 'loc_og_t2c_mou_8',\n",
       " 'total_og_mou_8',\n",
       " 'total_ic_mou_8',\n",
       " 'total_rech_num_8',\n",
       " 'total_rech_amt_8',\n",
       " 'max_rech_amt_8',\n",
       " 'last_day_rch_amt_6',\n",
       " 'last_day_rch_amt_7',\n",
       " 'last_day_rch_amt_8',\n",
       " 'total_rech_data_8',\n",
       " 'av_rech_amt_data_8',\n",
       " 'aon',\n",
       " 'aug_vbc_3g',\n",
       " 'jul_vbc_3g',\n",
       " 'jun_vbc_3g',\n",
       " 'churn',\n",
       " 'avg_loc_og_t2c_mou_6_7',\n",
       " 'avg_og_mou_6_7',\n",
       " 'avg_ic_mou_6_7',\n",
       " 'avg_onnet_mou_6_7',\n",
       " 'avg_offnet_mou_6_7',\n",
       " 'avg_rech_num_6_7',\n",
       " 'avg_rech_amt_6_7',\n",
       " 'avg_max_rech_amt_6_7',\n",
       " 'avg_rech_amt_data_6_7',\n",
       " 'avg_roam_ic_mou_6_7',\n",
       " 'avg_roam_og_mou_6_7',\n",
       " 'avg_vol_mb_6_7',\n",
       " 'total_vol_mb_8',\n",
       " 'avg_monthly_data_6_7',\n",
       " 'total_monthly_data_8',\n",
       " 'avg_sachet_data_6_7',\n",
       " 'total_sachet_data_8',\n",
       " 'avg_rech_data_6_7']"
      ]
     },
     "execution_count": 58,
     "metadata": {},
     "output_type": "execute_result"
    }
   ],
   "source": [
    "list(telecom)"
   ]
  },
  {
   "cell_type": "markdown",
   "metadata": {},
   "source": [
    "## Model Building\n",
    "Let's start by splitting our data into a training set and a test set."
   ]
  },
  {
   "cell_type": "code",
   "execution_count": 59,
   "metadata": {},
   "outputs": [],
   "source": [
    "from sklearn.model_selection import train_test_split"
   ]
  },
  {
   "cell_type": "code",
   "execution_count": 60,
   "metadata": {},
   "outputs": [],
   "source": [
    "telecom.reset_index(drop=True,inplace=True)\n",
    "X=telecom.drop(['churn'],axis=1)\n",
    "\n",
    "y=telecom.churn\n",
    "\n",
    "# Splitting the data into train and test\n",
    "np.random.seed(0)\n",
    "X_train, X_test, y_train, y_test = train_test_split(X, y, train_size=0.7, test_size=0.3, random_state=11)"
   ]
  },
  {
   "cell_type": "markdown",
   "metadata": {},
   "source": [
    "### Scaling"
   ]
  },
  {
   "cell_type": "code",
   "execution_count": 61,
   "metadata": {},
   "outputs": [],
   "source": [
    "from sklearn.preprocessing import StandardScaler"
   ]
  },
  {
   "cell_type": "code",
   "execution_count": 62,
   "metadata": {},
   "outputs": [
    {
     "name": "stderr",
     "output_type": "stream",
     "text": [
      "/anaconda3/lib/python3.7/site-packages/sklearn/preprocessing/data.py:625: DataConversionWarning: Data with input dtype int64, float64 were all converted to float64 by StandardScaler.\n",
      "  return self.partial_fit(X, y)\n",
      "/anaconda3/lib/python3.7/site-packages/sklearn/base.py:462: DataConversionWarning: Data with input dtype int64, float64 were all converted to float64 by StandardScaler.\n",
      "  return self.fit(X, **fit_params).transform(X)\n"
     ]
    },
    {
     "data": {
      "text/html": [
       "<div>\n",
       "<style scoped>\n",
       "    .dataframe tbody tr th:only-of-type {\n",
       "        vertical-align: middle;\n",
       "    }\n",
       "\n",
       "    .dataframe tbody tr th {\n",
       "        vertical-align: top;\n",
       "    }\n",
       "\n",
       "    .dataframe thead th {\n",
       "        text-align: right;\n",
       "    }\n",
       "</style>\n",
       "<table border=\"1\" class=\"dataframe\">\n",
       "  <thead>\n",
       "    <tr style=\"text-align: right;\">\n",
       "      <th></th>\n",
       "      <th>onnet_mou_8</th>\n",
       "      <th>offnet_mou_8</th>\n",
       "      <th>roam_ic_mou_8</th>\n",
       "      <th>roam_og_mou_8</th>\n",
       "      <th>loc_og_t2c_mou_8</th>\n",
       "      <th>total_og_mou_8</th>\n",
       "      <th>total_ic_mou_8</th>\n",
       "      <th>total_rech_num_8</th>\n",
       "      <th>total_rech_amt_8</th>\n",
       "      <th>max_rech_amt_8</th>\n",
       "      <th>last_day_rch_amt_6</th>\n",
       "      <th>last_day_rch_amt_7</th>\n",
       "      <th>last_day_rch_amt_8</th>\n",
       "      <th>total_rech_data_8</th>\n",
       "      <th>av_rech_amt_data_8</th>\n",
       "      <th>aon</th>\n",
       "      <th>aug_vbc_3g</th>\n",
       "      <th>jul_vbc_3g</th>\n",
       "      <th>jun_vbc_3g</th>\n",
       "      <th>avg_loc_og_t2c_mou_6_7</th>\n",
       "      <th>avg_og_mou_6_7</th>\n",
       "      <th>avg_ic_mou_6_7</th>\n",
       "      <th>avg_onnet_mou_6_7</th>\n",
       "      <th>avg_offnet_mou_6_7</th>\n",
       "      <th>avg_rech_num_6_7</th>\n",
       "      <th>avg_rech_amt_6_7</th>\n",
       "      <th>avg_max_rech_amt_6_7</th>\n",
       "      <th>avg_rech_amt_data_6_7</th>\n",
       "      <th>avg_roam_ic_mou_6_7</th>\n",
       "      <th>avg_roam_og_mou_6_7</th>\n",
       "      <th>avg_vol_mb_6_7</th>\n",
       "      <th>total_vol_mb_8</th>\n",
       "      <th>avg_monthly_data_6_7</th>\n",
       "      <th>total_monthly_data_8</th>\n",
       "      <th>avg_sachet_data_6_7</th>\n",
       "      <th>total_sachet_data_8</th>\n",
       "      <th>avg_rech_data_6_7</th>\n",
       "    </tr>\n",
       "  </thead>\n",
       "  <tbody>\n",
       "    <tr>\n",
       "      <th>0</th>\n",
       "      <td>-0.512513</td>\n",
       "      <td>-0.691025</td>\n",
       "      <td>-0.159297</td>\n",
       "      <td>-0.200767</td>\n",
       "      <td>-0.232434</td>\n",
       "      <td>-0.788239</td>\n",
       "      <td>-0.769451</td>\n",
       "      <td>-1.084671</td>\n",
       "      <td>-0.915587</td>\n",
       "      <td>-0.939065</td>\n",
       "      <td>0.073701</td>\n",
       "      <td>-0.708700</td>\n",
       "      <td>-0.651737</td>\n",
       "      <td>-0.546424</td>\n",
       "      <td>-0.622260</td>\n",
       "      <td>-1.063405</td>\n",
       "      <td>-0.395110</td>\n",
       "      <td>1.012440</td>\n",
       "      <td>1.485334</td>\n",
       "      <td>-0.252931</td>\n",
       "      <td>-0.697692</td>\n",
       "      <td>-0.218482</td>\n",
       "      <td>-0.537085</td>\n",
       "      <td>-0.514176</td>\n",
       "      <td>-0.961710</td>\n",
       "      <td>-0.538025</td>\n",
       "      <td>0.187133</td>\n",
       "      <td>0.349987</td>\n",
       "      <td>-0.191121</td>\n",
       "      <td>-0.217582</td>\n",
       "      <td>1.263776</td>\n",
       "      <td>-0.467225</td>\n",
       "      <td>0.90864</td>\n",
       "      <td>-0.510991</td>\n",
       "      <td>-0.498160</td>\n",
       "      <td>-0.425279</td>\n",
       "      <td>-0.282149</td>\n",
       "    </tr>\n",
       "    <tr>\n",
       "      <th>1</th>\n",
       "      <td>-0.018397</td>\n",
       "      <td>-0.360419</td>\n",
       "      <td>-0.159297</td>\n",
       "      <td>-0.200767</td>\n",
       "      <td>-0.232434</td>\n",
       "      <td>-0.236591</td>\n",
       "      <td>-0.167064</td>\n",
       "      <td>-0.544693</td>\n",
       "      <td>-0.199936</td>\n",
       "      <td>0.411051</td>\n",
       "      <td>0.202636</td>\n",
       "      <td>-0.708700</td>\n",
       "      <td>-0.651737</td>\n",
       "      <td>-0.210320</td>\n",
       "      <td>0.387694</td>\n",
       "      <td>0.530613</td>\n",
       "      <td>3.219108</td>\n",
       "      <td>2.252446</td>\n",
       "      <td>0.641570</td>\n",
       "      <td>-0.252931</td>\n",
       "      <td>-0.349332</td>\n",
       "      <td>-0.215558</td>\n",
       "      <td>-0.051055</td>\n",
       "      <td>-0.444855</td>\n",
       "      <td>0.416031</td>\n",
       "      <td>-0.097181</td>\n",
       "      <td>0.187133</td>\n",
       "      <td>0.349987</td>\n",
       "      <td>-0.019174</td>\n",
       "      <td>-0.046463</td>\n",
       "      <td>0.680360</td>\n",
       "      <td>1.305765</td>\n",
       "      <td>0.90864</td>\n",
       "      <td>0.892280</td>\n",
       "      <td>-0.498160</td>\n",
       "      <td>-0.425279</td>\n",
       "      <td>-0.282149</td>\n",
       "    </tr>\n",
       "    <tr>\n",
       "      <th>2</th>\n",
       "      <td>-0.182241</td>\n",
       "      <td>0.143991</td>\n",
       "      <td>-0.159297</td>\n",
       "      <td>-0.200767</td>\n",
       "      <td>-0.232434</td>\n",
       "      <td>0.004404</td>\n",
       "      <td>0.063906</td>\n",
       "      <td>-0.436698</td>\n",
       "      <td>0.303207</td>\n",
       "      <td>-0.172623</td>\n",
       "      <td>0.145331</td>\n",
       "      <td>0.002066</td>\n",
       "      <td>0.276484</td>\n",
       "      <td>-0.546424</td>\n",
       "      <td>-0.622260</td>\n",
       "      <td>0.086379</td>\n",
       "      <td>-0.395110</td>\n",
       "      <td>-0.399063</td>\n",
       "      <td>-0.378152</td>\n",
       "      <td>-0.252931</td>\n",
       "      <td>0.007806</td>\n",
       "      <td>0.082417</td>\n",
       "      <td>-0.201243</td>\n",
       "      <td>0.170147</td>\n",
       "      <td>-0.272839</td>\n",
       "      <td>0.280948</td>\n",
       "      <td>-0.325881</td>\n",
       "      <td>-0.738423</td>\n",
       "      <td>-0.206759</td>\n",
       "      <td>-0.253015</td>\n",
       "      <td>-0.529896</td>\n",
       "      <td>-0.467225</td>\n",
       "      <td>-0.60396</td>\n",
       "      <td>-0.510991</td>\n",
       "      <td>-0.498160</td>\n",
       "      <td>-0.425279</td>\n",
       "      <td>-0.650159</td>\n",
       "    </tr>\n",
       "    <tr>\n",
       "      <th>3</th>\n",
       "      <td>-0.466411</td>\n",
       "      <td>-0.657136</td>\n",
       "      <td>-0.159297</td>\n",
       "      <td>-0.200767</td>\n",
       "      <td>-0.194733</td>\n",
       "      <td>-0.732552</td>\n",
       "      <td>-0.466060</td>\n",
       "      <td>-0.652689</td>\n",
       "      <td>-0.695267</td>\n",
       "      <td>-0.402556</td>\n",
       "      <td>-0.162679</td>\n",
       "      <td>-0.061903</td>\n",
       "      <td>-0.001983</td>\n",
       "      <td>-0.210320</td>\n",
       "      <td>-0.158089</td>\n",
       "      <td>-0.904525</td>\n",
       "      <td>-0.395110</td>\n",
       "      <td>-0.399063</td>\n",
       "      <td>-0.378152</td>\n",
       "      <td>-0.252931</td>\n",
       "      <td>-0.897294</td>\n",
       "      <td>-0.586149</td>\n",
       "      <td>-0.572235</td>\n",
       "      <td>-0.760179</td>\n",
       "      <td>-0.445057</td>\n",
       "      <td>-0.691121</td>\n",
       "      <td>-0.516617</td>\n",
       "      <td>0.124609</td>\n",
       "      <td>-0.206759</td>\n",
       "      <td>-0.253015</td>\n",
       "      <td>-0.130376</td>\n",
       "      <td>-0.307009</td>\n",
       "      <td>-0.60396</td>\n",
       "      <td>-0.510991</td>\n",
       "      <td>0.594772</td>\n",
       "      <td>-0.088189</td>\n",
       "      <td>0.453869</td>\n",
       "    </tr>\n",
       "    <tr>\n",
       "      <th>4</th>\n",
       "      <td>-0.505022</td>\n",
       "      <td>-0.447960</td>\n",
       "      <td>-0.159297</td>\n",
       "      <td>-0.200767</td>\n",
       "      <td>-0.232434</td>\n",
       "      <td>-0.615537</td>\n",
       "      <td>-0.402294</td>\n",
       "      <td>-0.760684</td>\n",
       "      <td>-0.342129</td>\n",
       "      <td>-0.042918</td>\n",
       "      <td>-0.212820</td>\n",
       "      <td>-0.211164</td>\n",
       "      <td>-0.151926</td>\n",
       "      <td>0.461886</td>\n",
       "      <td>1.667990</td>\n",
       "      <td>-1.050861</td>\n",
       "      <td>1.902277</td>\n",
       "      <td>2.251485</td>\n",
       "      <td>1.321812</td>\n",
       "      <td>-0.247221</td>\n",
       "      <td>-0.674095</td>\n",
       "      <td>-0.542215</td>\n",
       "      <td>-0.549302</td>\n",
       "      <td>-0.464658</td>\n",
       "      <td>-0.732086</td>\n",
       "      <td>-0.312992</td>\n",
       "      <td>-0.115414</td>\n",
       "      <td>1.768219</td>\n",
       "      <td>-0.206759</td>\n",
       "      <td>-0.253015</td>\n",
       "      <td>0.620648</td>\n",
       "      <td>0.644195</td>\n",
       "      <td>-0.60396</td>\n",
       "      <td>0.892280</td>\n",
       "      <td>0.594772</td>\n",
       "      <td>0.248901</td>\n",
       "      <td>0.453869</td>\n",
       "    </tr>\n",
       "  </tbody>\n",
       "</table>\n",
       "</div>"
      ],
      "text/plain": [
       "   onnet_mou_8  offnet_mou_8  roam_ic_mou_8  roam_og_mou_8  loc_og_t2c_mou_8  \\\n",
       "0    -0.512513     -0.691025      -0.159297      -0.200767         -0.232434   \n",
       "1    -0.018397     -0.360419      -0.159297      -0.200767         -0.232434   \n",
       "2    -0.182241      0.143991      -0.159297      -0.200767         -0.232434   \n",
       "3    -0.466411     -0.657136      -0.159297      -0.200767         -0.194733   \n",
       "4    -0.505022     -0.447960      -0.159297      -0.200767         -0.232434   \n",
       "\n",
       "   total_og_mou_8  total_ic_mou_8  total_rech_num_8  total_rech_amt_8  \\\n",
       "0       -0.788239       -0.769451         -1.084671         -0.915587   \n",
       "1       -0.236591       -0.167064         -0.544693         -0.199936   \n",
       "2        0.004404        0.063906         -0.436698          0.303207   \n",
       "3       -0.732552       -0.466060         -0.652689         -0.695267   \n",
       "4       -0.615537       -0.402294         -0.760684         -0.342129   \n",
       "\n",
       "   max_rech_amt_8  last_day_rch_amt_6  last_day_rch_amt_7  last_day_rch_amt_8  \\\n",
       "0       -0.939065            0.073701           -0.708700           -0.651737   \n",
       "1        0.411051            0.202636           -0.708700           -0.651737   \n",
       "2       -0.172623            0.145331            0.002066            0.276484   \n",
       "3       -0.402556           -0.162679           -0.061903           -0.001983   \n",
       "4       -0.042918           -0.212820           -0.211164           -0.151926   \n",
       "\n",
       "   total_rech_data_8  av_rech_amt_data_8       aon  aug_vbc_3g  jul_vbc_3g  \\\n",
       "0          -0.546424           -0.622260 -1.063405   -0.395110    1.012440   \n",
       "1          -0.210320            0.387694  0.530613    3.219108    2.252446   \n",
       "2          -0.546424           -0.622260  0.086379   -0.395110   -0.399063   \n",
       "3          -0.210320           -0.158089 -0.904525   -0.395110   -0.399063   \n",
       "4           0.461886            1.667990 -1.050861    1.902277    2.251485   \n",
       "\n",
       "   jun_vbc_3g  avg_loc_og_t2c_mou_6_7  avg_og_mou_6_7  avg_ic_mou_6_7  \\\n",
       "0    1.485334               -0.252931       -0.697692       -0.218482   \n",
       "1    0.641570               -0.252931       -0.349332       -0.215558   \n",
       "2   -0.378152               -0.252931        0.007806        0.082417   \n",
       "3   -0.378152               -0.252931       -0.897294       -0.586149   \n",
       "4    1.321812               -0.247221       -0.674095       -0.542215   \n",
       "\n",
       "   avg_onnet_mou_6_7  avg_offnet_mou_6_7  avg_rech_num_6_7  avg_rech_amt_6_7  \\\n",
       "0          -0.537085           -0.514176         -0.961710         -0.538025   \n",
       "1          -0.051055           -0.444855          0.416031         -0.097181   \n",
       "2          -0.201243            0.170147         -0.272839          0.280948   \n",
       "3          -0.572235           -0.760179         -0.445057         -0.691121   \n",
       "4          -0.549302           -0.464658         -0.732086         -0.312992   \n",
       "\n",
       "   avg_max_rech_amt_6_7  avg_rech_amt_data_6_7  avg_roam_ic_mou_6_7  \\\n",
       "0              0.187133               0.349987            -0.191121   \n",
       "1              0.187133               0.349987            -0.019174   \n",
       "2             -0.325881              -0.738423            -0.206759   \n",
       "3             -0.516617               0.124609            -0.206759   \n",
       "4             -0.115414               1.768219            -0.206759   \n",
       "\n",
       "   avg_roam_og_mou_6_7  avg_vol_mb_6_7  total_vol_mb_8  avg_monthly_data_6_7  \\\n",
       "0            -0.217582        1.263776       -0.467225               0.90864   \n",
       "1            -0.046463        0.680360        1.305765               0.90864   \n",
       "2            -0.253015       -0.529896       -0.467225              -0.60396   \n",
       "3            -0.253015       -0.130376       -0.307009              -0.60396   \n",
       "4            -0.253015        0.620648        0.644195              -0.60396   \n",
       "\n",
       "   total_monthly_data_8  avg_sachet_data_6_7  total_sachet_data_8  \\\n",
       "0             -0.510991            -0.498160            -0.425279   \n",
       "1              0.892280            -0.498160            -0.425279   \n",
       "2             -0.510991            -0.498160            -0.425279   \n",
       "3             -0.510991             0.594772            -0.088189   \n",
       "4              0.892280             0.594772             0.248901   \n",
       "\n",
       "   avg_rech_data_6_7  \n",
       "0          -0.282149  \n",
       "1          -0.282149  \n",
       "2          -0.650159  \n",
       "3           0.453869  \n",
       "4           0.453869  "
      ]
     },
     "execution_count": 62,
     "metadata": {},
     "output_type": "execute_result"
    }
   ],
   "source": [
    "scaler = StandardScaler()\n",
    "\n",
    "X_train = scaler.fit_transform(X_train)\n",
    "X_train=pd.DataFrame(X_train).reset_index(drop=True)\n",
    "X_train.columns=X.columns\n",
    "X_train.head()"
   ]
  },
  {
   "cell_type": "code",
   "execution_count": 63,
   "metadata": {
    "scrolled": true
   },
   "outputs": [
    {
     "data": {
      "text/plain": [
       "0    1\n",
       "1    0\n",
       "2    0\n",
       "3    0\n",
       "4    0\n",
       "Name: churn, dtype: int64"
      ]
     },
     "execution_count": 63,
     "metadata": {},
     "output_type": "execute_result"
    }
   ],
   "source": [
    "y_train=y_train.reset_index(drop=True)\n",
    "y_train.head()"
   ]
  },
  {
   "cell_type": "code",
   "execution_count": 64,
   "metadata": {},
   "outputs": [
    {
     "name": "stderr",
     "output_type": "stream",
     "text": [
      "/anaconda3/lib/python3.7/site-packages/ipykernel_launcher.py:1: DataConversionWarning: Data with input dtype int64, float64 were all converted to float64 by StandardScaler.\n",
      "  \"\"\"Entry point for launching an IPython kernel.\n"
     ]
    },
    {
     "data": {
      "text/plain": [
       "0    0\n",
       "1    0\n",
       "2    0\n",
       "3    0\n",
       "4    0\n",
       "Name: churn, dtype: int64"
      ]
     },
     "execution_count": 64,
     "metadata": {},
     "output_type": "execute_result"
    }
   ],
   "source": [
    "X_test = scaler.transform(X_test)\n",
    "X_test=pd.DataFrame(X_test).reset_index(drop=True)\n",
    "X_test.columns=X.columns\n",
    "y_test=y_test.reset_index(drop=True)\n",
    "y_test.head()"
   ]
  },
  {
   "cell_type": "code",
   "execution_count": 65,
   "metadata": {},
   "outputs": [],
   "source": [
    "X_LM_Train=X_train\n",
    "y_LM_Train=y_train\n",
    "X_LM_Test=X_test\n",
    "y_LM_Test=y_test"
   ]
  },
  {
   "cell_type": "markdown",
   "metadata": {},
   "source": [
    "## Dimensionality reduction"
   ]
  },
  {
   "cell_type": "markdown",
   "metadata": {},
   "source": [
    "### Recursive Feature Elimination"
   ]
  },
  {
   "cell_type": "code",
   "execution_count": 66,
   "metadata": {},
   "outputs": [],
   "source": [
    "from sklearn.linear_model import LogisticRegression\n",
    "logreg = LogisticRegression()\n",
    "from sklearn.feature_selection import RFE\n",
    "rfe = RFE(logreg, 15)             # running RFE with  variables as output\n",
    "rfe = rfe.fit(X_train,y_train)"
   ]
  },
  {
   "cell_type": "code",
   "execution_count": 67,
   "metadata": {},
   "outputs": [
    {
     "data": {
      "text/plain": [
       "[('onnet_mou_8', True, 1),\n",
       " ('offnet_mou_8', True, 1),\n",
       " ('roam_ic_mou_8', False, 16),\n",
       " ('roam_og_mou_8', True, 1),\n",
       " ('loc_og_t2c_mou_8', False, 9),\n",
       " ('total_og_mou_8', True, 1),\n",
       " ('total_ic_mou_8', True, 1),\n",
       " ('total_rech_num_8', True, 1),\n",
       " ('total_rech_amt_8', True, 1),\n",
       " ('max_rech_amt_8', False, 10),\n",
       " ('last_day_rch_amt_6', False, 6),\n",
       " ('last_day_rch_amt_7', False, 20),\n",
       " ('last_day_rch_amt_8', True, 1),\n",
       " ('total_rech_data_8', False, 15),\n",
       " ('av_rech_amt_data_8', False, 8),\n",
       " ('aon', True, 1),\n",
       " ('aug_vbc_3g', False, 5),\n",
       " ('jul_vbc_3g', False, 21),\n",
       " ('jun_vbc_3g', False, 23),\n",
       " ('avg_loc_og_t2c_mou_6_7', False, 12),\n",
       " ('avg_og_mou_6_7', True, 1),\n",
       " ('avg_ic_mou_6_7', True, 1),\n",
       " ('avg_onnet_mou_6_7', True, 1),\n",
       " ('avg_offnet_mou_6_7', True, 1),\n",
       " ('avg_rech_num_6_7', False, 2),\n",
       " ('avg_rech_amt_6_7', False, 18),\n",
       " ('avg_max_rech_amt_6_7', True, 1),\n",
       " ('avg_rech_amt_data_6_7', False, 3),\n",
       " ('avg_roam_ic_mou_6_7', False, 11),\n",
       " ('avg_roam_og_mou_6_7', True, 1),\n",
       " ('avg_vol_mb_6_7', False, 13),\n",
       " ('total_vol_mb_8', False, 17),\n",
       " ('avg_monthly_data_6_7', False, 4),\n",
       " ('total_monthly_data_8', False, 14),\n",
       " ('avg_sachet_data_6_7', False, 19),\n",
       " ('total_sachet_data_8', False, 7),\n",
       " ('avg_rech_data_6_7', False, 22)]"
      ]
     },
     "execution_count": 67,
     "metadata": {},
     "output_type": "execute_result"
    }
   ],
   "source": [
    "list(zip(X_train.columns, rfe.support_, rfe.ranking_))"
   ]
  },
  {
   "cell_type": "code",
   "execution_count": 68,
   "metadata": {},
   "outputs": [
    {
     "data": {
      "text/plain": [
       "Index(['onnet_mou_8', 'offnet_mou_8', 'roam_og_mou_8', 'total_og_mou_8',\n",
       "       'total_ic_mou_8', 'total_rech_num_8', 'total_rech_amt_8',\n",
       "       'last_day_rch_amt_8', 'aon', 'avg_og_mou_6_7', 'avg_ic_mou_6_7',\n",
       "       'avg_onnet_mou_6_7', 'avg_offnet_mou_6_7', 'avg_max_rech_amt_6_7',\n",
       "       'avg_roam_og_mou_6_7'],\n",
       "      dtype='object')"
      ]
     },
     "execution_count": 68,
     "metadata": {},
     "output_type": "execute_result"
    }
   ],
   "source": [
    "#Variables selected by RFE\n",
    "variablelist = X_train.columns[rfe.support_]\n",
    "variablelist"
   ]
  },
  {
   "cell_type": "code",
   "execution_count": 69,
   "metadata": {},
   "outputs": [],
   "source": [
    "# Using only the subset of features selected by RFE\n",
    "X_train = X_train[variablelist]\n",
    "X_test = X_test[variablelist]"
   ]
  },
  {
   "cell_type": "markdown",
   "metadata": {},
   "source": [
    "### PCA on the train data"
   ]
  },
  {
   "cell_type": "markdown",
   "metadata": {},
   "source": [
    "We'll calculate the PCs using the train data, and apply them later on the test data"
   ]
  },
  {
   "cell_type": "code",
   "execution_count": 70,
   "metadata": {},
   "outputs": [
    {
     "data": {
      "text/plain": [
       "(21000, 15)"
      ]
     },
     "execution_count": 70,
     "metadata": {},
     "output_type": "execute_result"
    }
   ],
   "source": [
    "X_train.shape"
   ]
  },
  {
   "cell_type": "code",
   "execution_count": 71,
   "metadata": {},
   "outputs": [],
   "source": [
    "#Importing the PCA module\n",
    "from sklearn.decomposition import PCA\n",
    "pca = PCA(svd_solver='randomized', random_state=11)"
   ]
  },
  {
   "cell_type": "code",
   "execution_count": 72,
   "metadata": {},
   "outputs": [
    {
     "data": {
      "text/plain": [
       "PCA(copy=True, iterated_power='auto', n_components=None, random_state=11,\n",
       "  svd_solver='randomized', tol=0.0, whiten=False)"
      ]
     },
     "execution_count": 72,
     "metadata": {},
     "output_type": "execute_result"
    }
   ],
   "source": [
    "#Doing the PCA on the train data\n",
    "pca.fit(X_train)"
   ]
  },
  {
   "cell_type": "markdown",
   "metadata": {},
   "source": [
    "#### Let's plot the principal components and try to make sense of them\n",
    "- We'll plot original features on the first 2 principal components as axes"
   ]
  },
  {
   "cell_type": "code",
   "execution_count": 73,
   "metadata": {},
   "outputs": [
    {
     "data": {
      "text/plain": [
       "array([[ 3.19453471e-01,  3.55087280e-01,  9.06376449e-02,\n",
       "         4.42843711e-01,  1.56392173e-01,  2.10674564e-01,\n",
       "         3.15626953e-01,  1.00475190e-01,  7.67104260e-03,\n",
       "         4.11721986e-01,  1.33387314e-01,  2.85750783e-01,\n",
       "         3.25474455e-01,  7.59337891e-02,  9.08832308e-02],\n",
       "       [-2.66453562e-01,  1.12923758e-01,  2.01110925e-02,\n",
       "        -9.92898284e-02,  4.11095928e-01, -2.09182581e-01,\n",
       "         1.91633024e-01,  3.61596029e-01,  2.79724201e-01,\n",
       "        -1.47565369e-01,  4.10184810e-01, -2.98658359e-01,\n",
       "         8.49269288e-02,  4.01096212e-01,  1.39773256e-02],\n",
       "       [-5.71934963e-02,  6.92404084e-02,  5.17584765e-01,\n",
       "        -6.09399516e-02, -3.82086406e-01, -1.46166905e-01,\n",
       "         1.42211085e-01,  2.31700080e-01, -1.78838790e-02,\n",
       "        -5.84563574e-02, -3.82593746e-01, -5.72573708e-02,\n",
       "         6.96104861e-02,  2.47124982e-01,  5.09660240e-01],\n",
       "       [-4.27839852e-01,  4.10454522e-01,  6.63025931e-02,\n",
       "        -5.54958216e-03, -8.45643411e-03,  2.44583384e-01,\n",
       "        -2.44989729e-02, -2.87919572e-01, -1.83005619e-01,\n",
       "        -2.33045746e-02, -1.44535167e-02, -4.55323515e-01,\n",
       "         4.14984352e-01, -2.91561896e-01,  4.33586600e-02],\n",
       "       [ 1.02756986e-01, -1.75791769e-01,  4.59984333e-01,\n",
       "        -1.17092548e-01,  3.69343261e-01,  1.46972827e-01,\n",
       "        -1.00536387e-01, -2.86720892e-01, -4.75309942e-03,\n",
       "        -1.02008849e-01,  3.85621041e-01,  1.18127492e-01,\n",
       "        -1.69015262e-01, -2.50790396e-01,  4.67292246e-01],\n",
       "       [ 8.55537717e-02, -1.53606099e-02, -3.43749703e-02,\n",
       "         5.23705583e-02,  3.71630925e-02,  5.94705963e-01,\n",
       "         4.76002176e-01,  2.30445947e-01, -1.82434119e-01,\n",
       "        -3.68699700e-01, -1.01983348e-01, -1.75205380e-01,\n",
       "        -3.71627566e-01, -4.10434180e-02, -6.05787990e-02],\n",
       "       [-4.35836432e-02, -7.44286067e-02,  1.65340584e-02,\n",
       "        -8.18987038e-02,  1.13861274e-01, -1.89572417e-01,\n",
       "        -1.61338892e-02,  1.40453746e-01, -9.19203490e-01,\n",
       "         7.73144280e-02,  1.63364050e-01,  6.39548214e-02,\n",
       "         3.99920953e-02,  1.79244487e-01, -3.56632175e-02],\n",
       "       [-1.52856796e-01, -1.48450033e-01,  4.11801464e-01,\n",
       "        -2.58770502e-01, -8.77565812e-02,  9.43684108e-02,\n",
       "         1.80736155e-02,  4.93378834e-01,  7.49963986e-02,\n",
       "         2.29458014e-01,  9.78280349e-02,  1.30431240e-01,\n",
       "         1.29040442e-01, -4.42912946e-01, -4.00021798e-01],\n",
       "       [-1.07149641e-01, -1.59428385e-01,  3.16453833e-01,\n",
       "        -2.22149412e-01, -1.10685326e-01,  2.50562319e-01,\n",
       "         1.99510606e-01, -4.89662091e-01,  4.63496485e-02,\n",
       "         1.42591865e-01,  4.91491046e-02,  8.42262193e-02,\n",
       "         4.94977501e-02,  5.28474167e-01, -3.81151675e-01],\n",
       "       [ 1.97760684e-01,  3.43750682e-01,  4.31394928e-01,\n",
       "         3.05965295e-01,  5.72499688e-02, -4.32383234e-01,\n",
       "         5.22842495e-02, -1.63233624e-01, -4.12957086e-02,\n",
       "        -2.28792045e-01, -3.30431741e-02, -1.38548649e-01,\n",
       "        -2.82647021e-01, -1.23660507e-01, -4.16987028e-01],\n",
       "       [-1.14248290e-01, -1.55781509e-01, -1.81457839e-01,\n",
       "        -1.56525749e-01, -4.12586050e-02, -3.98795548e-01,\n",
       "         7.49829696e-01, -2.39836060e-01,  7.19667481e-03,\n",
       "         7.15830656e-02,  1.64243088e-02,  8.42093740e-02,\n",
       "         4.30880367e-02, -3.14991569e-01,  1.05512794e-01],\n",
       "       [-5.55727351e-01,  4.31221062e-01, -4.45298982e-02,\n",
       "        -5.98797082e-02,  1.37847949e-01,  3.49715712e-02,\n",
       "        -2.75424120e-02,  2.38057924e-03,  1.02342721e-02,\n",
       "         5.95469238e-02, -1.36793633e-01,  5.38412453e-01,\n",
       "        -4.04647251e-01,  2.44564671e-02,  4.54877411e-02],\n",
       "       [-4.86416235e-02,  1.67577551e-01, -7.40323899e-02,\n",
       "         9.38135240e-02, -6.82469319e-01,  2.35072548e-02,\n",
       "        -3.92719213e-03,  1.27677869e-02, -2.30798919e-03,\n",
       "        -8.31814344e-02,  6.70453044e-01,  4.67088540e-02,\n",
       "        -1.59474580e-01,  1.06382946e-03,  6.87592279e-02],\n",
       "       [-1.63439453e-02, -6.94292049e-03,  2.76400221e-04,\n",
       "         7.61300366e-03,  4.62466527e-03,  7.78352277e-04,\n",
       "        -6.30514812e-04,  1.45197673e-03,  2.16836065e-03,\n",
       "         7.15094109e-01, -3.16451489e-03, -4.76747536e-01,\n",
       "        -5.01434545e-01,  2.23418484e-04,  9.74831871e-02],\n",
       "       [-4.71573682e-01, -4.97238887e-01,  9.91662688e-02,\n",
       "         7.21286104e-01, -2.39591137e-04, -1.71871320e-03,\n",
       "        -1.58767194e-03,  3.08179011e-05,  3.67478031e-04,\n",
       "        -1.21859287e-02, -2.04054557e-05,  7.70095727e-03,\n",
       "         8.25024768e-03, -2.97693000e-04, -1.59171351e-03]])"
      ]
     },
     "execution_count": 73,
     "metadata": {},
     "output_type": "execute_result"
    }
   ],
   "source": [
    "pca.components_"
   ]
  },
  {
   "cell_type": "code",
   "execution_count": 74,
   "metadata": {
    "scrolled": true
   },
   "outputs": [
    {
     "data": {
      "text/html": [
       "<div>\n",
       "<style scoped>\n",
       "    .dataframe tbody tr th:only-of-type {\n",
       "        vertical-align: middle;\n",
       "    }\n",
       "\n",
       "    .dataframe tbody tr th {\n",
       "        vertical-align: top;\n",
       "    }\n",
       "\n",
       "    .dataframe thead th {\n",
       "        text-align: right;\n",
       "    }\n",
       "</style>\n",
       "<table border=\"1\" class=\"dataframe\">\n",
       "  <thead>\n",
       "    <tr style=\"text-align: right;\">\n",
       "      <th></th>\n",
       "      <th>PC1</th>\n",
       "      <th>PC2</th>\n",
       "      <th>Feature</th>\n",
       "    </tr>\n",
       "  </thead>\n",
       "  <tbody>\n",
       "    <tr>\n",
       "      <th>0</th>\n",
       "      <td>0.319453</td>\n",
       "      <td>-0.266454</td>\n",
       "      <td>onnet_mou_8</td>\n",
       "    </tr>\n",
       "    <tr>\n",
       "      <th>1</th>\n",
       "      <td>0.355087</td>\n",
       "      <td>0.112924</td>\n",
       "      <td>offnet_mou_8</td>\n",
       "    </tr>\n",
       "    <tr>\n",
       "      <th>2</th>\n",
       "      <td>0.090638</td>\n",
       "      <td>0.020111</td>\n",
       "      <td>roam_og_mou_8</td>\n",
       "    </tr>\n",
       "    <tr>\n",
       "      <th>3</th>\n",
       "      <td>0.442844</td>\n",
       "      <td>-0.099290</td>\n",
       "      <td>total_og_mou_8</td>\n",
       "    </tr>\n",
       "    <tr>\n",
       "      <th>4</th>\n",
       "      <td>0.156392</td>\n",
       "      <td>0.411096</td>\n",
       "      <td>total_ic_mou_8</td>\n",
       "    </tr>\n",
       "    <tr>\n",
       "      <th>5</th>\n",
       "      <td>0.210675</td>\n",
       "      <td>-0.209183</td>\n",
       "      <td>total_rech_num_8</td>\n",
       "    </tr>\n",
       "    <tr>\n",
       "      <th>6</th>\n",
       "      <td>0.315627</td>\n",
       "      <td>0.191633</td>\n",
       "      <td>total_rech_amt_8</td>\n",
       "    </tr>\n",
       "    <tr>\n",
       "      <th>7</th>\n",
       "      <td>0.100475</td>\n",
       "      <td>0.361596</td>\n",
       "      <td>last_day_rch_amt_8</td>\n",
       "    </tr>\n",
       "    <tr>\n",
       "      <th>8</th>\n",
       "      <td>0.007671</td>\n",
       "      <td>0.279724</td>\n",
       "      <td>aon</td>\n",
       "    </tr>\n",
       "    <tr>\n",
       "      <th>9</th>\n",
       "      <td>0.411722</td>\n",
       "      <td>-0.147565</td>\n",
       "      <td>avg_og_mou_6_7</td>\n",
       "    </tr>\n",
       "    <tr>\n",
       "      <th>10</th>\n",
       "      <td>0.133387</td>\n",
       "      <td>0.410185</td>\n",
       "      <td>avg_ic_mou_6_7</td>\n",
       "    </tr>\n",
       "    <tr>\n",
       "      <th>11</th>\n",
       "      <td>0.285751</td>\n",
       "      <td>-0.298658</td>\n",
       "      <td>avg_onnet_mou_6_7</td>\n",
       "    </tr>\n",
       "    <tr>\n",
       "      <th>12</th>\n",
       "      <td>0.325474</td>\n",
       "      <td>0.084927</td>\n",
       "      <td>avg_offnet_mou_6_7</td>\n",
       "    </tr>\n",
       "    <tr>\n",
       "      <th>13</th>\n",
       "      <td>0.075934</td>\n",
       "      <td>0.401096</td>\n",
       "      <td>avg_max_rech_amt_6_7</td>\n",
       "    </tr>\n",
       "    <tr>\n",
       "      <th>14</th>\n",
       "      <td>0.090883</td>\n",
       "      <td>0.013977</td>\n",
       "      <td>avg_roam_og_mou_6_7</td>\n",
       "    </tr>\n",
       "  </tbody>\n",
       "</table>\n",
       "</div>"
      ],
      "text/plain": [
       "         PC1       PC2               Feature\n",
       "0   0.319453 -0.266454           onnet_mou_8\n",
       "1   0.355087  0.112924          offnet_mou_8\n",
       "2   0.090638  0.020111         roam_og_mou_8\n",
       "3   0.442844 -0.099290        total_og_mou_8\n",
       "4   0.156392  0.411096        total_ic_mou_8\n",
       "5   0.210675 -0.209183      total_rech_num_8\n",
       "6   0.315627  0.191633      total_rech_amt_8\n",
       "7   0.100475  0.361596    last_day_rch_amt_8\n",
       "8   0.007671  0.279724                   aon\n",
       "9   0.411722 -0.147565        avg_og_mou_6_7\n",
       "10  0.133387  0.410185        avg_ic_mou_6_7\n",
       "11  0.285751 -0.298658     avg_onnet_mou_6_7\n",
       "12  0.325474  0.084927    avg_offnet_mou_6_7\n",
       "13  0.075934  0.401096  avg_max_rech_amt_6_7\n",
       "14  0.090883  0.013977   avg_roam_og_mou_6_7"
      ]
     },
     "execution_count": 74,
     "metadata": {},
     "output_type": "execute_result"
    }
   ],
   "source": [
    "colnames = list(X_train.columns)\n",
    "pcs_df = pd.DataFrame({'PC1':pca.components_[0],'PC2':pca.components_[1], 'Feature':colnames})\n",
    "pcs_df"
   ]
  },
  {
   "cell_type": "markdown",
   "metadata": {},
   "source": [
    "#### Looking at the screeplot to assess the number of needed principal components"
   ]
  },
  {
   "cell_type": "code",
   "execution_count": 75,
   "metadata": {},
   "outputs": [
    {
     "data": {
      "image/png": "[encoded data removed]",
      "text/plain": [
       "<Figure size 576x576 with 1 Axes>"
      ]
     },
     "metadata": {
      "needs_background": "light"
     },
     "output_type": "display_data"
    }
   ],
   "source": [
    "%matplotlib inline\n",
    "fig = plt.figure(figsize = (8,8))\n",
    "plt.scatter(pcs_df.PC1, pcs_df.PC2)\n",
    "plt.xlabel('Principal Component 1')\n",
    "plt.ylabel('Principal Component 2')\n",
    "for i, txt in enumerate(pcs_df.Feature):\n",
    "    plt.annotate(txt, (pcs_df.PC1[i],pcs_df.PC2[i]))\n",
    "plt.tight_layout()\n",
    "plt.show()"
   ]
  },
  {
   "cell_type": "code",
   "execution_count": 76,
   "metadata": {},
   "outputs": [
    {
     "data": {
      "text/plain": [
       "array([2.84105479e-01, 1.43631640e-01, 1.11412745e-01, 1.00054381e-01,\n",
       "       8.76362624e-02, 6.81596351e-02, 5.85061678e-02, 3.51140113e-02,\n",
       "       3.39983811e-02, 2.76061585e-02, 2.30856809e-02, 1.50279214e-02,\n",
       "       1.12976941e-02, 3.55347024e-04, 8.49544194e-06])"
      ]
     },
     "execution_count": 76,
     "metadata": {},
     "output_type": "execute_result"
    }
   ],
   "source": [
    "pca.explained_variance_ratio_"
   ]
  },
  {
   "cell_type": "code",
   "execution_count": 77,
   "metadata": {},
   "outputs": [
    {
     "data": {
      "image/png": "[encoded data removed]",
      "text/plain": [
       "<Figure size 864x576 with 1 Axes>"
      ]
     },
     "metadata": {
      "needs_background": "light"
     },
     "output_type": "display_data"
    }
   ],
   "source": [
    "#Making the screeplot - plotting the cumulative variance against the number of components\n",
    "%matplotlib inline\n",
    "fig = plt.figure(figsize = (12,8))\n",
    "plt.plot(np.cumsum(pca.explained_variance_ratio_))\n",
    "plt.xlabel('number of components')\n",
    "plt.ylabel('cumulative explained variance')\n",
    "plt.show()"
   ]
  },
  {
   "cell_type": "markdown",
   "metadata": {},
   "source": [
    "#### Looks like 10 components are enough to describe 95% of the variance in the dataset\n",
    "- We'll choose 10 components for our modeling"
   ]
  },
  {
   "cell_type": "code",
   "execution_count": 78,
   "metadata": {},
   "outputs": [],
   "source": [
    "#Using incremental PCA for efficiency - saves a lot of time on larger datasets\n",
    "from sklearn.decomposition import IncrementalPCA\n",
    "pca_final = IncrementalPCA(n_components=10)"
   ]
  },
  {
   "cell_type": "markdown",
   "metadata": {},
   "source": [
    "#### Basis transformation - getting the data onto our PCs"
   ]
  },
  {
   "cell_type": "code",
   "execution_count": 79,
   "metadata": {},
   "outputs": [
    {
     "data": {
      "text/plain": [
       "(21000, 10)"
      ]
     },
     "execution_count": 79,
     "metadata": {},
     "output_type": "execute_result"
    }
   ],
   "source": [
    "df_train_pca = pca_final.fit_transform(X_train)\n",
    "df_train_pca.shape"
   ]
  },
  {
   "cell_type": "markdown",
   "metadata": {},
   "source": [
    "#### Creating correlation matrix for the principal components - we expect little to no correlation"
   ]
  },
  {
   "cell_type": "code",
   "execution_count": 80,
   "metadata": {},
   "outputs": [],
   "source": [
    "#creating correlation matrix for the principal components\n",
    "corrmat = np.corrcoef(df_train_pca.transpose())"
   ]
  },
  {
   "cell_type": "code",
   "execution_count": 81,
   "metadata": {},
   "outputs": [
    {
     "data": {
      "image/png": "[encoded data removed]",
      "text/plain": [
       "<Figure size 1440x720 with 2 Axes>"
      ]
     },
     "metadata": {
      "needs_background": "light"
     },
     "output_type": "display_data"
    }
   ],
   "source": [
    "#plotting the correlation matrix\n",
    "%matplotlib inline\n",
    "plt.figure(figsize = (20,10));\n",
    "sns.heatmap(corrmat,annot = True);"
   ]
  },
  {
   "cell_type": "code",
   "execution_count": 82,
   "metadata": {},
   "outputs": [
    {
     "name": "stdout",
     "output_type": "stream",
     "text": [
      "max corr: 0.006112329518386576 , min corr:  -0.0009888199503914816\n"
     ]
    }
   ],
   "source": [
    "# 1s -> 0s in diagonals\n",
    "corrmat_nodiag = corrmat - np.diagflat(corrmat.diagonal())\n",
    "print(\"max corr:\",corrmat_nodiag.max(), \", min corr: \", corrmat_nodiag.min(),)\n",
    "# we see that correlations are indeed very close to 0"
   ]
  },
  {
   "cell_type": "code",
   "execution_count": 83,
   "metadata": {},
   "outputs": [
    {
     "data": {
      "text/plain": [
       "(9001, 10)"
      ]
     },
     "execution_count": 83,
     "metadata": {},
     "output_type": "execute_result"
    }
   ],
   "source": [
    "#Applying selected components to the test data - 10 components\n",
    "df_test_pca = pca_final.transform(X_test)\n",
    "df_test_pca.shape"
   ]
  },
  {
   "cell_type": "markdown",
   "metadata": {},
   "source": [
    "###  Handling Class Imbalance using SMOTE (Synthetic Minority Oversampling TEchnique)"
   ]
  },
  {
   "cell_type": "markdown",
   "metadata": {},
   "source": [
    "#### Churn rate"
   ]
  },
  {
   "cell_type": "code",
   "execution_count": 84,
   "metadata": {},
   "outputs": [
    {
     "name": "stdout",
     "output_type": "stream",
     "text": [
      "0    0.865604\n",
      "1    0.134396\n",
      "Name: churn, dtype: float64\n"
     ]
    }
   ],
   "source": [
    "print(telecom.churn.value_counts()/telecom.churn.count())"
   ]
  },
  {
   "cell_type": "markdown",
   "metadata": {},
   "source": [
    "> This is an imbalanced dataset as only 13% of our dataset contains cases of churn"
   ]
  },
  {
   "cell_type": "code",
   "execution_count": 85,
   "metadata": {},
   "outputs": [
    {
     "name": "stdout",
     "output_type": "stream",
     "text": [
      "Before OverSampling, counts of label '1': 2785\n",
      "Before OverSampling, counts of label '0': 18215 \n",
      "\n",
      "After OverSampling, the shape of train_X: (36430, 10)\n",
      "After OverSampling, the shape of train_y: (21000,) \n",
      "\n"
     ]
    }
   ],
   "source": [
    "from imblearn.over_sampling import SMOTE\n",
    "print(\"Before OverSampling, counts of label '1': {}\".format(sum(y_train==1)))\n",
    "print(\"Before OverSampling, counts of label '0': {} \\n\".format(sum(y_train==0)))\n",
    "\n",
    "sm = SMOTE(random_state=42)\n",
    "df_train_pca, y_train_pca = sm.fit_resample(df_train_pca, y_train.ravel())\n",
    "\n",
    "#X_train = pd.DataFrame(data=X_train_res, columns=cols)\n",
    "#y_train = pd.DataFrame(data=y_train_res, columns=['churn'])\n",
    "\n",
    "print('After OverSampling, the shape of train_X: {}'.format(df_train_pca.shape))\n",
    "print('After OverSampling, the shape of train_y: {} \\n'.format(y_train.shape))"
   ]
  },
  {
   "cell_type": "markdown",
   "metadata": {},
   "source": [
    "### Applying Logistic Regression on our Principal Components"
   ]
  },
  {
   "cell_type": "code",
   "execution_count": 86,
   "metadata": {},
   "outputs": [],
   "source": [
    "#Training the model on the train data\n",
    "from sklearn.linear_model import LogisticRegression\n",
    "from sklearn import metrics\n",
    "\n",
    "learner_pca = LogisticRegression()\n",
    "model_pca = learner_pca.fit(df_train_pca,y_train_pca)"
   ]
  },
  {
   "cell_type": "code",
   "execution_count": 87,
   "metadata": {},
   "outputs": [
    {
     "data": {
      "text/plain": [
       "'0.86'"
      ]
     },
     "execution_count": 87,
     "metadata": {},
     "output_type": "execute_result"
    }
   ],
   "source": [
    "#Making prediction on the train data\n",
    "pred_probs_train = model_pca.predict_proba(df_train_pca)[:,1]\n",
    "\"{:2.2}\".format(metrics.roc_auc_score(y_train_pca, pred_probs_train))"
   ]
  },
  {
   "cell_type": "code",
   "execution_count": 88,
   "metadata": {},
   "outputs": [
    {
     "data": {
      "text/plain": [
       "'0.86'"
      ]
     },
     "execution_count": 88,
     "metadata": {},
     "output_type": "execute_result"
    }
   ],
   "source": [
    "#Making prediction on the test data\n",
    "pred_probs_test = model_pca.predict_proba(df_test_pca)[:,1]\n",
    "\"{:2.2}\".format(metrics.roc_auc_score(y_test, pred_probs_test))"
   ]
  },
  {
   "cell_type": "code",
   "execution_count": 89,
   "metadata": {},
   "outputs": [
    {
     "name": "stdout",
     "output_type": "stream",
     "text": [
      "[[5872 1882]\n",
      " [ 227 1020]]\n"
     ]
    }
   ],
   "source": [
    "# Importing classification report and confusion matrix from sklearn metrics\n",
    "from sklearn.metrics import classification_report,confusion_matrix, accuracy_score\n",
    "pred = model_pca.predict(df_test_pca)\n",
    "print(confusion_matrix(y_test,pred))"
   ]
  },
  {
   "cell_type": "code",
   "execution_count": 90,
   "metadata": {},
   "outputs": [
    {
     "data": {
      "text/plain": [
       "array([1, 0, 0, ..., 1, 1, 1], dtype=int64)"
      ]
     },
     "execution_count": 90,
     "metadata": {},
     "output_type": "execute_result"
    }
   ],
   "source": [
    "y_train_pca"
   ]
  },
  {
   "cell_type": "code",
   "execution_count": 91,
   "metadata": {},
   "outputs": [
    {
     "data": {
      "text/html": [
       "<div>\n",
       "<style scoped>\n",
       "    .dataframe tbody tr th:only-of-type {\n",
       "        vertical-align: middle;\n",
       "    }\n",
       "\n",
       "    .dataframe tbody tr th {\n",
       "        vertical-align: top;\n",
       "    }\n",
       "\n",
       "    .dataframe thead th {\n",
       "        text-align: right;\n",
       "    }\n",
       "</style>\n",
       "<table border=\"1\" class=\"dataframe\">\n",
       "  <thead>\n",
       "    <tr style=\"text-align: right;\">\n",
       "      <th></th>\n",
       "      <th>Churn</th>\n",
       "      <th>Churn_Prob</th>\n",
       "    </tr>\n",
       "  </thead>\n",
       "  <tbody>\n",
       "    <tr>\n",
       "      <th>0</th>\n",
       "      <td>1</td>\n",
       "      <td>0.855810</td>\n",
       "    </tr>\n",
       "    <tr>\n",
       "      <th>1</th>\n",
       "      <td>0</td>\n",
       "      <td>0.372873</td>\n",
       "    </tr>\n",
       "    <tr>\n",
       "      <th>2</th>\n",
       "      <td>0</td>\n",
       "      <td>0.211986</td>\n",
       "    </tr>\n",
       "    <tr>\n",
       "      <th>3</th>\n",
       "      <td>0</td>\n",
       "      <td>0.699289</td>\n",
       "    </tr>\n",
       "    <tr>\n",
       "      <th>4</th>\n",
       "      <td>0</td>\n",
       "      <td>0.684253</td>\n",
       "    </tr>\n",
       "  </tbody>\n",
       "</table>\n",
       "</div>"
      ],
      "text/plain": [
       "   Churn  Churn_Prob\n",
       "0      1    0.855810\n",
       "1      0    0.372873\n",
       "2      0    0.211986\n",
       "3      0    0.699289\n",
       "4      0    0.684253"
      ]
     },
     "execution_count": 91,
     "metadata": {},
     "output_type": "execute_result"
    }
   ],
   "source": [
    "y_train_pca_final = pd.DataFrame({'Churn':y_train_pca, 'Churn_Prob':pred_probs_train})\n",
    "y_train_pca_final.head()"
   ]
  },
  {
   "cell_type": "markdown",
   "metadata": {},
   "source": [
    "#### Finding Optimal threshold value"
   ]
  },
  {
   "cell_type": "code",
   "execution_count": 92,
   "metadata": {},
   "outputs": [
    {
     "data": {
      "text/html": [
       "<div>\n",
       "<style scoped>\n",
       "    .dataframe tbody tr th:only-of-type {\n",
       "        vertical-align: middle;\n",
       "    }\n",
       "\n",
       "    .dataframe tbody tr th {\n",
       "        vertical-align: top;\n",
       "    }\n",
       "\n",
       "    .dataframe thead th {\n",
       "        text-align: right;\n",
       "    }\n",
       "</style>\n",
       "<table border=\"1\" class=\"dataframe\">\n",
       "  <thead>\n",
       "    <tr style=\"text-align: right;\">\n",
       "      <th></th>\n",
       "      <th>Churn</th>\n",
       "      <th>Churn_Prob</th>\n",
       "      <th>0.0</th>\n",
       "      <th>0.1</th>\n",
       "      <th>0.2</th>\n",
       "      <th>0.3</th>\n",
       "      <th>0.4</th>\n",
       "      <th>0.5</th>\n",
       "      <th>0.6</th>\n",
       "      <th>0.7</th>\n",
       "      <th>0.8</th>\n",
       "      <th>0.9</th>\n",
       "    </tr>\n",
       "  </thead>\n",
       "  <tbody>\n",
       "    <tr>\n",
       "      <th>0</th>\n",
       "      <td>1</td>\n",
       "      <td>0.855810</td>\n",
       "      <td>1</td>\n",
       "      <td>1</td>\n",
       "      <td>1</td>\n",
       "      <td>1</td>\n",
       "      <td>1</td>\n",
       "      <td>1</td>\n",
       "      <td>1</td>\n",
       "      <td>1</td>\n",
       "      <td>1</td>\n",
       "      <td>0</td>\n",
       "    </tr>\n",
       "    <tr>\n",
       "      <th>1</th>\n",
       "      <td>0</td>\n",
       "      <td>0.372873</td>\n",
       "      <td>1</td>\n",
       "      <td>1</td>\n",
       "      <td>1</td>\n",
       "      <td>1</td>\n",
       "      <td>0</td>\n",
       "      <td>0</td>\n",
       "      <td>0</td>\n",
       "      <td>0</td>\n",
       "      <td>0</td>\n",
       "      <td>0</td>\n",
       "    </tr>\n",
       "    <tr>\n",
       "      <th>2</th>\n",
       "      <td>0</td>\n",
       "      <td>0.211986</td>\n",
       "      <td>1</td>\n",
       "      <td>1</td>\n",
       "      <td>1</td>\n",
       "      <td>0</td>\n",
       "      <td>0</td>\n",
       "      <td>0</td>\n",
       "      <td>0</td>\n",
       "      <td>0</td>\n",
       "      <td>0</td>\n",
       "      <td>0</td>\n",
       "    </tr>\n",
       "    <tr>\n",
       "      <th>3</th>\n",
       "      <td>0</td>\n",
       "      <td>0.699289</td>\n",
       "      <td>1</td>\n",
       "      <td>1</td>\n",
       "      <td>1</td>\n",
       "      <td>1</td>\n",
       "      <td>1</td>\n",
       "      <td>1</td>\n",
       "      <td>1</td>\n",
       "      <td>0</td>\n",
       "      <td>0</td>\n",
       "      <td>0</td>\n",
       "    </tr>\n",
       "    <tr>\n",
       "      <th>4</th>\n",
       "      <td>0</td>\n",
       "      <td>0.684253</td>\n",
       "      <td>1</td>\n",
       "      <td>1</td>\n",
       "      <td>1</td>\n",
       "      <td>1</td>\n",
       "      <td>1</td>\n",
       "      <td>1</td>\n",
       "      <td>1</td>\n",
       "      <td>0</td>\n",
       "      <td>0</td>\n",
       "      <td>0</td>\n",
       "    </tr>\n",
       "  </tbody>\n",
       "</table>\n",
       "</div>"
      ],
      "text/plain": [
       "   Churn  Churn_Prob  0.0  0.1  0.2  0.3  0.4  0.5  0.6  0.7  0.8  0.9\n",
       "0      1    0.855810    1    1    1    1    1    1    1    1    1    0\n",
       "1      0    0.372873    1    1    1    1    0    0    0    0    0    0\n",
       "2      0    0.211986    1    1    1    0    0    0    0    0    0    0\n",
       "3      0    0.699289    1    1    1    1    1    1    1    0    0    0\n",
       "4      0    0.684253    1    1    1    1    1    1    1    0    0    0"
      ]
     },
     "execution_count": 92,
     "metadata": {},
     "output_type": "execute_result"
    }
   ],
   "source": [
    "# Let's create columns with different probability cutoffs \n",
    "numbers = [float(x)/10 for x in range(10)]\n",
    "for i in numbers:\n",
    "    y_train_pca_final[i]= y_train_pca_final.Churn_Prob.map(lambda x: 1 if x > i else 0)\n",
    "y_train_pca_final.head()"
   ]
  },
  {
   "cell_type": "code",
   "execution_count": 93,
   "metadata": {},
   "outputs": [
    {
     "name": "stdout",
     "output_type": "stream",
     "text": [
      "     prob  accuracy     sensi     speci\n",
      "0.0   0.0  0.500000  1.000000  0.000000\n",
      "0.1   0.1  0.619599  0.971342  0.267856\n",
      "0.2   0.2  0.686879  0.948614  0.425144\n",
      "0.3   0.3  0.734422  0.917431  0.551414\n",
      "0.4   0.4  0.770656  0.882844  0.658468\n",
      "0.5   0.5  0.791875  0.833050  0.750700\n",
      "0.6   0.6  0.792918  0.752841  0.832995\n",
      "0.7   0.7  0.766182  0.625364  0.907000\n",
      "0.8   0.8  0.665358  0.366621  0.964096\n",
      "0.9   0.9  0.543288  0.096130  0.990447\n"
     ]
    }
   ],
   "source": [
    "# Now let's calculate accuracy sensitivity and specificity for various probability cutoffs.\n",
    "from sklearn import metrics\n",
    "cutoff_df = pd.DataFrame( columns = ['prob','accuracy','sensi','speci'])\n",
    "from sklearn.metrics import confusion_matrix\n",
    "\n",
    "num = [0.0,0.1,0.2,0.3,0.4,0.5,0.6,0.7,0.8,0.9]\n",
    "for i in num:\n",
    "    cm1 = metrics.confusion_matrix(y_train_pca_final.Churn, y_train_pca_final[i] )\n",
    "    total1=sum(sum(cm1))\n",
    "    accuracy = (cm1[0,0]+cm1[1,1])/total1\n",
    "    \n",
    "    speci = cm1[0,0]/(cm1[0,0]+cm1[0,1])\n",
    "    sensi = cm1[1,1]/(cm1[1,0]+cm1[1,1])\n",
    "    cutoff_df.loc[i] =[ i ,accuracy,sensi,speci]\n",
    "print(cutoff_df)"
   ]
  },
  {
   "cell_type": "code",
   "execution_count": 94,
   "metadata": {},
   "outputs": [
    {
     "data": {
      "image/png": "[encoded data removed]",
      "text/plain": [
       "<Figure size 432x288 with 1 Axes>"
      ]
     },
     "metadata": {
      "needs_background": "light"
     },
     "output_type": "display_data"
    }
   ],
   "source": [
    "# Let's plot accuracy sensitivity and specificity for various probabilities.\n",
    "cutoff_df.plot.line(x='prob', y=['accuracy','sensi','speci'])\n",
    "plt.show()"
   ]
  },
  {
   "cell_type": "markdown",
   "metadata": {},
   "source": [
    "##### From the curve above, 0.55 is the optimum point to take it as a cutoff probability."
   ]
  },
  {
   "cell_type": "code",
   "execution_count": 95,
   "metadata": {},
   "outputs": [],
   "source": [
    "y_train_pca_final['predicted'] = y_train_pca_final.Churn_Prob.map(lambda x: 1 if x > 0.55  else 0)"
   ]
  },
  {
   "cell_type": "code",
   "execution_count": 96,
   "metadata": {},
   "outputs": [
    {
     "name": "stdout",
     "output_type": "stream",
     "text": [
      "[[14458  3757]\n",
      " [ 3703 14512]]\n"
     ]
    }
   ],
   "source": [
    "# Confusion matrix \n",
    "confusion = metrics.confusion_matrix(y_train_pca_final.Churn, y_train_pca_final.predicted )\n",
    "print(confusion)\n",
    "TP = confusion[1,1] # true positive \n",
    "TN = confusion[0,0] # true negatives\n",
    "FP = confusion[0,1] # false positives\n",
    "FN = confusion[1,0] # false negatives\n"
   ]
  },
  {
   "cell_type": "code",
   "execution_count": 97,
   "metadata": {},
   "outputs": [
    {
     "name": "stdout",
     "output_type": "stream",
     "text": [
      "0.7952237167169914\n"
     ]
    }
   ],
   "source": [
    "# Let's check the overall accuracy.\n",
    "print(metrics.accuracy_score(y_train_pca_final.Churn, y_train_pca_final.predicted))"
   ]
  },
  {
   "cell_type": "code",
   "execution_count": 98,
   "metadata": {},
   "outputs": [
    {
     "name": "stdout",
     "output_type": "stream",
     "text": [
      "Sensitivity : 0.8\n",
      "Specificity : 0.79\n",
      "Precision : 0.79\n",
      "Recall : 0.8\n"
     ]
    }
   ],
   "source": [
    "Sensitivity=round(TP/(FN+TP),2)\n",
    "Specificity=round(TN/(TN+FP),2)\n",
    "Precision=round(TP/(TP+FP),2)\n",
    "Recall=Sensitivity\n",
    "\n",
    "print(\"Sensitivity :\",Sensitivity)\n",
    "print(\"Specificity :\",Specificity)\n",
    "print(\"Precision :\",Precision)\n",
    "print(\"Recall :\",Recall)"
   ]
  },
  {
   "cell_type": "markdown",
   "metadata": {},
   "source": [
    "### Applying Random Forest Classifier on our Principal Components"
   ]
  },
  {
   "cell_type": "markdown",
   "metadata": {},
   "source": [
    "#### Default Hyperparameters\n",
    "Let's first fit a random forest model with default hyperparameters."
   ]
  },
  {
   "cell_type": "code",
   "execution_count": 99,
   "metadata": {},
   "outputs": [],
   "source": [
    "# Importing random forest classifier from sklearn library\n",
    "from sklearn.ensemble import RandomForestClassifier\n",
    "\n",
    "# Running the random forest with default parameters.\n",
    "rfc_pca2 = RandomForestClassifier()"
   ]
  },
  {
   "cell_type": "code",
   "execution_count": 100,
   "metadata": {},
   "outputs": [],
   "source": [
    "#training the random forest classifier\n",
    "model_pca2 = rfc_pca2.fit(df_train_pca,y_train_pca_final.Churn)"
   ]
  },
  {
   "cell_type": "code",
   "execution_count": 101,
   "metadata": {},
   "outputs": [],
   "source": [
    "# Making predictions on the test data\n",
    "predictions_test = model_pca2.predict(df_test_pca)"
   ]
  },
  {
   "cell_type": "code",
   "execution_count": 102,
   "metadata": {},
   "outputs": [],
   "source": [
    "# Importing classification report and confusion matrix from sklearn metrics\n",
    "from sklearn.metrics import classification_report,confusion_matrix, accuracy_score"
   ]
  },
  {
   "cell_type": "code",
   "execution_count": 103,
   "metadata": {
    "scrolled": false
   },
   "outputs": [
    {
     "name": "stdout",
     "output_type": "stream",
     "text": [
      "              precision    recall  f1-score   support\n",
      "\n",
      "           0       0.94      0.91      0.92      7754\n",
      "           1       0.52      0.63      0.57      1247\n",
      "\n",
      "   micro avg       0.87      0.87      0.87      9001\n",
      "   macro avg       0.73      0.77      0.75      9001\n",
      "weighted avg       0.88      0.87      0.87      9001\n",
      "\n"
     ]
    }
   ],
   "source": [
    "# Let's check the report of our default model\n",
    "print(classification_report(y_test,predictions_test))"
   ]
  },
  {
   "cell_type": "code",
   "execution_count": 104,
   "metadata": {},
   "outputs": [
    {
     "name": "stdout",
     "output_type": "stream",
     "text": [
      "[[7043  711]\n",
      " [ 466  781]]\n"
     ]
    }
   ],
   "source": [
    "# Printing confusion matrix\n",
    "print(confusion_matrix(y_test,predictions_test))"
   ]
  },
  {
   "cell_type": "code",
   "execution_count": 105,
   "metadata": {},
   "outputs": [
    {
     "data": {
      "text/plain": [
       "'0.87'"
      ]
     },
     "execution_count": 105,
     "metadata": {},
     "output_type": "execute_result"
    }
   ],
   "source": [
    "\"{:2.2f}\".format(accuracy_score(y_test, predictions_test))"
   ]
  },
  {
   "cell_type": "markdown",
   "metadata": {},
   "source": [
    "#### Grid Search to Find Optimal Hyperparameters\n",
    "We can now find the optimal hyperparameters using GridSearchCV."
   ]
  },
  {
   "cell_type": "code",
   "execution_count": 106,
   "metadata": {},
   "outputs": [],
   "source": [
    "# GridSearchCV to find optimal min_samples_split\n",
    "from sklearn.model_selection import KFold\n",
    "from sklearn.model_selection import GridSearchCV\n",
    "# Create the parameter grid based on the results of random search \n",
    "param_grid = {\n",
    "    'max_depth': [4,8,10],\n",
    "    'min_samples_leaf': range(100, 400, 200),\n",
    "    'min_samples_split': range(200, 500, 200),\n",
    "    'n_estimators': [100,200, 300], \n",
    "    'max_features': [5, 10]\n",
    "}\n",
    "# Create a based model\n",
    "rf = RandomForestClassifier()\n",
    "# Instantiate the grid search model\n",
    "grid_search = GridSearchCV(estimator = rf, param_grid = param_grid, \n",
    "                          cv = 3, n_jobs = -1,verbose = 1)"
   ]
  },
  {
   "cell_type": "code",
   "execution_count": 107,
   "metadata": {
    "scrolled": true
   },
   "outputs": [
    {
     "name": "stdout",
     "output_type": "stream",
     "text": [
      "Fitting 3 folds for each of 72 candidates, totalling 216 fits\n"
     ]
    },
    {
     "name": "stderr",
     "output_type": "stream",
     "text": [
      "[Parallel(n_jobs=-1)]: Using backend LokyBackend with 12 concurrent workers.\n",
      "[Parallel(n_jobs=-1)]: Done  26 tasks      | elapsed:   38.4s\n",
      "[Parallel(n_jobs=-1)]: Done 176 tasks      | elapsed:  7.2min\n",
      "[Parallel(n_jobs=-1)]: Done 216 out of 216 | elapsed:  9.8min finished\n"
     ]
    },
    {
     "data": {
      "text/plain": [
       "GridSearchCV(cv=3, error_score='raise-deprecating',\n",
       "       estimator=RandomForestClassifier(bootstrap=True, class_weight=None, criterion='gini',\n",
       "            max_depth=None, max_features='auto', max_leaf_nodes=None,\n",
       "            min_impurity_decrease=0.0, min_impurity_split=None,\n",
       "            min_samples_leaf=1, min_samples_split=2,\n",
       "            min_weight_fraction_leaf=0.0, n_estimators='warn', n_jobs=None,\n",
       "            oob_score=False, random_state=None, verbose=0,\n",
       "            warm_start=False),\n",
       "       fit_params=None, iid='warn', n_jobs=-1,\n",
       "       param_grid={'max_depth': [4, 8, 10], 'min_samples_leaf': range(100, 400, 200), 'min_samples_split': range(200, 500, 200), 'n_estimators': [100, 200, 300], 'max_features': [5, 10]},\n",
       "       pre_dispatch='2*n_jobs', refit=True, return_train_score='warn',\n",
       "       scoring=None, verbose=1)"
      ]
     },
     "execution_count": 107,
     "metadata": {},
     "output_type": "execute_result"
    }
   ],
   "source": [
    "# Fit the grid search to the data\n",
    "grid_search.fit(df_train_pca,y_train_pca_final.Churn)"
   ]
  },
  {
   "cell_type": "code",
   "execution_count": 108,
   "metadata": {},
   "outputs": [
    {
     "name": "stdout",
     "output_type": "stream",
     "text": [
      "We can get accuracy of 0.8313203403788086 using {'max_depth': 10, 'max_features': 5, 'min_samples_leaf': 100, 'min_samples_split': 200, 'n_estimators': 100}\n"
     ]
    }
   ],
   "source": [
    "# printing the optimal accuracy score and hyperparameters\n",
    "print('We can get accuracy of',grid_search.best_score_,'using',grid_search.best_params_)"
   ]
  },
  {
   "cell_type": "markdown",
   "metadata": {},
   "source": [
    "**Fitting the final model with the best parameters obtained from grid search.**"
   ]
  },
  {
   "cell_type": "code",
   "execution_count": 109,
   "metadata": {},
   "outputs": [],
   "source": [
    "# model with the best hyperparameters\n",
    "from sklearn.ensemble import RandomForestClassifier\n",
    "rfc = RandomForestClassifier(bootstrap=True,\n",
    "                             max_depth=10,\n",
    "                             max_features=5,\n",
    "                             min_samples_leaf=100, \n",
    "                             min_samples_split=200,\n",
    "                             n_estimators=100)"
   ]
  },
  {
   "cell_type": "code",
   "execution_count": 110,
   "metadata": {},
   "outputs": [
    {
     "data": {
      "text/plain": [
       "RandomForestClassifier(bootstrap=True, class_weight=None, criterion='gini',\n",
       "            max_depth=10, max_features=5, max_leaf_nodes=None,\n",
       "            min_impurity_decrease=0.0, min_impurity_split=None,\n",
       "            min_samples_leaf=100, min_samples_split=200,\n",
       "            min_weight_fraction_leaf=0.0, n_estimators=100, n_jobs=None,\n",
       "            oob_score=False, random_state=None, verbose=0,\n",
       "            warm_start=False)"
      ]
     },
     "execution_count": 110,
     "metadata": {},
     "output_type": "execute_result"
    }
   ],
   "source": [
    "# fit\n",
    "rfc.fit(df_train_pca,y_train_pca_final.Churn)"
   ]
  },
  {
   "cell_type": "code",
   "execution_count": 111,
   "metadata": {},
   "outputs": [],
   "source": [
    "# predict\n",
    "predictions = rfc.predict(df_test_pca)"
   ]
  },
  {
   "cell_type": "code",
   "execution_count": 112,
   "metadata": {},
   "outputs": [
    {
     "name": "stdout",
     "output_type": "stream",
     "text": [
      "              precision    recall  f1-score   support\n",
      "\n",
      "           0       0.96      0.85      0.90      7754\n",
      "           1       0.46      0.81      0.59      1247\n",
      "\n",
      "   micro avg       0.84      0.84      0.84      9001\n",
      "   macro avg       0.71      0.83      0.75      9001\n",
      "weighted avg       0.89      0.84      0.86      9001\n",
      "\n"
     ]
    }
   ],
   "source": [
    "print(classification_report(y_test,predictions))"
   ]
  },
  {
   "cell_type": "code",
   "execution_count": 113,
   "metadata": {},
   "outputs": [
    {
     "name": "stdout",
     "output_type": "stream",
     "text": [
      "[[6586 1168]\n",
      " [ 243 1004]]\n"
     ]
    }
   ],
   "source": [
    "print(confusion_matrix(y_test,predictions))\n"
   ]
  },
  {
   "cell_type": "code",
   "execution_count": 114,
   "metadata": {},
   "outputs": [
    {
     "data": {
      "text/plain": [
       "'0.84'"
      ]
     },
     "execution_count": 114,
     "metadata": {},
     "output_type": "execute_result"
    }
   ],
   "source": [
    "\"{:2.2f}\".format(accuracy_score(y_test, predictions))"
   ]
  },
  {
   "cell_type": "markdown",
   "metadata": {},
   "source": [
    "#### Let's visualize the data to see if we can spot any patterns"
   ]
  },
  {
   "cell_type": "code",
   "execution_count": 115,
   "metadata": {
    "scrolled": false
   },
   "outputs": [
    {
     "data": {
      "image/png": "[encoded data removed]",
      "text/plain": [
       "<Figure size 576x576 with 1 Axes>"
      ]
     },
     "metadata": {
      "needs_background": "light"
     },
     "output_type": "display_data"
    }
   ],
   "source": [
    "%matplotlib inline\n",
    "fig = plt.figure(figsize = (8,8))\n",
    "plt.scatter(df_train_pca[:,0], df_train_pca[:,1], c = y_train_pca_final.Churn)\n",
    "plt.xlabel('Principal Component 1')\n",
    "plt.ylabel('Principal Component 2')\n",
    "plt.tight_layout()\n",
    "plt.show()"
   ]
  },
  {
   "cell_type": "markdown",
   "metadata": {},
   "source": [
    "### Model Evaluation  Metrics"
   ]
  },
  {
   "cell_type": "markdown",
   "metadata": {},
   "source": [
    "> In this case study, 'Recall' shall be the model metric we use to select our best model as there is a high cost associated with False Negative. This is because if a churner (Actual Positive) is predicted as non-churner (Predicted Negative), the consequence can be very bad for the telecom operator.\n",
    "\n",
    "- Our Logistic Regression Model has a recall of around 0.80, i.e, _it can predict 80% of the churners accurately._\n",
    "- Our Random Forest Classifier with tuned hyperparameters with a recall of 0.81 _can predict churners 81% of the time._\n",
    "\n",
    "\n"
   ]
  },
  {
   "cell_type": "markdown",
   "metadata": {},
   "source": [
    "## Variable prediction"
   ]
  },
  {
   "cell_type": "markdown",
   "metadata": {},
   "source": [
    "### Logistic Regresssion without using PCA (to identify important variables that are strong predictors of churn)"
   ]
  },
  {
   "cell_type": "markdown",
   "metadata": {},
   "source": [
    "####  Feature Selection Using RFE"
   ]
  },
  {
   "cell_type": "code",
   "execution_count": 116,
   "metadata": {},
   "outputs": [],
   "source": [
    "from sklearn.linear_model import LogisticRegression\n",
    "logreg = LogisticRegression(random_state=100,class_weight='balanced')\n",
    "from sklearn.feature_selection import RFE\n",
    "rfe = RFE(logreg, 15)             # running RFE with  variables as output\n",
    "rfe = rfe.fit(X_train,y_train)\n"
   ]
  },
  {
   "cell_type": "code",
   "execution_count": 117,
   "metadata": {},
   "outputs": [
    {
     "data": {
      "text/plain": [
       "[('onnet_mou_8', True, 1),\n",
       " ('offnet_mou_8', True, 1),\n",
       " ('roam_og_mou_8', True, 1),\n",
       " ('total_og_mou_8', True, 1),\n",
       " ('total_ic_mou_8', True, 1),\n",
       " ('total_rech_num_8', True, 1),\n",
       " ('total_rech_amt_8', True, 1),\n",
       " ('last_day_rch_amt_8', True, 1),\n",
       " ('aon', True, 1),\n",
       " ('avg_og_mou_6_7', True, 1),\n",
       " ('avg_ic_mou_6_7', True, 1),\n",
       " ('avg_onnet_mou_6_7', True, 1),\n",
       " ('avg_offnet_mou_6_7', True, 1),\n",
       " ('avg_max_rech_amt_6_7', True, 1),\n",
       " ('avg_roam_og_mou_6_7', True, 1)]"
      ]
     },
     "execution_count": 117,
     "metadata": {},
     "output_type": "execute_result"
    }
   ],
   "source": [
    "list(zip(X_train.columns, rfe.support_, rfe.ranking_))"
   ]
  },
  {
   "cell_type": "code",
   "execution_count": 118,
   "metadata": {},
   "outputs": [
    {
     "data": {
      "text/plain": [
       "Index(['onnet_mou_8', 'offnet_mou_8', 'roam_og_mou_8', 'total_og_mou_8',\n",
       "       'total_ic_mou_8', 'total_rech_num_8', 'total_rech_amt_8',\n",
       "       'last_day_rch_amt_8', 'aon', 'avg_og_mou_6_7', 'avg_ic_mou_6_7',\n",
       "       'avg_onnet_mou_6_7', 'avg_offnet_mou_6_7', 'avg_max_rech_amt_6_7',\n",
       "       'avg_roam_og_mou_6_7'],\n",
       "      dtype='object')"
      ]
     },
     "execution_count": 118,
     "metadata": {},
     "output_type": "execute_result"
    }
   ],
   "source": [
    "#Variables selected by RFE\n",
    "variablelist = X_train.columns[rfe.support_]\n",
    "variablelist"
   ]
  },
  {
   "cell_type": "code",
   "execution_count": 119,
   "metadata": {},
   "outputs": [
    {
     "data": {
      "text/html": [
       "<table class=\"simpletable\">\n",
       "<caption>Generalized Linear Model Regression Results</caption>\n",
       "<tr>\n",
       "  <th>Dep. Variable:</th>        <td>churn</td>      <th>  No. Observations:  </th>  <td> 21000</td>  \n",
       "</tr>\n",
       "<tr>\n",
       "  <th>Model:</th>                 <td>GLM</td>       <th>  Df Residuals:      </th>  <td> 20984</td>  \n",
       "</tr>\n",
       "<tr>\n",
       "  <th>Model Family:</th>       <td>Binomial</td>     <th>  Df Model:          </th>  <td>    15</td>  \n",
       "</tr>\n",
       "<tr>\n",
       "  <th>Link Function:</th>        <td>logit</td>      <th>  Scale:             </th> <td>  1.0000</td> \n",
       "</tr>\n",
       "<tr>\n",
       "  <th>Method:</th>               <td>IRLS</td>       <th>  Log-Likelihood:    </th> <td> -5887.3</td> \n",
       "</tr>\n",
       "<tr>\n",
       "  <th>Date:</th>           <td>Mon, 20 May 2019</td> <th>  Deviance:          </th> <td>  11775.</td> \n",
       "</tr>\n",
       "<tr>\n",
       "  <th>Time:</th>               <td>20:31:32</td>     <th>  Pearson chi2:      </th> <td>1.74e+06</td> \n",
       "</tr>\n",
       "<tr>\n",
       "  <th>No. Iterations:</th>         <td>8</td>        <th>  Covariance Type:   </th> <td>nonrobust</td>\n",
       "</tr>\n",
       "</table>\n",
       "<table class=\"simpletable\">\n",
       "<tr>\n",
       "            <td></td>              <th>coef</th>     <th>std err</th>      <th>z</th>      <th>P>|z|</th>  <th>[0.025</th>    <th>0.975]</th>  \n",
       "</tr>\n",
       "<tr>\n",
       "  <th>const</th>                <td>   -3.2440</td> <td>    0.051</td> <td>  -63.528</td> <td> 0.000</td> <td>   -3.344</td> <td>   -3.144</td>\n",
       "</tr>\n",
       "<tr>\n",
       "  <th>onnet_mou_8</th>          <td>   -0.8409</td> <td>    1.573</td> <td>   -0.535</td> <td> 0.593</td> <td>   -3.924</td> <td>    2.242</td>\n",
       "</tr>\n",
       "<tr>\n",
       "  <th>offnet_mou_8</th>         <td>   -1.1878</td> <td>    1.662</td> <td>   -0.715</td> <td> 0.475</td> <td>   -4.445</td> <td>    2.069</td>\n",
       "</tr>\n",
       "<tr>\n",
       "  <th>roam_og_mou_8</th>        <td>    0.2901</td> <td>    0.332</td> <td>    0.875</td> <td> 0.382</td> <td>   -0.360</td> <td>    0.940</td>\n",
       "</tr>\n",
       "<tr>\n",
       "  <th>total_og_mou_8</th>       <td>    0.5938</td> <td>    2.406</td> <td>    0.247</td> <td> 0.805</td> <td>   -4.121</td> <td>    5.309</td>\n",
       "</tr>\n",
       "<tr>\n",
       "  <th>total_ic_mou_8</th>       <td>   -2.3089</td> <td>    0.105</td> <td>  -22.001</td> <td> 0.000</td> <td>   -2.515</td> <td>   -2.103</td>\n",
       "</tr>\n",
       "<tr>\n",
       "  <th>total_rech_num_8</th>     <td>   -0.6712</td> <td>    0.055</td> <td>  -12.238</td> <td> 0.000</td> <td>   -0.779</td> <td>   -0.564</td>\n",
       "</tr>\n",
       "<tr>\n",
       "  <th>total_rech_amt_8</th>     <td>   -0.2530</td> <td>    0.076</td> <td>   -3.325</td> <td> 0.001</td> <td>   -0.402</td> <td>   -0.104</td>\n",
       "</tr>\n",
       "<tr>\n",
       "  <th>last_day_rch_amt_8</th>   <td>   -0.1832</td> <td>    0.039</td> <td>   -4.756</td> <td> 0.000</td> <td>   -0.259</td> <td>   -0.108</td>\n",
       "</tr>\n",
       "<tr>\n",
       "  <th>aon</th>                  <td>   -0.3806</td> <td>    0.030</td> <td>  -12.619</td> <td> 0.000</td> <td>   -0.440</td> <td>   -0.321</td>\n",
       "</tr>\n",
       "<tr>\n",
       "  <th>avg_og_mou_6_7</th>       <td>    1.8436</td> <td>    0.219</td> <td>    8.409</td> <td> 0.000</td> <td>    1.414</td> <td>    2.273</td>\n",
       "</tr>\n",
       "<tr>\n",
       "  <th>avg_ic_mou_6_7</th>       <td>    0.3502</td> <td>    0.049</td> <td>    7.170</td> <td> 0.000</td> <td>    0.254</td> <td>    0.446</td>\n",
       "</tr>\n",
       "<tr>\n",
       "  <th>avg_onnet_mou_6_7</th>    <td>   -1.1109</td> <td>    0.145</td> <td>   -7.681</td> <td> 0.000</td> <td>   -1.394</td> <td>   -0.827</td>\n",
       "</tr>\n",
       "<tr>\n",
       "  <th>avg_offnet_mou_6_7</th>   <td>   -1.0517</td> <td>    0.156</td> <td>   -6.730</td> <td> 0.000</td> <td>   -1.358</td> <td>   -0.745</td>\n",
       "</tr>\n",
       "<tr>\n",
       "  <th>avg_max_rech_amt_6_7</th> <td>    0.1860</td> <td>    0.027</td> <td>    6.817</td> <td> 0.000</td> <td>    0.133</td> <td>    0.239</td>\n",
       "</tr>\n",
       "<tr>\n",
       "  <th>avg_roam_og_mou_6_7</th>  <td>    0.3168</td> <td>    0.039</td> <td>    8.046</td> <td> 0.000</td> <td>    0.240</td> <td>    0.394</td>\n",
       "</tr>\n",
       "</table>"
      ],
      "text/plain": [
       "<class 'statsmodels.iolib.summary.Summary'>\n",
       "\"\"\"\n",
       "                 Generalized Linear Model Regression Results                  \n",
       "==============================================================================\n",
       "Dep. Variable:                  churn   No. Observations:                21000\n",
       "Model:                            GLM   Df Residuals:                    20984\n",
       "Model Family:                Binomial   Df Model:                           15\n",
       "Link Function:                  logit   Scale:                          1.0000\n",
       "Method:                          IRLS   Log-Likelihood:                -5887.3\n",
       "Date:                Mon, 20 May 2019   Deviance:                       11775.\n",
       "Time:                        20:31:32   Pearson chi2:                 1.74e+06\n",
       "No. Iterations:                     8   Covariance Type:             nonrobust\n",
       "========================================================================================\n",
       "                           coef    std err          z      P>|z|      [0.025      0.975]\n",
       "----------------------------------------------------------------------------------------\n",
       "const                   -3.2440      0.051    -63.528      0.000      -3.344      -3.144\n",
       "onnet_mou_8             -0.8409      1.573     -0.535      0.593      -3.924       2.242\n",
       "offnet_mou_8            -1.1878      1.662     -0.715      0.475      -4.445       2.069\n",
       "roam_og_mou_8            0.2901      0.332      0.875      0.382      -0.360       0.940\n",
       "total_og_mou_8           0.5938      2.406      0.247      0.805      -4.121       5.309\n",
       "total_ic_mou_8          -2.3089      0.105    -22.001      0.000      -2.515      -2.103\n",
       "total_rech_num_8        -0.6712      0.055    -12.238      0.000      -0.779      -0.564\n",
       "total_rech_amt_8        -0.2530      0.076     -3.325      0.001      -0.402      -0.104\n",
       "last_day_rch_amt_8      -0.1832      0.039     -4.756      0.000      -0.259      -0.108\n",
       "aon                     -0.3806      0.030    -12.619      0.000      -0.440      -0.321\n",
       "avg_og_mou_6_7           1.8436      0.219      8.409      0.000       1.414       2.273\n",
       "avg_ic_mou_6_7           0.3502      0.049      7.170      0.000       0.254       0.446\n",
       "avg_onnet_mou_6_7       -1.1109      0.145     -7.681      0.000      -1.394      -0.827\n",
       "avg_offnet_mou_6_7      -1.0517      0.156     -6.730      0.000      -1.358      -0.745\n",
       "avg_max_rech_amt_6_7     0.1860      0.027      6.817      0.000       0.133       0.239\n",
       "avg_roam_og_mou_6_7      0.3168      0.039      8.046      0.000       0.240       0.394\n",
       "========================================================================================\n",
       "\"\"\""
      ]
     },
     "execution_count": 119,
     "metadata": {},
     "output_type": "execute_result"
    }
   ],
   "source": [
    "#### Building Logistic Regression \n",
    "\n",
    "import statsmodels.api as sm\n",
    "x_train_sm = sm.add_constant(X_train[variablelist])\n",
    "logm1 = sm.GLM(y_train,x_train_sm, family = sm.families.Binomial(),random_state=100,class_weight='balanced').fit()\n",
    "logm1.summary()"
   ]
  },
  {
   "cell_type": "code",
   "execution_count": 120,
   "metadata": {},
   "outputs": [
    {
     "data": {
      "text/html": [
       "<div>\n",
       "<style scoped>\n",
       "    .dataframe tbody tr th:only-of-type {\n",
       "        vertical-align: middle;\n",
       "    }\n",
       "\n",
       "    .dataframe tbody tr th {\n",
       "        vertical-align: top;\n",
       "    }\n",
       "\n",
       "    .dataframe thead th {\n",
       "        text-align: right;\n",
       "    }\n",
       "</style>\n",
       "<table border=\"1\" class=\"dataframe\">\n",
       "  <thead>\n",
       "    <tr style=\"text-align: right;\">\n",
       "      <th></th>\n",
       "      <th>Features</th>\n",
       "      <th>VIF</th>\n",
       "    </tr>\n",
       "  </thead>\n",
       "  <tbody>\n",
       "    <tr>\n",
       "      <th>3</th>\n",
       "      <td>total_og_mou_8</td>\n",
       "      <td>4083.28</td>\n",
       "    </tr>\n",
       "    <tr>\n",
       "      <th>1</th>\n",
       "      <td>offnet_mou_8</td>\n",
       "      <td>1941.86</td>\n",
       "    </tr>\n",
       "    <tr>\n",
       "      <th>0</th>\n",
       "      <td>onnet_mou_8</td>\n",
       "      <td>1746.94</td>\n",
       "    </tr>\n",
       "    <tr>\n",
       "      <th>9</th>\n",
       "      <td>avg_og_mou_6_7</td>\n",
       "      <td>97.64</td>\n",
       "    </tr>\n",
       "    <tr>\n",
       "      <th>2</th>\n",
       "      <td>roam_og_mou_8</td>\n",
       "      <td>78.60</td>\n",
       "    </tr>\n",
       "    <tr>\n",
       "      <th>12</th>\n",
       "      <td>avg_offnet_mou_6_7</td>\n",
       "      <td>49.12</td>\n",
       "    </tr>\n",
       "    <tr>\n",
       "      <th>11</th>\n",
       "      <td>avg_onnet_mou_6_7</td>\n",
       "      <td>44.76</td>\n",
       "    </tr>\n",
       "    <tr>\n",
       "      <th>14</th>\n",
       "      <td>avg_roam_og_mou_6_7</td>\n",
       "      <td>3.21</td>\n",
       "    </tr>\n",
       "    <tr>\n",
       "      <th>4</th>\n",
       "      <td>total_ic_mou_8</td>\n",
       "      <td>3.18</td>\n",
       "    </tr>\n",
       "    <tr>\n",
       "      <th>10</th>\n",
       "      <td>avg_ic_mou_6_7</td>\n",
       "      <td>3.09</td>\n",
       "    </tr>\n",
       "    <tr>\n",
       "      <th>6</th>\n",
       "      <td>total_rech_amt_8</td>\n",
       "      <td>2.01</td>\n",
       "    </tr>\n",
       "    <tr>\n",
       "      <th>5</th>\n",
       "      <td>total_rech_num_8</td>\n",
       "      <td>1.57</td>\n",
       "    </tr>\n",
       "    <tr>\n",
       "      <th>13</th>\n",
       "      <td>avg_max_rech_amt_6_7</td>\n",
       "      <td>1.50</td>\n",
       "    </tr>\n",
       "    <tr>\n",
       "      <th>7</th>\n",
       "      <td>last_day_rch_amt_8</td>\n",
       "      <td>1.45</td>\n",
       "    </tr>\n",
       "    <tr>\n",
       "      <th>8</th>\n",
       "      <td>aon</td>\n",
       "      <td>1.08</td>\n",
       "    </tr>\n",
       "  </tbody>\n",
       "</table>\n",
       "</div>"
      ],
      "text/plain": [
       "                Features      VIF\n",
       "3         total_og_mou_8  4083.28\n",
       "1           offnet_mou_8  1941.86\n",
       "0            onnet_mou_8  1746.94\n",
       "9         avg_og_mou_6_7    97.64\n",
       "2          roam_og_mou_8    78.60\n",
       "12    avg_offnet_mou_6_7    49.12\n",
       "11     avg_onnet_mou_6_7    44.76\n",
       "14   avg_roam_og_mou_6_7     3.21\n",
       "4         total_ic_mou_8     3.18\n",
       "10        avg_ic_mou_6_7     3.09\n",
       "6       total_rech_amt_8     2.01\n",
       "5       total_rech_num_8     1.57\n",
       "13  avg_max_rech_amt_6_7     1.50\n",
       "7     last_day_rch_amt_8     1.45\n",
       "8                    aon     1.08"
      ]
     },
     "execution_count": 120,
     "metadata": {},
     "output_type": "execute_result"
    }
   ],
   "source": [
    "#### Checking VIFs\n",
    "\n",
    "from statsmodels.stats.outliers_influence import variance_inflation_factor\n",
    "vif = pd.DataFrame()\n",
    "vif['Features'] = X_train[variablelist].columns\n",
    "vif['VIF'] = [variance_inflation_factor(X_train[variablelist].values, i) for i in range(X_train[variablelist].shape[1])]\n",
    "vif['VIF'] = round(vif['VIF'],2)\n",
    "vif = vif.sort_values(by = \"VIF\", ascending = False)\n",
    "#pd.options.display.float_format = '{:.0f}'.format\n",
    "vif"
   ]
  },
  {
   "cell_type": "markdown",
   "metadata": {},
   "source": [
    "There are a few variables with high VIF. It's best to drop these variables as they aren't helping much with prediction and unnecessarily making the model complex. \n",
    "\n",
    "The variable 'total_og_mou_8' has the highest VIF. So let's start by dropping that."
   ]
  },
  {
   "cell_type": "code",
   "execution_count": 121,
   "metadata": {},
   "outputs": [
    {
     "data": {
      "text/plain": [
       "Index(['onnet_mou_8', 'offnet_mou_8', 'roam_og_mou_8', 'total_ic_mou_8',\n",
       "       'total_rech_num_8', 'total_rech_amt_8', 'last_day_rch_amt_8', 'aon',\n",
       "       'avg_og_mou_6_7', 'avg_ic_mou_6_7', 'avg_onnet_mou_6_7',\n",
       "       'avg_offnet_mou_6_7', 'avg_max_rech_amt_6_7', 'avg_roam_og_mou_6_7'],\n",
       "      dtype='object')"
      ]
     },
     "execution_count": 121,
     "metadata": {},
     "output_type": "execute_result"
    }
   ],
   "source": [
    "variablelist = variablelist.drop('total_og_mou_8', 1)\n",
    "variablelist"
   ]
  },
  {
   "cell_type": "code",
   "execution_count": 122,
   "metadata": {},
   "outputs": [
    {
     "data": {
      "text/html": [
       "<table class=\"simpletable\">\n",
       "<caption>Generalized Linear Model Regression Results</caption>\n",
       "<tr>\n",
       "  <th>Dep. Variable:</th>        <td>churn</td>      <th>  No. Observations:  </th>  <td> 21000</td>  \n",
       "</tr>\n",
       "<tr>\n",
       "  <th>Model:</th>                 <td>GLM</td>       <th>  Df Residuals:      </th>  <td> 20985</td>  \n",
       "</tr>\n",
       "<tr>\n",
       "  <th>Model Family:</th>       <td>Binomial</td>     <th>  Df Model:          </th>  <td>    14</td>  \n",
       "</tr>\n",
       "<tr>\n",
       "  <th>Link Function:</th>        <td>logit</td>      <th>  Scale:             </th> <td>  1.0000</td> \n",
       "</tr>\n",
       "<tr>\n",
       "  <th>Method:</th>               <td>IRLS</td>       <th>  Log-Likelihood:    </th> <td> -5887.3</td> \n",
       "</tr>\n",
       "<tr>\n",
       "  <th>Date:</th>           <td>Mon, 20 May 2019</td> <th>  Deviance:          </th> <td>  11775.</td> \n",
       "</tr>\n",
       "<tr>\n",
       "  <th>Time:</th>               <td>20:31:32</td>     <th>  Pearson chi2:      </th> <td>1.73e+06</td> \n",
       "</tr>\n",
       "<tr>\n",
       "  <th>No. Iterations:</th>         <td>8</td>        <th>  Covariance Type:   </th> <td>nonrobust</td>\n",
       "</tr>\n",
       "</table>\n",
       "<table class=\"simpletable\">\n",
       "<tr>\n",
       "            <td></td>              <th>coef</th>     <th>std err</th>      <th>z</th>      <th>P>|z|</th>  <th>[0.025</th>    <th>0.975]</th>  \n",
       "</tr>\n",
       "<tr>\n",
       "  <th>const</th>                <td>   -3.2438</td> <td>    0.051</td> <td>  -63.543</td> <td> 0.000</td> <td>   -3.344</td> <td>   -3.144</td>\n",
       "</tr>\n",
       "<tr>\n",
       "  <th>onnet_mou_8</th>          <td>   -0.4528</td> <td>    0.063</td> <td>   -7.212</td> <td> 0.000</td> <td>   -0.576</td> <td>   -0.330</td>\n",
       "</tr>\n",
       "<tr>\n",
       "  <th>offnet_mou_8</th>         <td>   -0.7780</td> <td>    0.076</td> <td>  -10.301</td> <td> 0.000</td> <td>   -0.926</td> <td>   -0.630</td>\n",
       "</tr>\n",
       "<tr>\n",
       "  <th>roam_og_mou_8</th>        <td>    0.2085</td> <td>    0.028</td> <td>    7.476</td> <td> 0.000</td> <td>    0.154</td> <td>    0.263</td>\n",
       "</tr>\n",
       "<tr>\n",
       "  <th>total_ic_mou_8</th>       <td>   -2.3082</td> <td>    0.105</td> <td>  -22.003</td> <td> 0.000</td> <td>   -2.514</td> <td>   -2.103</td>\n",
       "</tr>\n",
       "<tr>\n",
       "  <th>total_rech_num_8</th>     <td>   -0.6702</td> <td>    0.055</td> <td>  -12.253</td> <td> 0.000</td> <td>   -0.777</td> <td>   -0.563</td>\n",
       "</tr>\n",
       "<tr>\n",
       "  <th>total_rech_amt_8</th>     <td>   -0.2517</td> <td>    0.076</td> <td>   -3.313</td> <td> 0.001</td> <td>   -0.401</td> <td>   -0.103</td>\n",
       "</tr>\n",
       "<tr>\n",
       "  <th>last_day_rch_amt_8</th>   <td>   -0.1834</td> <td>    0.039</td> <td>   -4.762</td> <td> 0.000</td> <td>   -0.259</td> <td>   -0.108</td>\n",
       "</tr>\n",
       "<tr>\n",
       "  <th>aon</th>                  <td>   -0.3808</td> <td>    0.030</td> <td>  -12.633</td> <td> 0.000</td> <td>   -0.440</td> <td>   -0.322</td>\n",
       "</tr>\n",
       "<tr>\n",
       "  <th>avg_og_mou_6_7</th>       <td>    1.8495</td> <td>    0.218</td> <td>    8.486</td> <td> 0.000</td> <td>    1.422</td> <td>    2.277</td>\n",
       "</tr>\n",
       "<tr>\n",
       "  <th>avg_ic_mou_6_7</th>       <td>    0.3501</td> <td>    0.049</td> <td>    7.167</td> <td> 0.000</td> <td>    0.254</td> <td>    0.446</td>\n",
       "</tr>\n",
       "<tr>\n",
       "  <th>avg_onnet_mou_6_7</th>    <td>   -1.1146</td> <td>    0.144</td> <td>   -7.748</td> <td> 0.000</td> <td>   -1.396</td> <td>   -0.833</td>\n",
       "</tr>\n",
       "<tr>\n",
       "  <th>avg_offnet_mou_6_7</th>   <td>   -1.0555</td> <td>    0.155</td> <td>   -6.788</td> <td> 0.000</td> <td>   -1.360</td> <td>   -0.751</td>\n",
       "</tr>\n",
       "<tr>\n",
       "  <th>avg_max_rech_amt_6_7</th> <td>    0.1863</td> <td>    0.027</td> <td>    6.834</td> <td> 0.000</td> <td>    0.133</td> <td>    0.240</td>\n",
       "</tr>\n",
       "<tr>\n",
       "  <th>avg_roam_og_mou_6_7</th>  <td>    0.3176</td> <td>    0.039</td> <td>    8.093</td> <td> 0.000</td> <td>    0.241</td> <td>    0.395</td>\n",
       "</tr>\n",
       "</table>"
      ],
      "text/plain": [
       "<class 'statsmodels.iolib.summary.Summary'>\n",
       "\"\"\"\n",
       "                 Generalized Linear Model Regression Results                  \n",
       "==============================================================================\n",
       "Dep. Variable:                  churn   No. Observations:                21000\n",
       "Model:                            GLM   Df Residuals:                    20985\n",
       "Model Family:                Binomial   Df Model:                           14\n",
       "Link Function:                  logit   Scale:                          1.0000\n",
       "Method:                          IRLS   Log-Likelihood:                -5887.3\n",
       "Date:                Mon, 20 May 2019   Deviance:                       11775.\n",
       "Time:                        20:31:32   Pearson chi2:                 1.73e+06\n",
       "No. Iterations:                     8   Covariance Type:             nonrobust\n",
       "========================================================================================\n",
       "                           coef    std err          z      P>|z|      [0.025      0.975]\n",
       "----------------------------------------------------------------------------------------\n",
       "const                   -3.2438      0.051    -63.543      0.000      -3.344      -3.144\n",
       "onnet_mou_8             -0.4528      0.063     -7.212      0.000      -0.576      -0.330\n",
       "offnet_mou_8            -0.7780      0.076    -10.301      0.000      -0.926      -0.630\n",
       "roam_og_mou_8            0.2085      0.028      7.476      0.000       0.154       0.263\n",
       "total_ic_mou_8          -2.3082      0.105    -22.003      0.000      -2.514      -2.103\n",
       "total_rech_num_8        -0.6702      0.055    -12.253      0.000      -0.777      -0.563\n",
       "total_rech_amt_8        -0.2517      0.076     -3.313      0.001      -0.401      -0.103\n",
       "last_day_rch_amt_8      -0.1834      0.039     -4.762      0.000      -0.259      -0.108\n",
       "aon                     -0.3808      0.030    -12.633      0.000      -0.440      -0.322\n",
       "avg_og_mou_6_7           1.8495      0.218      8.486      0.000       1.422       2.277\n",
       "avg_ic_mou_6_7           0.3501      0.049      7.167      0.000       0.254       0.446\n",
       "avg_onnet_mou_6_7       -1.1146      0.144     -7.748      0.000      -1.396      -0.833\n",
       "avg_offnet_mou_6_7      -1.0555      0.155     -6.788      0.000      -1.360      -0.751\n",
       "avg_max_rech_amt_6_7     0.1863      0.027      6.834      0.000       0.133       0.240\n",
       "avg_roam_og_mou_6_7      0.3176      0.039      8.093      0.000       0.241       0.395\n",
       "========================================================================================\n",
       "\"\"\""
      ]
     },
     "execution_count": 122,
     "metadata": {},
     "output_type": "execute_result"
    }
   ],
   "source": [
    "# Let's re-run the model using the selected variables\n",
    "x_train_sm=sm.add_constant(X_train[variablelist])\n",
    "logm2 = sm.GLM(y_train,x_train_sm, family = sm.families.Binomial(),random_state=100,class_weight='balanced').fit()\n",
    "logm2.summary()"
   ]
  },
  {
   "cell_type": "code",
   "execution_count": 123,
   "metadata": {},
   "outputs": [
    {
     "data": {
      "text/html": [
       "<div>\n",
       "<style scoped>\n",
       "    .dataframe tbody tr th:only-of-type {\n",
       "        vertical-align: middle;\n",
       "    }\n",
       "\n",
       "    .dataframe tbody tr th {\n",
       "        vertical-align: top;\n",
       "    }\n",
       "\n",
       "    .dataframe thead th {\n",
       "        text-align: right;\n",
       "    }\n",
       "</style>\n",
       "<table border=\"1\" class=\"dataframe\">\n",
       "  <thead>\n",
       "    <tr style=\"text-align: right;\">\n",
       "      <th></th>\n",
       "      <th>Features</th>\n",
       "      <th>VIF</th>\n",
       "    </tr>\n",
       "  </thead>\n",
       "  <tbody>\n",
       "    <tr>\n",
       "      <th>8</th>\n",
       "      <td>avg_og_mou_6_7</td>\n",
       "      <td>96.49</td>\n",
       "    </tr>\n",
       "    <tr>\n",
       "      <th>11</th>\n",
       "      <td>avg_offnet_mou_6_7</td>\n",
       "      <td>48.61</td>\n",
       "    </tr>\n",
       "    <tr>\n",
       "      <th>10</th>\n",
       "      <td>avg_onnet_mou_6_7</td>\n",
       "      <td>44.32</td>\n",
       "    </tr>\n",
       "    <tr>\n",
       "      <th>13</th>\n",
       "      <td>avg_roam_og_mou_6_7</td>\n",
       "      <td>3.19</td>\n",
       "    </tr>\n",
       "    <tr>\n",
       "      <th>3</th>\n",
       "      <td>total_ic_mou_8</td>\n",
       "      <td>3.18</td>\n",
       "    </tr>\n",
       "    <tr>\n",
       "      <th>9</th>\n",
       "      <td>avg_ic_mou_6_7</td>\n",
       "      <td>3.09</td>\n",
       "    </tr>\n",
       "    <tr>\n",
       "      <th>0</th>\n",
       "      <td>onnet_mou_8</td>\n",
       "      <td>2.73</td>\n",
       "    </tr>\n",
       "    <tr>\n",
       "      <th>1</th>\n",
       "      <td>offnet_mou_8</td>\n",
       "      <td>2.62</td>\n",
       "    </tr>\n",
       "    <tr>\n",
       "      <th>5</th>\n",
       "      <td>total_rech_amt_8</td>\n",
       "      <td>1.99</td>\n",
       "    </tr>\n",
       "    <tr>\n",
       "      <th>4</th>\n",
       "      <td>total_rech_num_8</td>\n",
       "      <td>1.55</td>\n",
       "    </tr>\n",
       "    <tr>\n",
       "      <th>12</th>\n",
       "      <td>avg_max_rech_amt_6_7</td>\n",
       "      <td>1.50</td>\n",
       "    </tr>\n",
       "    <tr>\n",
       "      <th>2</th>\n",
       "      <td>roam_og_mou_8</td>\n",
       "      <td>1.45</td>\n",
       "    </tr>\n",
       "    <tr>\n",
       "      <th>6</th>\n",
       "      <td>last_day_rch_amt_8</td>\n",
       "      <td>1.45</td>\n",
       "    </tr>\n",
       "    <tr>\n",
       "      <th>7</th>\n",
       "      <td>aon</td>\n",
       "      <td>1.07</td>\n",
       "    </tr>\n",
       "  </tbody>\n",
       "</table>\n",
       "</div>"
      ],
      "text/plain": [
       "                Features    VIF\n",
       "8         avg_og_mou_6_7  96.49\n",
       "11    avg_offnet_mou_6_7  48.61\n",
       "10     avg_onnet_mou_6_7  44.32\n",
       "13   avg_roam_og_mou_6_7   3.19\n",
       "3         total_ic_mou_8   3.18\n",
       "9         avg_ic_mou_6_7   3.09\n",
       "0            onnet_mou_8   2.73\n",
       "1           offnet_mou_8   2.62\n",
       "5       total_rech_amt_8   1.99\n",
       "4       total_rech_num_8   1.55\n",
       "12  avg_max_rech_amt_6_7   1.50\n",
       "2          roam_og_mou_8   1.45\n",
       "6     last_day_rch_amt_8   1.45\n",
       "7                    aon   1.07"
      ]
     },
     "execution_count": 123,
     "metadata": {},
     "output_type": "execute_result"
    }
   ],
   "source": [
    "##### Let's check the VIFs again\n",
    "vif = pd.DataFrame()\n",
    "vif['Features'] = X_train[variablelist].columns\n",
    "vif['VIF'] = [variance_inflation_factor(X_train[variablelist].values, i) for i in range(X_train[variablelist].shape[1])]\n",
    "vif['VIF'] = round(vif['VIF'],2)\n",
    "vif = vif.sort_values(by = \"VIF\", ascending = False)\n",
    "#pd.options.display.float_format = '{:.0f}'.format\n",
    "vif"
   ]
  },
  {
   "cell_type": "markdown",
   "metadata": {},
   "source": [
    "Drop 'avg_og_mou_6_7' since it has high VIF"
   ]
  },
  {
   "cell_type": "code",
   "execution_count": 124,
   "metadata": {},
   "outputs": [
    {
     "data": {
      "text/plain": [
       "Index(['onnet_mou_8', 'offnet_mou_8', 'roam_og_mou_8', 'total_ic_mou_8',\n",
       "       'total_rech_num_8', 'total_rech_amt_8', 'last_day_rch_amt_8', 'aon',\n",
       "       'avg_ic_mou_6_7', 'avg_onnet_mou_6_7', 'avg_offnet_mou_6_7',\n",
       "       'avg_max_rech_amt_6_7', 'avg_roam_og_mou_6_7'],\n",
       "      dtype='object')"
      ]
     },
     "execution_count": 124,
     "metadata": {},
     "output_type": "execute_result"
    }
   ],
   "source": [
    "variablelist = variablelist.drop('avg_og_mou_6_7', 1)\n",
    "variablelist"
   ]
  },
  {
   "cell_type": "code",
   "execution_count": 125,
   "metadata": {
    "scrolled": true
   },
   "outputs": [
    {
     "data": {
      "text/html": [
       "<table class=\"simpletable\">\n",
       "<caption>Generalized Linear Model Regression Results</caption>\n",
       "<tr>\n",
       "  <th>Dep. Variable:</th>        <td>churn</td>      <th>  No. Observations:  </th>  <td> 21000</td>  \n",
       "</tr>\n",
       "<tr>\n",
       "  <th>Model:</th>                 <td>GLM</td>       <th>  Df Residuals:      </th>  <td> 20986</td>  \n",
       "</tr>\n",
       "<tr>\n",
       "  <th>Model Family:</th>       <td>Binomial</td>     <th>  Df Model:          </th>  <td>    13</td>  \n",
       "</tr>\n",
       "<tr>\n",
       "  <th>Link Function:</th>        <td>logit</td>      <th>  Scale:             </th> <td>  1.0000</td> \n",
       "</tr>\n",
       "<tr>\n",
       "  <th>Method:</th>               <td>IRLS</td>       <th>  Log-Likelihood:    </th> <td> -5918.4</td> \n",
       "</tr>\n",
       "<tr>\n",
       "  <th>Date:</th>           <td>Mon, 20 May 2019</td> <th>  Deviance:          </th> <td>  11837.</td> \n",
       "</tr>\n",
       "<tr>\n",
       "  <th>Time:</th>               <td>20:31:32</td>     <th>  Pearson chi2:      </th> <td>1.96e+06</td> \n",
       "</tr>\n",
       "<tr>\n",
       "  <th>No. Iterations:</th>         <td>8</td>        <th>  Covariance Type:   </th> <td>nonrobust</td>\n",
       "</tr>\n",
       "</table>\n",
       "<table class=\"simpletable\">\n",
       "<tr>\n",
       "            <td></td>              <th>coef</th>     <th>std err</th>      <th>z</th>      <th>P>|z|</th>  <th>[0.025</th>    <th>0.975]</th>  \n",
       "</tr>\n",
       "<tr>\n",
       "  <th>const</th>                <td>   -3.2523</td> <td>    0.051</td> <td>  -63.437</td> <td> 0.000</td> <td>   -3.353</td> <td>   -3.152</td>\n",
       "</tr>\n",
       "<tr>\n",
       "  <th>onnet_mou_8</th>          <td>   -0.3992</td> <td>    0.064</td> <td>   -6.236</td> <td> 0.000</td> <td>   -0.525</td> <td>   -0.274</td>\n",
       "</tr>\n",
       "<tr>\n",
       "  <th>offnet_mou_8</th>         <td>   -0.7485</td> <td>    0.076</td> <td>   -9.905</td> <td> 0.000</td> <td>   -0.897</td> <td>   -0.600</td>\n",
       "</tr>\n",
       "<tr>\n",
       "  <th>roam_og_mou_8</th>        <td>    0.2071</td> <td>    0.028</td> <td>    7.439</td> <td> 0.000</td> <td>    0.153</td> <td>    0.262</td>\n",
       "</tr>\n",
       "<tr>\n",
       "  <th>total_ic_mou_8</th>       <td>   -2.3675</td> <td>    0.106</td> <td>  -22.414</td> <td> 0.000</td> <td>   -2.575</td> <td>   -2.160</td>\n",
       "</tr>\n",
       "<tr>\n",
       "  <th>total_rech_num_8</th>     <td>   -0.6809</td> <td>    0.055</td> <td>  -12.437</td> <td> 0.000</td> <td>   -0.788</td> <td>   -0.574</td>\n",
       "</tr>\n",
       "<tr>\n",
       "  <th>total_rech_amt_8</th>     <td>   -0.2598</td> <td>    0.077</td> <td>   -3.390</td> <td> 0.001</td> <td>   -0.410</td> <td>   -0.110</td>\n",
       "</tr>\n",
       "<tr>\n",
       "  <th>last_day_rch_amt_8</th>   <td>   -0.1916</td> <td>    0.039</td> <td>   -4.935</td> <td> 0.000</td> <td>   -0.268</td> <td>   -0.115</td>\n",
       "</tr>\n",
       "<tr>\n",
       "  <th>aon</th>                  <td>   -0.3838</td> <td>    0.030</td> <td>  -12.763</td> <td> 0.000</td> <td>   -0.443</td> <td>   -0.325</td>\n",
       "</tr>\n",
       "<tr>\n",
       "  <th>avg_ic_mou_6_7</th>       <td>    0.3762</td> <td>    0.049</td> <td>    7.618</td> <td> 0.000</td> <td>    0.279</td> <td>    0.473</td>\n",
       "</tr>\n",
       "<tr>\n",
       "  <th>avg_onnet_mou_6_7</th>    <td>    0.1147</td> <td>    0.035</td> <td>    3.288</td> <td> 0.001</td> <td>    0.046</td> <td>    0.183</td>\n",
       "</tr>\n",
       "<tr>\n",
       "  <th>avg_offnet_mou_6_7</th>   <td>    0.2279</td> <td>    0.035</td> <td>    6.502</td> <td> 0.000</td> <td>    0.159</td> <td>    0.297</td>\n",
       "</tr>\n",
       "<tr>\n",
       "  <th>avg_max_rech_amt_6_7</th> <td>    0.1838</td> <td>    0.027</td> <td>    6.774</td> <td> 0.000</td> <td>    0.131</td> <td>    0.237</td>\n",
       "</tr>\n",
       "<tr>\n",
       "  <th>avg_roam_og_mou_6_7</th>  <td>    0.0703</td> <td>    0.026</td> <td>    2.684</td> <td> 0.007</td> <td>    0.019</td> <td>    0.122</td>\n",
       "</tr>\n",
       "</table>"
      ],
      "text/plain": [
       "<class 'statsmodels.iolib.summary.Summary'>\n",
       "\"\"\"\n",
       "                 Generalized Linear Model Regression Results                  \n",
       "==============================================================================\n",
       "Dep. Variable:                  churn   No. Observations:                21000\n",
       "Model:                            GLM   Df Residuals:                    20986\n",
       "Model Family:                Binomial   Df Model:                           13\n",
       "Link Function:                  logit   Scale:                          1.0000\n",
       "Method:                          IRLS   Log-Likelihood:                -5918.4\n",
       "Date:                Mon, 20 May 2019   Deviance:                       11837.\n",
       "Time:                        20:31:32   Pearson chi2:                 1.96e+06\n",
       "No. Iterations:                     8   Covariance Type:             nonrobust\n",
       "========================================================================================\n",
       "                           coef    std err          z      P>|z|      [0.025      0.975]\n",
       "----------------------------------------------------------------------------------------\n",
       "const                   -3.2523      0.051    -63.437      0.000      -3.353      -3.152\n",
       "onnet_mou_8             -0.3992      0.064     -6.236      0.000      -0.525      -0.274\n",
       "offnet_mou_8            -0.7485      0.076     -9.905      0.000      -0.897      -0.600\n",
       "roam_og_mou_8            0.2071      0.028      7.439      0.000       0.153       0.262\n",
       "total_ic_mou_8          -2.3675      0.106    -22.414      0.000      -2.575      -2.160\n",
       "total_rech_num_8        -0.6809      0.055    -12.437      0.000      -0.788      -0.574\n",
       "total_rech_amt_8        -0.2598      0.077     -3.390      0.001      -0.410      -0.110\n",
       "last_day_rch_amt_8      -0.1916      0.039     -4.935      0.000      -0.268      -0.115\n",
       "aon                     -0.3838      0.030    -12.763      0.000      -0.443      -0.325\n",
       "avg_ic_mou_6_7           0.3762      0.049      7.618      0.000       0.279       0.473\n",
       "avg_onnet_mou_6_7        0.1147      0.035      3.288      0.001       0.046       0.183\n",
       "avg_offnet_mou_6_7       0.2279      0.035      6.502      0.000       0.159       0.297\n",
       "avg_max_rech_amt_6_7     0.1838      0.027      6.774      0.000       0.131       0.237\n",
       "avg_roam_og_mou_6_7      0.0703      0.026      2.684      0.007       0.019       0.122\n",
       "========================================================================================\n",
       "\"\"\""
      ]
     },
     "execution_count": 125,
     "metadata": {},
     "output_type": "execute_result"
    }
   ],
   "source": [
    "# Let's re-run the model using the selected variables\n",
    "x_train_sm=sm.add_constant(X_train[variablelist])\n",
    "logm3 = sm.GLM(y_train,x_train_sm, family = sm.families.Binomial(),random_state=100,class_weight='balanced').fit()\n",
    "logm3.summary()"
   ]
  },
  {
   "cell_type": "code",
   "execution_count": 126,
   "metadata": {},
   "outputs": [
    {
     "data": {
      "text/html": [
       "<div>\n",
       "<style scoped>\n",
       "    .dataframe tbody tr th:only-of-type {\n",
       "        vertical-align: middle;\n",
       "    }\n",
       "\n",
       "    .dataframe tbody tr th {\n",
       "        vertical-align: top;\n",
       "    }\n",
       "\n",
       "    .dataframe thead th {\n",
       "        text-align: right;\n",
       "    }\n",
       "</style>\n",
       "<table border=\"1\" class=\"dataframe\">\n",
       "  <thead>\n",
       "    <tr style=\"text-align: right;\">\n",
       "      <th></th>\n",
       "      <th>Features</th>\n",
       "      <th>VIF</th>\n",
       "    </tr>\n",
       "  </thead>\n",
       "  <tbody>\n",
       "    <tr>\n",
       "      <th>3</th>\n",
       "      <td>total_ic_mou_8</td>\n",
       "      <td>3.17</td>\n",
       "    </tr>\n",
       "    <tr>\n",
       "      <th>8</th>\n",
       "      <td>avg_ic_mou_6_7</td>\n",
       "      <td>3.08</td>\n",
       "    </tr>\n",
       "    <tr>\n",
       "      <th>0</th>\n",
       "      <td>onnet_mou_8</td>\n",
       "      <td>2.68</td>\n",
       "    </tr>\n",
       "    <tr>\n",
       "      <th>1</th>\n",
       "      <td>offnet_mou_8</td>\n",
       "      <td>2.61</td>\n",
       "    </tr>\n",
       "    <tr>\n",
       "      <th>9</th>\n",
       "      <td>avg_onnet_mou_6_7</td>\n",
       "      <td>2.44</td>\n",
       "    </tr>\n",
       "    <tr>\n",
       "      <th>10</th>\n",
       "      <td>avg_offnet_mou_6_7</td>\n",
       "      <td>2.20</td>\n",
       "    </tr>\n",
       "    <tr>\n",
       "      <th>5</th>\n",
       "      <td>total_rech_amt_8</td>\n",
       "      <td>1.99</td>\n",
       "    </tr>\n",
       "    <tr>\n",
       "      <th>4</th>\n",
       "      <td>total_rech_num_8</td>\n",
       "      <td>1.54</td>\n",
       "    </tr>\n",
       "    <tr>\n",
       "      <th>11</th>\n",
       "      <td>avg_max_rech_amt_6_7</td>\n",
       "      <td>1.50</td>\n",
       "    </tr>\n",
       "    <tr>\n",
       "      <th>2</th>\n",
       "      <td>roam_og_mou_8</td>\n",
       "      <td>1.45</td>\n",
       "    </tr>\n",
       "    <tr>\n",
       "      <th>6</th>\n",
       "      <td>last_day_rch_amt_8</td>\n",
       "      <td>1.45</td>\n",
       "    </tr>\n",
       "    <tr>\n",
       "      <th>12</th>\n",
       "      <td>avg_roam_og_mou_6_7</td>\n",
       "      <td>1.44</td>\n",
       "    </tr>\n",
       "    <tr>\n",
       "      <th>7</th>\n",
       "      <td>aon</td>\n",
       "      <td>1.07</td>\n",
       "    </tr>\n",
       "  </tbody>\n",
       "</table>\n",
       "</div>"
      ],
      "text/plain": [
       "                Features   VIF\n",
       "3         total_ic_mou_8  3.17\n",
       "8         avg_ic_mou_6_7  3.08\n",
       "0            onnet_mou_8  2.68\n",
       "1           offnet_mou_8  2.61\n",
       "9      avg_onnet_mou_6_7  2.44\n",
       "10    avg_offnet_mou_6_7  2.20\n",
       "5       total_rech_amt_8  1.99\n",
       "4       total_rech_num_8  1.54\n",
       "11  avg_max_rech_amt_6_7  1.50\n",
       "2          roam_og_mou_8  1.45\n",
       "6     last_day_rch_amt_8  1.45\n",
       "12   avg_roam_og_mou_6_7  1.44\n",
       "7                    aon  1.07"
      ]
     },
     "execution_count": 126,
     "metadata": {},
     "output_type": "execute_result"
    }
   ],
   "source": [
    "##### Let's check the VIFs again\n",
    "vif = pd.DataFrame()\n",
    "vif['Features'] = X_train[variablelist].columns\n",
    "vif['VIF'] = [variance_inflation_factor(X_train[variablelist].values, i) for i in range(X_train[variablelist].shape[1])]\n",
    "vif['VIF'] = round(vif['VIF'],2)\n",
    "vif = vif.sort_values(by = \"VIF\", ascending = False)\n",
    "#pd.options.display.float_format = '{:.0f}'.format\n",
    "vif"
   ]
  },
  {
   "cell_type": "markdown",
   "metadata": {},
   "source": [
    "All variables have a p-value less than 0.05 and VIF less than 5"
   ]
  },
  {
   "cell_type": "code",
   "execution_count": 127,
   "metadata": {},
   "outputs": [],
   "source": [
    "#Making predictions\n",
    "y_train_pred = logm3.predict(x_train_sm).values.reshape(-1)"
   ]
  },
  {
   "cell_type": "markdown",
   "metadata": {},
   "source": [
    "##### Creating a dataframe with the actual churn flag and the predicted probabilities"
   ]
  },
  {
   "cell_type": "code",
   "execution_count": 128,
   "metadata": {},
   "outputs": [
    {
     "data": {
      "text/html": [
       "<div>\n",
       "<style scoped>\n",
       "    .dataframe tbody tr th:only-of-type {\n",
       "        vertical-align: middle;\n",
       "    }\n",
       "\n",
       "    .dataframe tbody tr th {\n",
       "        vertical-align: top;\n",
       "    }\n",
       "\n",
       "    .dataframe thead th {\n",
       "        text-align: right;\n",
       "    }\n",
       "</style>\n",
       "<table border=\"1\" class=\"dataframe\">\n",
       "  <thead>\n",
       "    <tr style=\"text-align: right;\">\n",
       "      <th></th>\n",
       "      <th>Churn</th>\n",
       "      <th>Churn_Prob</th>\n",
       "      <th>CustID</th>\n",
       "    </tr>\n",
       "  </thead>\n",
       "  <tbody>\n",
       "    <tr>\n",
       "      <th>0</th>\n",
       "      <td>1</td>\n",
       "      <td>0.626466</td>\n",
       "      <td>0</td>\n",
       "    </tr>\n",
       "    <tr>\n",
       "      <th>1</th>\n",
       "      <td>0</td>\n",
       "      <td>0.080587</td>\n",
       "      <td>1</td>\n",
       "    </tr>\n",
       "    <tr>\n",
       "      <th>2</th>\n",
       "      <td>0</td>\n",
       "      <td>0.032968</td>\n",
       "      <td>2</td>\n",
       "    </tr>\n",
       "    <tr>\n",
       "      <th>3</th>\n",
       "      <td>0</td>\n",
       "      <td>0.247496</td>\n",
       "      <td>3</td>\n",
       "    </tr>\n",
       "    <tr>\n",
       "      <th>4</th>\n",
       "      <td>0</td>\n",
       "      <td>0.235557</td>\n",
       "      <td>4</td>\n",
       "    </tr>\n",
       "  </tbody>\n",
       "</table>\n",
       "</div>"
      ],
      "text/plain": [
       "   Churn  Churn_Prob  CustID\n",
       "0      1    0.626466       0\n",
       "1      0    0.080587       1\n",
       "2      0    0.032968       2\n",
       "3      0    0.247496       3\n",
       "4      0    0.235557       4"
      ]
     },
     "execution_count": 128,
     "metadata": {},
     "output_type": "execute_result"
    }
   ],
   "source": [
    "y_train_pred_final = pd.DataFrame({'Churn':y_train.values, 'Churn_Prob':y_train_pred})\n",
    "y_train_pred_final['CustID'] = y_train.index\n",
    "y_train_pred_final.head()"
   ]
  },
  {
   "cell_type": "markdown",
   "metadata": {},
   "source": [
    "### Finding Optimal Cutoff Point\n",
    "\n",
    "Optimal cutoff probability is that probability where we get balanced sensitivity and specificity"
   ]
  },
  {
   "cell_type": "code",
   "execution_count": 129,
   "metadata": {},
   "outputs": [
    {
     "data": {
      "text/html": [
       "<div>\n",
       "<style scoped>\n",
       "    .dataframe tbody tr th:only-of-type {\n",
       "        vertical-align: middle;\n",
       "    }\n",
       "\n",
       "    .dataframe tbody tr th {\n",
       "        vertical-align: top;\n",
       "    }\n",
       "\n",
       "    .dataframe thead th {\n",
       "        text-align: right;\n",
       "    }\n",
       "</style>\n",
       "<table border=\"1\" class=\"dataframe\">\n",
       "  <thead>\n",
       "    <tr style=\"text-align: right;\">\n",
       "      <th></th>\n",
       "      <th>Churn</th>\n",
       "      <th>Churn_Prob</th>\n",
       "      <th>CustID</th>\n",
       "      <th>0.0</th>\n",
       "      <th>0.1</th>\n",
       "      <th>0.2</th>\n",
       "      <th>0.3</th>\n",
       "      <th>0.4</th>\n",
       "      <th>0.5</th>\n",
       "      <th>0.6</th>\n",
       "      <th>0.7</th>\n",
       "      <th>0.8</th>\n",
       "      <th>0.9</th>\n",
       "    </tr>\n",
       "  </thead>\n",
       "  <tbody>\n",
       "    <tr>\n",
       "      <th>0</th>\n",
       "      <td>1</td>\n",
       "      <td>0.626466</td>\n",
       "      <td>0</td>\n",
       "      <td>1</td>\n",
       "      <td>1</td>\n",
       "      <td>1</td>\n",
       "      <td>1</td>\n",
       "      <td>1</td>\n",
       "      <td>1</td>\n",
       "      <td>1</td>\n",
       "      <td>0</td>\n",
       "      <td>0</td>\n",
       "      <td>0</td>\n",
       "    </tr>\n",
       "    <tr>\n",
       "      <th>1</th>\n",
       "      <td>0</td>\n",
       "      <td>0.080587</td>\n",
       "      <td>1</td>\n",
       "      <td>1</td>\n",
       "      <td>0</td>\n",
       "      <td>0</td>\n",
       "      <td>0</td>\n",
       "      <td>0</td>\n",
       "      <td>0</td>\n",
       "      <td>0</td>\n",
       "      <td>0</td>\n",
       "      <td>0</td>\n",
       "      <td>0</td>\n",
       "    </tr>\n",
       "    <tr>\n",
       "      <th>2</th>\n",
       "      <td>0</td>\n",
       "      <td>0.032968</td>\n",
       "      <td>2</td>\n",
       "      <td>1</td>\n",
       "      <td>0</td>\n",
       "      <td>0</td>\n",
       "      <td>0</td>\n",
       "      <td>0</td>\n",
       "      <td>0</td>\n",
       "      <td>0</td>\n",
       "      <td>0</td>\n",
       "      <td>0</td>\n",
       "      <td>0</td>\n",
       "    </tr>\n",
       "    <tr>\n",
       "      <th>3</th>\n",
       "      <td>0</td>\n",
       "      <td>0.247496</td>\n",
       "      <td>3</td>\n",
       "      <td>1</td>\n",
       "      <td>1</td>\n",
       "      <td>1</td>\n",
       "      <td>0</td>\n",
       "      <td>0</td>\n",
       "      <td>0</td>\n",
       "      <td>0</td>\n",
       "      <td>0</td>\n",
       "      <td>0</td>\n",
       "      <td>0</td>\n",
       "    </tr>\n",
       "    <tr>\n",
       "      <th>4</th>\n",
       "      <td>0</td>\n",
       "      <td>0.235557</td>\n",
       "      <td>4</td>\n",
       "      <td>1</td>\n",
       "      <td>1</td>\n",
       "      <td>1</td>\n",
       "      <td>0</td>\n",
       "      <td>0</td>\n",
       "      <td>0</td>\n",
       "      <td>0</td>\n",
       "      <td>0</td>\n",
       "      <td>0</td>\n",
       "      <td>0</td>\n",
       "    </tr>\n",
       "  </tbody>\n",
       "</table>\n",
       "</div>"
      ],
      "text/plain": [
       "   Churn  Churn_Prob  CustID  0.0  0.1  0.2  0.3  0.4  0.5  0.6  0.7  0.8  0.9\n",
       "0      1    0.626466       0    1    1    1    1    1    1    1    0    0    0\n",
       "1      0    0.080587       1    1    0    0    0    0    0    0    0    0    0\n",
       "2      0    0.032968       2    1    0    0    0    0    0    0    0    0    0\n",
       "3      0    0.247496       3    1    1    1    0    0    0    0    0    0    0\n",
       "4      0    0.235557       4    1    1    1    0    0    0    0    0    0    0"
      ]
     },
     "execution_count": 129,
     "metadata": {},
     "output_type": "execute_result"
    }
   ],
   "source": [
    "# Let's create columns with different probability cutoffs \n",
    "numbers = [float(x)/10 for x in range(10)]\n",
    "for i in numbers:\n",
    "    y_train_pred_final[i]= y_train_pred_final.Churn_Prob.map(lambda x: 1 if x > i else 0)\n",
    "y_train_pred_final.head()"
   ]
  },
  {
   "cell_type": "code",
   "execution_count": 130,
   "metadata": {},
   "outputs": [
    {
     "name": "stdout",
     "output_type": "stream",
     "text": [
      "     prob  accuracy     sensi     speci\n",
      "0.0   0.0  0.132619  1.000000  0.000000\n",
      "0.1   0.1  0.708000  0.870018  0.683228\n",
      "0.2   0.2  0.827333  0.774147  0.835465\n",
      "0.3   0.3  0.877286  0.647038  0.912490\n",
      "0.4   0.4  0.894143  0.479713  0.957508\n",
      "0.5   0.5  0.886810  0.261041  0.982487\n",
      "0.6   0.6  0.876905  0.112388  0.993796\n",
      "0.7   0.7  0.871667  0.041293  0.998628\n",
      "0.8   0.8  0.869095  0.015440  0.999616\n",
      "0.9   0.9  0.868095  0.005386  1.000000\n"
     ]
    }
   ],
   "source": [
    "# Now let's calculate accuracy sensitivity and specificity for various probability cutoffs.\n",
    "from sklearn import metrics\n",
    "cutoff_df = pd.DataFrame( columns = ['prob','accuracy','sensi','speci'])\n",
    "from sklearn.metrics import confusion_matrix\n",
    "\n",
    "num = [0.0,0.1,0.2,0.3,0.4,0.5,0.6,0.7,0.8,0.9]\n",
    "for i in num:\n",
    "    cm1 = metrics.confusion_matrix(y_train_pred_final.Churn, y_train_pred_final[i] )\n",
    "    total1=sum(sum(cm1))\n",
    "    accuracy = (cm1[0,0]+cm1[1,1])/total1\n",
    "    \n",
    "    speci = cm1[0,0]/(cm1[0,0]+cm1[0,1])\n",
    "    sensi = cm1[1,1]/(cm1[1,0]+cm1[1,1])\n",
    "    cutoff_df.loc[i] =[ i ,accuracy,sensi,speci]\n",
    "print(cutoff_df)"
   ]
  },
  {
   "cell_type": "code",
   "execution_count": 131,
   "metadata": {},
   "outputs": [
    {
     "data": {
      "image/png": "[encoded data removed]",
      "text/plain": [
       "<Figure size 432x288 with 1 Axes>"
      ]
     },
     "metadata": {
      "needs_background": "light"
     },
     "output_type": "display_data"
    }
   ],
   "source": [
    "# Let's plot accuracy sensitivity and specificity for various probabilities.\n",
    "cutoff_df.plot.line(x='prob', y=['accuracy','sensi','speci'])\n",
    "plt.show()"
   ]
  },
  {
   "cell_type": "markdown",
   "metadata": {},
   "source": [
    "##### From the curve above, 0.15 is the optimum point to take it as a cutoff probability."
   ]
  },
  {
   "cell_type": "code",
   "execution_count": 132,
   "metadata": {},
   "outputs": [],
   "source": [
    "y_train_pred_final['predicted'] = y_train_pred_final.Churn_Prob.map(lambda x: 1 if x > 0.15 else 0)"
   ]
  },
  {
   "cell_type": "code",
   "execution_count": 133,
   "metadata": {},
   "outputs": [
    {
     "name": "stdout",
     "output_type": "stream",
     "text": [
      "[[14111  4104]\n",
      " [  498  2287]]\n"
     ]
    }
   ],
   "source": [
    "# Confusion matrix \n",
    "confusion = metrics.confusion_matrix(y_train_pred_final.Churn, y_train_pred_final.predicted )\n",
    "print(confusion)\n",
    "TP = confusion[1,1] # true positive \n",
    "TN = confusion[0,0] # true negatives\n",
    "FP = confusion[0,1] # false positives\n",
    "FN = confusion[1,0] # false negatives\n"
   ]
  },
  {
   "cell_type": "code",
   "execution_count": 134,
   "metadata": {},
   "outputs": [
    {
     "name": "stdout",
     "output_type": "stream",
     "text": [
      "0.7808571428571428\n"
     ]
    }
   ],
   "source": [
    "# Let's check the overall accuracy.\n",
    "print(metrics.accuracy_score(y_train_pred_final.Churn, y_train_pred_final.predicted))"
   ]
  },
  {
   "cell_type": "code",
   "execution_count": 135,
   "metadata": {},
   "outputs": [
    {
     "name": "stdout",
     "output_type": "stream",
     "text": [
      "Sensitivity : 0.82\n",
      "Specificity : 0.77\n",
      "Precision : 0.36\n",
      "Recall : 0.82\n"
     ]
    }
   ],
   "source": [
    "Sensitivity=round(TP/(FN+TP),2)\n",
    "Specificity=round(TN/(TN+FP),2)\n",
    "Precision=round(TP/(TP+FP),2)\n",
    "Recall=Sensitivity\n",
    "\n",
    "print(\"Sensitivity :\",Sensitivity)\n",
    "print(\"Specificity :\",Specificity)\n",
    "print(\"Precision :\",Precision)\n",
    "print(\"Recall :\",Recall)"
   ]
  },
  {
   "cell_type": "markdown",
   "metadata": {},
   "source": [
    "### Plotting the ROC Curve"
   ]
  },
  {
   "cell_type": "code",
   "execution_count": 136,
   "metadata": {},
   "outputs": [],
   "source": [
    "def draw_roc(model,actual, probs ):\n",
    "    fpr, tpr, thresholds = metrics.roc_curve( actual, probs,\n",
    "                                              drop_intermediate = False )\n",
    "    auc_score = metrics.roc_auc_score( actual, probs )\n",
    "    plt.figure(figsize=(5, 5))\n",
    "    plt.plot( fpr, tpr, label='ROC curve (area = %0.2f)' % auc_score )\n",
    "    plt.plot([0, 1], [0, 1], 'k--')\n",
    "    plt.xlim([0.0, 1.0])\n",
    "    plt.ylim([0.0, 1.05])\n",
    "    plt.xlabel('False Positive Rate or [1 - True Negative Rate]')\n",
    "    plt.ylabel('True Positive Rate')\n",
    "    plt.title(model +' Receiver operating characteristic example')\n",
    "    plt.legend(loc=\"lower right\")\n",
    "    plt.show()\n",
    "    return None"
   ]
  },
  {
   "cell_type": "code",
   "execution_count": 137,
   "metadata": {},
   "outputs": [
    {
     "data": {
      "image/png": "[encoded data removed]",
      "text/plain": [
       "<Figure size 360x360 with 1 Axes>"
      ]
     },
     "metadata": {
      "needs_background": "light"
     },
     "output_type": "display_data"
    }
   ],
   "source": [
    "fpr, tpr, thresholds = metrics.roc_curve( y_train_pred_final.Churn, y_train_pred_final.predicted, drop_intermediate = False )\n",
    "draw_roc(\"roc\",y_train_pred_final.Churn, y_train_pred_final.predicted)"
   ]
  },
  {
   "cell_type": "markdown",
   "metadata": {},
   "source": [
    "#### Making Prediction on test data"
   ]
  },
  {
   "cell_type": "code",
   "execution_count": 138,
   "metadata": {},
   "outputs": [
    {
     "data": {
      "text/plain": [
       "Index(['onnet_mou_8', 'offnet_mou_8', 'roam_og_mou_8', 'total_ic_mou_8',\n",
       "       'total_rech_num_8', 'total_rech_amt_8', 'last_day_rch_amt_8', 'aon',\n",
       "       'avg_ic_mou_6_7', 'avg_onnet_mou_6_7', 'avg_offnet_mou_6_7',\n",
       "       'avg_max_rech_amt_6_7', 'avg_roam_og_mou_6_7'],\n",
       "      dtype='object')"
      ]
     },
     "execution_count": 138,
     "metadata": {},
     "output_type": "execute_result"
    }
   ],
   "source": [
    "variablelist"
   ]
  },
  {
   "cell_type": "code",
   "execution_count": 139,
   "metadata": {},
   "outputs": [],
   "source": [
    "X_test=X_test[variablelist]\n",
    "y_test_prob=logm3.predict(sm.add_constant(X_test))"
   ]
  },
  {
   "cell_type": "code",
   "execution_count": 140,
   "metadata": {},
   "outputs": [
    {
     "data": {
      "text/html": [
       "<div>\n",
       "<style scoped>\n",
       "    .dataframe tbody tr th:only-of-type {\n",
       "        vertical-align: middle;\n",
       "    }\n",
       "\n",
       "    .dataframe tbody tr th {\n",
       "        vertical-align: top;\n",
       "    }\n",
       "\n",
       "    .dataframe thead th {\n",
       "        text-align: right;\n",
       "    }\n",
       "</style>\n",
       "<table border=\"1\" class=\"dataframe\">\n",
       "  <thead>\n",
       "    <tr style=\"text-align: right;\">\n",
       "      <th></th>\n",
       "      <th>Churn</th>\n",
       "      <th>Churn_Prob</th>\n",
       "    </tr>\n",
       "  </thead>\n",
       "  <tbody>\n",
       "    <tr>\n",
       "      <th>0</th>\n",
       "      <td>0</td>\n",
       "      <td>0.068528</td>\n",
       "    </tr>\n",
       "    <tr>\n",
       "      <th>1</th>\n",
       "      <td>0</td>\n",
       "      <td>0.138337</td>\n",
       "    </tr>\n",
       "    <tr>\n",
       "      <th>2</th>\n",
       "      <td>0</td>\n",
       "      <td>0.009625</td>\n",
       "    </tr>\n",
       "    <tr>\n",
       "      <th>3</th>\n",
       "      <td>0</td>\n",
       "      <td>0.020243</td>\n",
       "    </tr>\n",
       "    <tr>\n",
       "      <th>4</th>\n",
       "      <td>0</td>\n",
       "      <td>0.096932</td>\n",
       "    </tr>\n",
       "  </tbody>\n",
       "</table>\n",
       "</div>"
      ],
      "text/plain": [
       "   Churn  Churn_Prob\n",
       "0      0    0.068528\n",
       "1      0    0.138337\n",
       "2      0    0.009625\n",
       "3      0    0.020243\n",
       "4      0    0.096932"
      ]
     },
     "execution_count": 140,
     "metadata": {},
     "output_type": "execute_result"
    }
   ],
   "source": [
    "y_test_pred_final = pd.DataFrame({'Churn':y_test,'Churn_Prob':y_test_prob})\n",
    "y_test_pred_final.head(5)"
   ]
  },
  {
   "cell_type": "code",
   "execution_count": 141,
   "metadata": {},
   "outputs": [
    {
     "data": {
      "text/html": [
       "<div>\n",
       "<style scoped>\n",
       "    .dataframe tbody tr th:only-of-type {\n",
       "        vertical-align: middle;\n",
       "    }\n",
       "\n",
       "    .dataframe tbody tr th {\n",
       "        vertical-align: top;\n",
       "    }\n",
       "\n",
       "    .dataframe thead th {\n",
       "        text-align: right;\n",
       "    }\n",
       "</style>\n",
       "<table border=\"1\" class=\"dataframe\">\n",
       "  <thead>\n",
       "    <tr style=\"text-align: right;\">\n",
       "      <th></th>\n",
       "      <th>Churn</th>\n",
       "      <th>Churn_Prob</th>\n",
       "      <th>predicted_Churn</th>\n",
       "    </tr>\n",
       "  </thead>\n",
       "  <tbody>\n",
       "    <tr>\n",
       "      <th>0</th>\n",
       "      <td>0</td>\n",
       "      <td>0.068528</td>\n",
       "      <td>0</td>\n",
       "    </tr>\n",
       "    <tr>\n",
       "      <th>1</th>\n",
       "      <td>0</td>\n",
       "      <td>0.138337</td>\n",
       "      <td>0</td>\n",
       "    </tr>\n",
       "    <tr>\n",
       "      <th>2</th>\n",
       "      <td>0</td>\n",
       "      <td>0.009625</td>\n",
       "      <td>0</td>\n",
       "    </tr>\n",
       "    <tr>\n",
       "      <th>3</th>\n",
       "      <td>0</td>\n",
       "      <td>0.020243</td>\n",
       "      <td>0</td>\n",
       "    </tr>\n",
       "    <tr>\n",
       "      <th>4</th>\n",
       "      <td>0</td>\n",
       "      <td>0.096932</td>\n",
       "      <td>0</td>\n",
       "    </tr>\n",
       "  </tbody>\n",
       "</table>\n",
       "</div>"
      ],
      "text/plain": [
       "   Churn  Churn_Prob  predicted_Churn\n",
       "0      0    0.068528                0\n",
       "1      0    0.138337                0\n",
       "2      0    0.009625                0\n",
       "3      0    0.020243                0\n",
       "4      0    0.096932                0"
      ]
     },
     "execution_count": 141,
     "metadata": {},
     "output_type": "execute_result"
    }
   ],
   "source": [
    "y_test_pred_final['predicted_Churn'] = y_test_pred_final.Churn_Prob.map(lambda x: 1 if x > 0.15 else 0)\n",
    "\n",
    "y_test_pred_final.head()"
   ]
  },
  {
   "cell_type": "markdown",
   "metadata": {},
   "source": [
    "Overall Accuracy, Sensitivity and Specificity"
   ]
  },
  {
   "cell_type": "code",
   "execution_count": 142,
   "metadata": {},
   "outputs": [
    {
     "data": {
      "text/plain": [
       "0.7862459726697034"
      ]
     },
     "execution_count": 142,
     "metadata": {},
     "output_type": "execute_result"
    }
   ],
   "source": [
    "metrics.accuracy_score(y_test_pred_final.Churn, y_test_pred_final.predicted_Churn)"
   ]
  },
  {
   "cell_type": "code",
   "execution_count": 143,
   "metadata": {},
   "outputs": [
    {
     "name": "stdout",
     "output_type": "stream",
     "text": [
      "[[6040 1714]\n",
      " [ 210 1037]]\n",
      "Sensitivity : 0.83\n",
      "Specificity : 0.78\n",
      "Precision : 0.38\n",
      "Recall : 0.83\n"
     ]
    }
   ],
   "source": [
    "confusion = metrics.confusion_matrix(y_test_pred_final.Churn, y_test_pred_final.predicted_Churn)\n",
    "print(confusion)\n",
    "TP = confusion[1,1] # true positive \n",
    "TN = confusion[0,0] # true negatives\n",
    "FP = confusion[0,1] # false positives\n",
    "FN = confusion[1,0] # false negatives\n",
    "Sensitivity=round(TP/(FN+TP),2)\n",
    "Specificity=round(TN/(TN+FP),2)\n",
    "Precision=round(TP/(TP+FP),2)\n",
    "Recall=Sensitivity\n",
    "\n",
    "\n",
    "print(\"Sensitivity :\",Sensitivity)\n",
    "print(\"Specificity :\",Specificity)\n",
    "print(\"Precision :\",Precision)\n",
    "print(\"Recall :\",Recall)"
   ]
  },
  {
   "cell_type": "markdown",
   "metadata": {},
   "source": [
    "### Evaluation metrics of the model"
   ]
  },
  {
   "cell_type": "raw",
   "metadata": {},
   "source": [
    "Train and test dataset have similar values for different metrics for accuracy.<br>\n",
    "Train : Sensitivity : 0.82   ; Specificity : 0.77  ; Overall Accuracy : 0.78 <br>\n",
    "Test  : Sensitivity : 0.83 ; Specificity : 0.78  ; Overall Accuracy : 0.79"
   ]
  },
  {
   "cell_type": "markdown",
   "metadata": {
    "collapsed": true
   },
   "source": [
    "#### Interpreting the model and identifying the important variables"
   ]
  },
  {
   "cell_type": "code",
   "execution_count": 144,
   "metadata": {},
   "outputs": [
    {
     "data": {
      "text/html": [
       "<table class=\"simpletable\">\n",
       "<caption>Generalized Linear Model Regression Results</caption>\n",
       "<tr>\n",
       "  <th>Dep. Variable:</th>        <td>churn</td>      <th>  No. Observations:  </th>  <td> 21000</td>  \n",
       "</tr>\n",
       "<tr>\n",
       "  <th>Model:</th>                 <td>GLM</td>       <th>  Df Residuals:      </th>  <td> 20986</td>  \n",
       "</tr>\n",
       "<tr>\n",
       "  <th>Model Family:</th>       <td>Binomial</td>     <th>  Df Model:          </th>  <td>    13</td>  \n",
       "</tr>\n",
       "<tr>\n",
       "  <th>Link Function:</th>        <td>logit</td>      <th>  Scale:             </th> <td>  1.0000</td> \n",
       "</tr>\n",
       "<tr>\n",
       "  <th>Method:</th>               <td>IRLS</td>       <th>  Log-Likelihood:    </th> <td> -5918.4</td> \n",
       "</tr>\n",
       "<tr>\n",
       "  <th>Date:</th>           <td>Mon, 20 May 2019</td> <th>  Deviance:          </th> <td>  11837.</td> \n",
       "</tr>\n",
       "<tr>\n",
       "  <th>Time:</th>               <td>20:31:33</td>     <th>  Pearson chi2:      </th> <td>1.96e+06</td> \n",
       "</tr>\n",
       "<tr>\n",
       "  <th>No. Iterations:</th>         <td>8</td>        <th>  Covariance Type:   </th> <td>nonrobust</td>\n",
       "</tr>\n",
       "</table>\n",
       "<table class=\"simpletable\">\n",
       "<tr>\n",
       "            <td></td>              <th>coef</th>     <th>std err</th>      <th>z</th>      <th>P>|z|</th>  <th>[0.025</th>    <th>0.975]</th>  \n",
       "</tr>\n",
       "<tr>\n",
       "  <th>const</th>                <td>   -3.2523</td> <td>    0.051</td> <td>  -63.437</td> <td> 0.000</td> <td>   -3.353</td> <td>   -3.152</td>\n",
       "</tr>\n",
       "<tr>\n",
       "  <th>onnet_mou_8</th>          <td>   -0.3992</td> <td>    0.064</td> <td>   -6.236</td> <td> 0.000</td> <td>   -0.525</td> <td>   -0.274</td>\n",
       "</tr>\n",
       "<tr>\n",
       "  <th>offnet_mou_8</th>         <td>   -0.7485</td> <td>    0.076</td> <td>   -9.905</td> <td> 0.000</td> <td>   -0.897</td> <td>   -0.600</td>\n",
       "</tr>\n",
       "<tr>\n",
       "  <th>roam_og_mou_8</th>        <td>    0.2071</td> <td>    0.028</td> <td>    7.439</td> <td> 0.000</td> <td>    0.153</td> <td>    0.262</td>\n",
       "</tr>\n",
       "<tr>\n",
       "  <th>total_ic_mou_8</th>       <td>   -2.3675</td> <td>    0.106</td> <td>  -22.414</td> <td> 0.000</td> <td>   -2.575</td> <td>   -2.160</td>\n",
       "</tr>\n",
       "<tr>\n",
       "  <th>total_rech_num_8</th>     <td>   -0.6809</td> <td>    0.055</td> <td>  -12.437</td> <td> 0.000</td> <td>   -0.788</td> <td>   -0.574</td>\n",
       "</tr>\n",
       "<tr>\n",
       "  <th>total_rech_amt_8</th>     <td>   -0.2598</td> <td>    0.077</td> <td>   -3.390</td> <td> 0.001</td> <td>   -0.410</td> <td>   -0.110</td>\n",
       "</tr>\n",
       "<tr>\n",
       "  <th>last_day_rch_amt_8</th>   <td>   -0.1916</td> <td>    0.039</td> <td>   -4.935</td> <td> 0.000</td> <td>   -0.268</td> <td>   -0.115</td>\n",
       "</tr>\n",
       "<tr>\n",
       "  <th>aon</th>                  <td>   -0.3838</td> <td>    0.030</td> <td>  -12.763</td> <td> 0.000</td> <td>   -0.443</td> <td>   -0.325</td>\n",
       "</tr>\n",
       "<tr>\n",
       "  <th>avg_ic_mou_6_7</th>       <td>    0.3762</td> <td>    0.049</td> <td>    7.618</td> <td> 0.000</td> <td>    0.279</td> <td>    0.473</td>\n",
       "</tr>\n",
       "<tr>\n",
       "  <th>avg_onnet_mou_6_7</th>    <td>    0.1147</td> <td>    0.035</td> <td>    3.288</td> <td> 0.001</td> <td>    0.046</td> <td>    0.183</td>\n",
       "</tr>\n",
       "<tr>\n",
       "  <th>avg_offnet_mou_6_7</th>   <td>    0.2279</td> <td>    0.035</td> <td>    6.502</td> <td> 0.000</td> <td>    0.159</td> <td>    0.297</td>\n",
       "</tr>\n",
       "<tr>\n",
       "  <th>avg_max_rech_amt_6_7</th> <td>    0.1838</td> <td>    0.027</td> <td>    6.774</td> <td> 0.000</td> <td>    0.131</td> <td>    0.237</td>\n",
       "</tr>\n",
       "<tr>\n",
       "  <th>avg_roam_og_mou_6_7</th>  <td>    0.0703</td> <td>    0.026</td> <td>    2.684</td> <td> 0.007</td> <td>    0.019</td> <td>    0.122</td>\n",
       "</tr>\n",
       "</table>"
      ],
      "text/plain": [
       "<class 'statsmodels.iolib.summary.Summary'>\n",
       "\"\"\"\n",
       "                 Generalized Linear Model Regression Results                  \n",
       "==============================================================================\n",
       "Dep. Variable:                  churn   No. Observations:                21000\n",
       "Model:                            GLM   Df Residuals:                    20986\n",
       "Model Family:                Binomial   Df Model:                           13\n",
       "Link Function:                  logit   Scale:                          1.0000\n",
       "Method:                          IRLS   Log-Likelihood:                -5918.4\n",
       "Date:                Mon, 20 May 2019   Deviance:                       11837.\n",
       "Time:                        20:31:33   Pearson chi2:                 1.96e+06\n",
       "No. Iterations:                     8   Covariance Type:             nonrobust\n",
       "========================================================================================\n",
       "                           coef    std err          z      P>|z|      [0.025      0.975]\n",
       "----------------------------------------------------------------------------------------\n",
       "const                   -3.2523      0.051    -63.437      0.000      -3.353      -3.152\n",
       "onnet_mou_8             -0.3992      0.064     -6.236      0.000      -0.525      -0.274\n",
       "offnet_mou_8            -0.7485      0.076     -9.905      0.000      -0.897      -0.600\n",
       "roam_og_mou_8            0.2071      0.028      7.439      0.000       0.153       0.262\n",
       "total_ic_mou_8          -2.3675      0.106    -22.414      0.000      -2.575      -2.160\n",
       "total_rech_num_8        -0.6809      0.055    -12.437      0.000      -0.788      -0.574\n",
       "total_rech_amt_8        -0.2598      0.077     -3.390      0.001      -0.410      -0.110\n",
       "last_day_rch_amt_8      -0.1916      0.039     -4.935      0.000      -0.268      -0.115\n",
       "aon                     -0.3838      0.030    -12.763      0.000      -0.443      -0.325\n",
       "avg_ic_mou_6_7           0.3762      0.049      7.618      0.000       0.279       0.473\n",
       "avg_onnet_mou_6_7        0.1147      0.035      3.288      0.001       0.046       0.183\n",
       "avg_offnet_mou_6_7       0.2279      0.035      6.502      0.000       0.159       0.297\n",
       "avg_max_rech_amt_6_7     0.1838      0.027      6.774      0.000       0.131       0.237\n",
       "avg_roam_og_mou_6_7      0.0703      0.026      2.684      0.007       0.019       0.122\n",
       "========================================================================================\n",
       "\"\"\""
      ]
     },
     "execution_count": 144,
     "metadata": {},
     "output_type": "execute_result"
    }
   ],
   "source": [
    "logm3.summary()"
   ]
  },
  {
   "cell_type": "markdown",
   "metadata": {},
   "source": [
    "The estimated coefficients are the log odds. Formula for the model as below:\n",
    "    ln(p/1-p):B0+B1*x1+B2*x2+B3*x3.....\n",
    "        \n",
    "logit(p) = log(P/(1-P)) = -3.2523-0.3992*onnet_mou_8-0.7485*offnet_mou_8+0.2071*roam_og_mou_8-2.3675*total_ic_mou_8 \n",
    "-0.6809*total_rech_num_8-0.2598*total_rech_amt_8-0.1916*last_day_rch_amt_8-0.3838*aon+0.3762*avg_ic_mou_6_7\n",
    "+0.1147*avg_onnet_mou_6_7+0.2279*avg_offnet_mou_6_7+0.1838*avg_max_rech_amt_6_7+0.0703*avg_roam_og_mou_6_7\n",
    "\n",
    "1.Variable's *** roam_og_mou_8,avg_ic_mou_6_7,avg_onnet_mou_6_7,avg_offnet_mou_6_7,avg_max_rech_amt_6_7,avg_roam_og_mou_6_7  *** have positive influence on customer churn.  Higher the value the more the probability of churn.\n",
    "\n",
    "2.Variable's ***onnet_mou_8, aon, last_day_rch_amt_8, total_rech_amt_8, total_rech_num_8, total_ic_mou_8, offnet_mou_8 *** have a negative impact on customer churn.  Lesser the value more the probability to churn\n"
   ]
  },
  {
   "cell_type": "markdown",
   "metadata": {},
   "source": [
    "Estimated coefficients are the log odds. By exponentiating these values, we can calculate the odds, which are easier to interpret."
   ]
  },
  {
   "cell_type": "code",
   "execution_count": 145,
   "metadata": {
    "scrolled": true
   },
   "outputs": [
    {
     "data": {
      "text/plain": [
       "avg_ic_mou_6_7          1.456736\n",
       "avg_offnet_mou_6_7      1.255927\n",
       "roam_og_mou_8           1.230058\n",
       "avg_max_rech_amt_6_7    1.201761\n",
       "avg_onnet_mou_6_7       1.121509\n",
       "avg_roam_og_mou_6_7     1.072810\n",
       "last_day_rch_amt_8      0.825665\n",
       "total_rech_amt_8        0.771242\n",
       "aon                     0.681282\n",
       "onnet_mou_8             0.670887\n",
       "total_rech_num_8        0.506149\n",
       "offnet_mou_8            0.473097\n",
       "total_ic_mou_8          0.093716\n",
       "const                   0.038685\n",
       "dtype: float64"
      ]
     },
     "execution_count": 145,
     "metadata": {},
     "output_type": "execute_result"
    }
   ],
   "source": [
    "np.exp(logm3.params).sort_values(ascending=False)"
   ]
  },
  {
   "cell_type": "markdown",
   "metadata": {},
   "source": [
    "The important predictors are:\n",
    "\n",
    "1. Age on network 'aon'\n",
    "2. Average incoming call minute of usage during good phase & acion phase 'avg_ic_mou_6_7'and 'total_ic_mou_8' \n",
    "3. All kind of calls outside the operator T network  \"avg_onnet_mou_6_7\" and \"onnet_mou_8\" during good and action phase &\n",
    "   within the same operator network during good phase and actio phase \"avg_offnet_mou_6_7\" and \"offnet_mou_8\"\n",
    "4. Roaming outgoing calls minute of usage during action phase and good phase'roam_og_mou_8' & \"avg_roam_og_mou_6_7\"\n",
    "5. Average maximum recharge amount during good phase 'avg_max_rech_amt_6_7'\n",
    "6. Last day recharge amount during action phase \"last_day_rch_amt_8\"\n",
    "7. Total recharge amount during action phase wrt \"total_rech_amt_8\"\n",
    "8. Total recharge number during action phase \"total_rech_num_8\"\n"
   ]
  },
  {
   "cell_type": "markdown",
   "metadata": {},
   "source": [
    "Let us put the important predictors, Actual churn and Predicted churn together in a dataframe to visualize it."
   ]
  },
  {
   "cell_type": "code",
   "execution_count": 146,
   "metadata": {
    "scrolled": false
   },
   "outputs": [
    {
     "data": {
      "text/html": [
       "<div>\n",
       "<style scoped>\n",
       "    .dataframe tbody tr th:only-of-type {\n",
       "        vertical-align: middle;\n",
       "    }\n",
       "\n",
       "    .dataframe tbody tr th {\n",
       "        vertical-align: top;\n",
       "    }\n",
       "\n",
       "    .dataframe thead th {\n",
       "        text-align: right;\n",
       "    }\n",
       "</style>\n",
       "<table border=\"1\" class=\"dataframe\">\n",
       "  <thead>\n",
       "    <tr style=\"text-align: right;\">\n",
       "      <th></th>\n",
       "      <th>Churn</th>\n",
       "      <th>predicted</th>\n",
       "      <th>onnet_mou_8</th>\n",
       "      <th>offnet_mou_8</th>\n",
       "      <th>roam_og_mou_8</th>\n",
       "      <th>total_ic_mou_8</th>\n",
       "      <th>total_rech_num_8</th>\n",
       "      <th>total_rech_amt_8</th>\n",
       "      <th>last_day_rch_amt_8</th>\n",
       "      <th>aon</th>\n",
       "      <th>avg_ic_mou_6_7</th>\n",
       "      <th>avg_onnet_mou_6_7</th>\n",
       "      <th>avg_offnet_mou_6_7</th>\n",
       "      <th>avg_max_rech_amt_6_7</th>\n",
       "      <th>avg_roam_og_mou_6_7</th>\n",
       "    </tr>\n",
       "  </thead>\n",
       "  <tbody>\n",
       "    <tr>\n",
       "      <th>0</th>\n",
       "      <td>1</td>\n",
       "      <td>1</td>\n",
       "      <td>-0.512513</td>\n",
       "      <td>-0.691025</td>\n",
       "      <td>-0.200767</td>\n",
       "      <td>-0.769451</td>\n",
       "      <td>-1.084671</td>\n",
       "      <td>-0.915587</td>\n",
       "      <td>-0.651737</td>\n",
       "      <td>-1.063405</td>\n",
       "      <td>-0.218482</td>\n",
       "      <td>-0.537085</td>\n",
       "      <td>-0.514176</td>\n",
       "      <td>0.187133</td>\n",
       "      <td>-0.217582</td>\n",
       "    </tr>\n",
       "    <tr>\n",
       "      <th>1</th>\n",
       "      <td>0</td>\n",
       "      <td>0</td>\n",
       "      <td>-0.018397</td>\n",
       "      <td>-0.360419</td>\n",
       "      <td>-0.200767</td>\n",
       "      <td>-0.167064</td>\n",
       "      <td>-0.544693</td>\n",
       "      <td>-0.199936</td>\n",
       "      <td>-0.651737</td>\n",
       "      <td>0.530613</td>\n",
       "      <td>-0.215558</td>\n",
       "      <td>-0.051055</td>\n",
       "      <td>-0.444855</td>\n",
       "      <td>0.187133</td>\n",
       "      <td>-0.046463</td>\n",
       "    </tr>\n",
       "    <tr>\n",
       "      <th>2</th>\n",
       "      <td>0</td>\n",
       "      <td>0</td>\n",
       "      <td>-0.182241</td>\n",
       "      <td>0.143991</td>\n",
       "      <td>-0.200767</td>\n",
       "      <td>0.063906</td>\n",
       "      <td>-0.436698</td>\n",
       "      <td>0.303207</td>\n",
       "      <td>0.276484</td>\n",
       "      <td>0.086379</td>\n",
       "      <td>0.082417</td>\n",
       "      <td>-0.201243</td>\n",
       "      <td>0.170147</td>\n",
       "      <td>-0.325881</td>\n",
       "      <td>-0.253015</td>\n",
       "    </tr>\n",
       "    <tr>\n",
       "      <th>3</th>\n",
       "      <td>0</td>\n",
       "      <td>1</td>\n",
       "      <td>-0.466411</td>\n",
       "      <td>-0.657136</td>\n",
       "      <td>-0.200767</td>\n",
       "      <td>-0.466060</td>\n",
       "      <td>-0.652689</td>\n",
       "      <td>-0.695267</td>\n",
       "      <td>-0.001983</td>\n",
       "      <td>-0.904525</td>\n",
       "      <td>-0.586149</td>\n",
       "      <td>-0.572235</td>\n",
       "      <td>-0.760179</td>\n",
       "      <td>-0.516617</td>\n",
       "      <td>-0.253015</td>\n",
       "    </tr>\n",
       "    <tr>\n",
       "      <th>4</th>\n",
       "      <td>0</td>\n",
       "      <td>1</td>\n",
       "      <td>-0.505022</td>\n",
       "      <td>-0.447960</td>\n",
       "      <td>-0.200767</td>\n",
       "      <td>-0.402294</td>\n",
       "      <td>-0.760684</td>\n",
       "      <td>-0.342129</td>\n",
       "      <td>-0.151926</td>\n",
       "      <td>-1.050861</td>\n",
       "      <td>-0.542215</td>\n",
       "      <td>-0.549302</td>\n",
       "      <td>-0.464658</td>\n",
       "      <td>-0.115414</td>\n",
       "      <td>-0.253015</td>\n",
       "    </tr>\n",
       "  </tbody>\n",
       "</table>\n",
       "</div>"
      ],
      "text/plain": [
       "   Churn  predicted  onnet_mou_8  offnet_mou_8  roam_og_mou_8  total_ic_mou_8  \\\n",
       "0      1          1    -0.512513     -0.691025      -0.200767       -0.769451   \n",
       "1      0          0    -0.018397     -0.360419      -0.200767       -0.167064   \n",
       "2      0          0    -0.182241      0.143991      -0.200767        0.063906   \n",
       "3      0          1    -0.466411     -0.657136      -0.200767       -0.466060   \n",
       "4      0          1    -0.505022     -0.447960      -0.200767       -0.402294   \n",
       "\n",
       "   total_rech_num_8  total_rech_amt_8  last_day_rch_amt_8       aon  \\\n",
       "0         -1.084671         -0.915587           -0.651737 -1.063405   \n",
       "1         -0.544693         -0.199936           -0.651737  0.530613   \n",
       "2         -0.436698          0.303207            0.276484  0.086379   \n",
       "3         -0.652689         -0.695267           -0.001983 -0.904525   \n",
       "4         -0.760684         -0.342129           -0.151926 -1.050861   \n",
       "\n",
       "   avg_ic_mou_6_7  avg_onnet_mou_6_7  avg_offnet_mou_6_7  \\\n",
       "0       -0.218482          -0.537085           -0.514176   \n",
       "1       -0.215558          -0.051055           -0.444855   \n",
       "2        0.082417          -0.201243            0.170147   \n",
       "3       -0.586149          -0.572235           -0.760179   \n",
       "4       -0.542215          -0.549302           -0.464658   \n",
       "\n",
       "   avg_max_rech_amt_6_7  avg_roam_og_mou_6_7  \n",
       "0              0.187133            -0.217582  \n",
       "1              0.187133            -0.046463  \n",
       "2             -0.325881            -0.253015  \n",
       "3             -0.516617            -0.253015  \n",
       "4             -0.115414            -0.253015  "
      ]
     },
     "execution_count": 146,
     "metadata": {},
     "output_type": "execute_result"
    }
   ],
   "source": [
    "#col=[col for col in x_train_sm.columns if col.find('const')==-1]\n",
    "train=X_LM_Train[variablelist]\n",
    "x_train=pd.concat([y_train_pred_final.loc[:,['Churn','predicted']],train],axis=1)\n",
    "x_train.head()\n"
   ]
  },
  {
   "cell_type": "markdown",
   "metadata": {},
   "source": [
    "**Data visualization of important predictors againt Actual churn and the Predicted churn**.\n",
    "\n",
    "\n",
    "Here 0 stand for not churn and 1 stands for churn."
   ]
  },
  {
   "cell_type": "code",
   "execution_count": 147,
   "metadata": {},
   "outputs": [
    {
     "data": {
      "image/png": "[encoded data removed]",
      "text/plain": [
       "<Figure size 1440x2880 with 15 Axes>"
      ]
     },
     "metadata": {
      "needs_background": "light"
     },
     "output_type": "display_data"
    }
   ],
   "source": [
    "def scatter_plot(Y,X):\n",
    "    sns.scatterplot(Y,X,hue='predicted',data=x_train) \n",
    "        \n",
    "i=1\n",
    "plt.figure(figsize=(20,40))\n",
    "\n",
    "for col in x_train.columns: \n",
    "    if(i<=len(x_train.columns)):\n",
    "        plt.subplot(13,2,i)\n",
    "        scatter_plot('Churn',col)\n",
    "        i=i+1"
   ]
  },
  {
   "cell_type": "markdown",
   "metadata": {},
   "source": [
    "### Top indicators of churn "
   ]
  },
  {
   "cell_type": "code",
   "execution_count": 148,
   "metadata": {
    "scrolled": true
   },
   "outputs": [
    {
     "data": {
      "text/plain": [
       "Index(['onnet_mou_8', 'offnet_mou_8', 'roam_og_mou_8', 'total_ic_mou_8',\n",
       "       'total_rech_num_8', 'total_rech_amt_8', 'last_day_rch_amt_8', 'aon',\n",
       "       'avg_ic_mou_6_7', 'avg_onnet_mou_6_7', 'avg_offnet_mou_6_7',\n",
       "       'avg_max_rech_amt_6_7', 'avg_roam_og_mou_6_7'],\n",
       "      dtype='object')"
      ]
     },
     "execution_count": 148,
     "metadata": {},
     "output_type": "execute_result"
    }
   ],
   "source": [
    "X_LM_Train[variablelist].columns"
   ]
  },
  {
   "cell_type": "markdown",
   "metadata": {},
   "source": [
    "##### Calls in all network in good phase"
   ]
  },
  {
   "cell_type": "code",
   "execution_count": 149,
   "metadata": {},
   "outputs": [
    {
     "data": {
      "image/png": "[encoded data removed]",
      "text/plain": [
       "<Figure size 1080x216 with 2 Axes>"
      ]
     },
     "metadata": {
      "needs_background": "light"
     },
     "output_type": "display_data"
    }
   ],
   "source": [
    "f, (ax1, ax2) = plt.subplots(1, 2, figsize=(15, 3), sharey=True)\n",
    "sns.barplot(x=y_train_pred_final[\"Churn\"], y=x_train_sm[\"avg_onnet_mou_6_7\"], ax=ax1);\n",
    "sns.barplot(x=y_train_pred_final[\"Churn\"], y=x_train_sm[\"avg_offnet_mou_6_7\"], ax=ax2);"
   ]
  },
  {
   "cell_type": "markdown",
   "metadata": {},
   "source": [
    "##### Calls in all network in action phase"
   ]
  },
  {
   "cell_type": "code",
   "execution_count": 150,
   "metadata": {
    "scrolled": true
   },
   "outputs": [
    {
     "data": {
      "image/png": "[encoded data removed]",
      "text/plain": [
       "<Figure size 1080x216 with 2 Axes>"
      ]
     },
     "metadata": {
      "needs_background": "light"
     },
     "output_type": "display_data"
    }
   ],
   "source": [
    "f, (ax1, ax2) = plt.subplots(1, 2, figsize=(15, 3), sharey=True)\n",
    "sns.barplot(x=y_train_pred_final[\"Churn\"], y=x_train_sm[\"onnet_mou_8\"], ax=ax1);\n",
    "sns.barplot(x=y_train_pred_final[\"Churn\"], y=x_train_sm[\"offnet_mou_8\"], ax=ax2);"
   ]
  },
  {
   "cell_type": "markdown",
   "metadata": {},
   "source": [
    "##### Observation: \n",
    "Customers reduce all kind of calls within the same operator network/ outside the operator T network are likely to churn... This is one of the major indicators.\n",
    "##### Recommendations :\n",
    "Offering discounts on call rates for within the same network/outside the operator T network would prove fruitful "
   ]
  },
  {
   "cell_type": "markdown",
   "metadata": {},
   "source": [
    "#### Recharge pattern in good phase"
   ]
  },
  {
   "cell_type": "code",
   "execution_count": 151,
   "metadata": {},
   "outputs": [
    {
     "data": {
      "image/png": "[encoded data removed]",
      "text/plain": [
       "<Figure size 360x360 with 1 Axes>"
      ]
     },
     "metadata": {
      "needs_background": "light"
     },
     "output_type": "display_data"
    }
   ],
   "source": [
    "f, ax1 = plt.subplots(1, 1, figsize=(5, 5), sharey=True)\n",
    "sns.barplot(x=y_train_pred_final[\"Churn\"], y=x_train_sm[\"avg_max_rech_amt_6_7\"], ax=ax1);"
   ]
  },
  {
   "cell_type": "markdown",
   "metadata": {},
   "source": [
    "#### Recharge pattern in action phase"
   ]
  },
  {
   "cell_type": "code",
   "execution_count": 152,
   "metadata": {},
   "outputs": [
    {
     "data": {
      "image/png": "[encoded data removed]",
      "text/plain": [
       "<Figure size 1080x216 with 3 Axes>"
      ]
     },
     "metadata": {
      "needs_background": "light"
     },
     "output_type": "display_data"
    }
   ],
   "source": [
    "f, (ax1, ax2, ax3) = plt.subplots(1, 3, figsize=(15, 3), sharey=True)\n",
    "sns.barplot(x=y_train_pred_final[\"Churn\"], y=x_train_sm[\"total_rech_num_8\"], ax=ax1);\n",
    "sns.barplot(x=y_train_pred_final[\"Churn\"], y=x_train_sm[\"total_rech_amt_8\"], ax=ax2);\n",
    "sns.barplot(x=y_train_pred_final[\"Churn\"], y=x_train_sm[\"last_day_rch_amt_8\"], ax=ax3);"
   ]
  },
  {
   "cell_type": "markdown",
   "metadata": {},
   "source": [
    "##### Observation: \n",
    "Customers reduce the number of recharges made/ reduce the amount of recharge, they are mostly likely to churn.\n",
    "Customers recharging closer to the recharge date is also a risk for churn.\n",
    "##### Recommendations :\n",
    "Offer better recharge packages during good phase would attract customers to stay on the same network "
   ]
  },
  {
   "cell_type": "markdown",
   "metadata": {},
   "source": [
    "#### Incoming calls in good phase"
   ]
  },
  {
   "cell_type": "code",
   "execution_count": 153,
   "metadata": {},
   "outputs": [
    {
     "data": {
      "image/png": "[encoded data removed]",
      "text/plain": [
       "<Figure size 360x360 with 1 Axes>"
      ]
     },
     "metadata": {
      "needs_background": "light"
     },
     "output_type": "display_data"
    }
   ],
   "source": [
    "f, ax1 = plt.subplots(1, 1, figsize=(5, 5), sharey=True)\n",
    "sns.barplot(x=y_train_pred_final[\"Churn\"], y=x_train_sm[\"avg_ic_mou_6_7\"], ax=ax1);"
   ]
  },
  {
   "cell_type": "markdown",
   "metadata": {},
   "source": [
    "#### Incoming calls in   action phase"
   ]
  },
  {
   "cell_type": "code",
   "execution_count": 154,
   "metadata": {},
   "outputs": [
    {
     "data": {
      "image/png": "[encoded data removed]",
      "text/plain": [
       "<Figure size 360x360 with 1 Axes>"
      ]
     },
     "metadata": {
      "needs_background": "light"
     },
     "output_type": "display_data"
    }
   ],
   "source": [
    "f, ax1 = plt.subplots(1, 1, figsize=(5, 5), sharey=True)\n",
    "sns.barplot(x=y_train_pred_final[\"Churn\"], y=x_train_sm[\"total_ic_mou_8\"], ax=ax1);"
   ]
  },
  {
   "cell_type": "markdown",
   "metadata": {},
   "source": [
    "##### Observation: \n",
    "Customers drastically reduce their incoming calls in both the action and good phase\n",
    "##### Recommendations :\n",
    "Offer better call packages during good phase would attract customers to stay on the same network "
   ]
  },
  {
   "cell_type": "markdown",
   "metadata": {},
   "source": [
    "#### Age on network"
   ]
  },
  {
   "cell_type": "code",
   "execution_count": 155,
   "metadata": {},
   "outputs": [
    {
     "data": {
      "image/png": "[encoded data removed]",
      "text/plain": [
       "<Figure size 360x360 with 1 Axes>"
      ]
     },
     "metadata": {
      "needs_background": "light"
     },
     "output_type": "display_data"
    }
   ],
   "source": [
    "f, ax1 = plt.subplots(1, 1, figsize=(5, 5), sharey=True)\n",
    "sns.barplot(x=y_train_pred_final[\"Churn\"], y=x_train_sm[\"aon\"], ax=ax1);"
   ]
  },
  {
   "cell_type": "markdown",
   "metadata": {},
   "source": [
    "##### Observation: \n",
    "Tenured customers tend to churn less than newer customerts\n",
    "##### Recommendations :\n",
    "Roll out special offers for tenured customers to retain them and for newer customers, offer surprise offers(customer anniversary offer for instance) on completion of certain months/years with the network so that they look forward to completing those milestones and stay longer."
   ]
  },
  {
   "cell_type": "markdown",
   "metadata": {},
   "source": [
    "#### Roaming outgoing call pattern in good phase"
   ]
  },
  {
   "cell_type": "code",
   "execution_count": 156,
   "metadata": {
    "scrolled": true
   },
   "outputs": [
    {
     "data": {
      "image/png": "[encoded data removed]",
      "text/plain": [
       "<Figure size 360x360 with 1 Axes>"
      ]
     },
     "metadata": {
      "needs_background": "light"
     },
     "output_type": "display_data"
    }
   ],
   "source": [
    "f, ax1 = plt.subplots(1, 1, figsize=(5, 5), sharey=True)\n",
    "sns.barplot(x=y_train_pred_final[\"Churn\"], y=x_train_sm[\"avg_roam_og_mou_6_7\"], ax=ax1);"
   ]
  },
  {
   "cell_type": "markdown",
   "metadata": {},
   "source": [
    "#### Roaming outgoing call pattern in action phase"
   ]
  },
  {
   "cell_type": "code",
   "execution_count": 157,
   "metadata": {
    "scrolled": true
   },
   "outputs": [
    {
     "data": {
      "image/png": "[encoded data removed]",
      "text/plain": [
       "<Figure size 360x360 with 1 Axes>"
      ]
     },
     "metadata": {
      "needs_background": "light"
     },
     "output_type": "display_data"
    }
   ],
   "source": [
    "f, ax1 = plt.subplots(1, 1, figsize=(5, 5), sharey=True)\n",
    "sns.barplot(x=y_train_pred_final[\"Churn\"], y=x_train_sm[\"roam_og_mou_8\"], ax=ax1);"
   ]
  },
  {
   "cell_type": "markdown",
   "metadata": {},
   "source": [
    "##### Observation: \n",
    "Churners seem to be on roaming more than non-churners\n",
    "##### Recommendations :\n",
    "Offer better call roaming packages to customers whose roaming call minutes of usage is higher."
   ]
  },
  {
   "cell_type": "markdown",
   "metadata": {
    "collapsed": true
   },
   "source": [
    "The important predictors are:\n",
    "\n",
    "1. Age on network 'aon'\n",
    "2. Average incoming call minute of usage during good phase & acion phase 'avg_ic_mou_6_7'and 'total_ic_mou_8' \n",
    "3. All kind of calls outside the operator T network  \"avg_onnet_mou_6_7\" and \"onnet_mou_8\" during good and action phase &\n",
    "   within the same operator network during good phase and actio phase \"avg_offnet_mou_6_7\" and \"offnet_mou_8\"\n",
    "4. Roaming outgoing calls minute of usage during action phase and good phase'roam_og_mou_8' & \"avg_roam_og_mou_6_7\"\n",
    "5. Average maximum recharge amount during good phase 'avg_max_rech_amt_6_7'\n",
    "6. Last day recharge amount during action phase \"last_day_rch_amt_8\"\n",
    "7. Total recharge amount during action phase wrt \"total_rech_amt_8\"\n",
    "8. Total recharge number during action phase \"total_rech_num_8\"\n"
   ]
  }
 ],
 "metadata": {
  "kernelspec": {
   "display_name": "Python 3",
   "language": "python",
   "name": "python3"
  },
  "language_info": {
   "codemirror_mode": {
    "name": "ipython",
    "version": 3
   },
   "file_extension": ".py",
   "mimetype": "text/x-python",
   "name": "python",
   "nbconvert_exporter": "python",
   "pygments_lexer": "ipython3",
   "version": "3.7.1"
  },
  "varInspector": {
   "cols": {
    "lenName": 16,
    "lenType": 16,
    "lenVar": 40
   },
   "kernels_config": {
    "python": {
     "delete_cmd_postfix": "",
     "delete_cmd_prefix": "del ",
     "library": "var_list.py",
     "varRefreshCmd": "print(var_dic_list())"
    },
    "r": {
     "delete_cmd_postfix": ") ",
     "delete_cmd_prefix": "rm(",
     "library": "var_list.r",
     "varRefreshCmd": "cat(var_dic_list()) "
    }
   },
   "types_to_exclude": [
    "module",
    "function",
    "builtin_function_or_method",
    "instance",
    "_Feature"
   ],
   "window_display": false
  }
 },
 "nbformat": 4,
 "nbformat_minor": 2
}
